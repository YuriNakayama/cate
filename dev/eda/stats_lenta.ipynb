{
 "cells": [
  {
   "cell_type": "code",
   "execution_count": 1,
   "metadata": {},
   "outputs": [],
   "source": [
    "import pandas as pd"
   ]
  },
  {
   "cell_type": "code",
   "execution_count": 2,
   "metadata": {},
   "outputs": [],
   "source": [
    "df = pd.read_csv(\"/workspace/data/lenta/lenta.csv\")"
   ]
  },
  {
   "cell_type": "code",
   "execution_count": 16,
   "metadata": {},
   "outputs": [],
   "source": [
    "from sklift.datasets.datasets import fetch_criteo, fetch_lenta"
   ]
  },
  {
   "cell_type": "code",
   "execution_count": 18,
   "metadata": {},
   "outputs": [
    {
     "ename": "OSError",
     "evalue": "Could not find kaggle.json. Make sure it's located in /root/.config/kaggle. Or use the environment method. See setup instructions at https://github.com/Kaggle/kaggle-api/",
     "output_type": "error",
     "traceback": [
      "\u001b[0;31m---------------------------------------------------------------------------\u001b[0m",
      "\u001b[0;31mOSError\u001b[0m                                   Traceback (most recent call last)",
      "Cell \u001b[0;32mIn[18], line 1\u001b[0m\n\u001b[0;32m----> 1\u001b[0m \u001b[38;5;28;01mimport\u001b[39;00m \u001b[38;5;21;01mkaggle\u001b[39;00m\n",
      "File \u001b[0;32m/workspace/.venv/lib/python3.11/site-packages/kaggle/__init__.py:7\u001b[0m\n\u001b[1;32m      4\u001b[0m \u001b[38;5;28;01mfrom\u001b[39;00m \u001b[38;5;21;01mkaggle\u001b[39;00m\u001b[38;5;21;01m.\u001b[39;00m\u001b[38;5;21;01mapi_client\u001b[39;00m \u001b[38;5;28;01mimport\u001b[39;00m ApiClient\n\u001b[1;32m      6\u001b[0m api \u001b[38;5;241m=\u001b[39m KaggleApi(ApiClient())\n\u001b[0;32m----> 7\u001b[0m \u001b[43mapi\u001b[49m\u001b[38;5;241;43m.\u001b[39;49m\u001b[43mauthenticate\u001b[49m\u001b[43m(\u001b[49m\u001b[43m)\u001b[49m\n",
      "File \u001b[0;32m/workspace/.venv/lib/python3.11/site-packages/kaggle/api/kaggle_api_extended.py:407\u001b[0m, in \u001b[0;36mKaggleApi.authenticate\u001b[0;34m(self)\u001b[0m\n\u001b[1;32m    405\u001b[0m         \u001b[38;5;28;01mreturn\u001b[39;00m\n\u001b[1;32m    406\u001b[0m     \u001b[38;5;28;01melse\u001b[39;00m:\n\u001b[0;32m--> 407\u001b[0m         \u001b[38;5;28;01mraise\u001b[39;00m \u001b[38;5;167;01mIOError\u001b[39;00m(\u001b[38;5;124m'\u001b[39m\u001b[38;5;124mCould not find \u001b[39m\u001b[38;5;132;01m{}\u001b[39;00m\u001b[38;5;124m. Make sure it\u001b[39m\u001b[38;5;130;01m\\'\u001b[39;00m\u001b[38;5;124ms located in\u001b[39m\u001b[38;5;124m'\u001b[39m\n\u001b[1;32m    408\u001b[0m                       \u001b[38;5;124m'\u001b[39m\u001b[38;5;124m \u001b[39m\u001b[38;5;132;01m{}\u001b[39;00m\u001b[38;5;124m. Or use the environment method. See setup\u001b[39m\u001b[38;5;124m'\u001b[39m\n\u001b[1;32m    409\u001b[0m                       \u001b[38;5;124m'\u001b[39m\u001b[38;5;124m instructions at\u001b[39m\u001b[38;5;124m'\u001b[39m\n\u001b[1;32m    410\u001b[0m                       \u001b[38;5;124m'\u001b[39m\u001b[38;5;124m https://github.com/Kaggle/kaggle-api/\u001b[39m\u001b[38;5;124m'\u001b[39m\u001b[38;5;241m.\u001b[39mformat(\n\u001b[1;32m    411\u001b[0m                           \u001b[38;5;28mself\u001b[39m\u001b[38;5;241m.\u001b[39mconfig_file, \u001b[38;5;28mself\u001b[39m\u001b[38;5;241m.\u001b[39mconfig_dir))\n\u001b[1;32m    413\u001b[0m \u001b[38;5;66;03m# Step 3: load into configuration!\u001b[39;00m\n\u001b[1;32m    414\u001b[0m \u001b[38;5;28mself\u001b[39m\u001b[38;5;241m.\u001b[39m_load_config(config_data)\n",
      "\u001b[0;31mOSError\u001b[0m: Could not find kaggle.json. Make sure it's located in /root/.config/kaggle. Or use the environment method. See setup instructions at https://github.com/Kaggle/kaggle-api/"
     ]
    }
   ],
   "source": [
    "import kaggle"
   ]
  },
  {
   "cell_type": "code",
   "execution_count": 17,
   "metadata": {},
   "outputs": [
    {
     "name": "stderr",
     "output_type": "stream",
     "text": [
      "Lenta dataset: 100%|██████████| 145M/145M [00:04<00:00, 33.0MiB/s] \n"
     ]
    },
    {
     "data": {
      "text/plain": [
       "{'data':          age  ...  stdev_discount_depth_1m\n",
       " 0       47.0  ...                   0.3008\n",
       " 1       57.0  ...                   0.0000\n",
       " 2       38.0  ...                   0.0803\n",
       " 3       65.0  ...                   0.0000\n",
       " 4       61.0  ...                   0.3495\n",
       " ...      ...  ...                      ...\n",
       " 687024  35.0  ...                   0.3282\n",
       " 687025  33.0  ...                   0.0000\n",
       " 687026  36.0  ...                      NaN\n",
       " 687027  37.0  ...                      NaN\n",
       " 687028  40.0  ...                   0.0000\n",
       " \n",
       " [687029 rows x 193 columns],\n",
       " 'target': 0         0\n",
       " 1         0\n",
       " 2         0\n",
       " 3         0\n",
       " 4         0\n",
       "          ..\n",
       " 687024    0\n",
       " 687025    0\n",
       " 687026    0\n",
       " 687027    0\n",
       " 687028    0\n",
       " Name: response_att, Length: 687029, dtype: int64,\n",
       " 'treatment': 0            test\n",
       " 1            test\n",
       " 2         control\n",
       " 3            test\n",
       " 4            test\n",
       "            ...   \n",
       " 687024    control\n",
       " 687025       test\n",
       " 687026    control\n",
       " 687027    control\n",
       " 687028       test\n",
       " Name: group, Length: 687029, dtype: object,\n",
       " 'DESCR': 'Lenta Uplift Modeling Dataset\\n================================\\n\\nData description\\n################\\n\\nAn uplift modeling dataset containing data about Lenta\\'s customers grociery shopping and related marketing campaigns.\\n\\nSource: **BigTarget Hackathon** hosted by Lenta and Microsoft in summer 2020.\\n\\nFields\\n################\\n\\nMajor features:\\n\\n    * ``group`` (str): treatment/control group flag\\n    * ``response_att`` (binary): target\\n    * ``gender`` (str): customer gender\\n    * ``age`` (float): customer age\\n    * ``main_format`` (int): store type (1 - grociery store, 0 - superstore)\\n\\n\\n.. list-table::\\n    :align: center\\n    :header-rows: 1\\n    :widths: 5 5\\n\\n    * - Feature\\n      - Description\\n    * - CardHolder\\n      - customer id\\n    * - customer\\n      - age\\n    * - children\\n      - number of children\\n    * - cheque_count_[3,6,12]m_g*\\n      - number of customer receipts collected within last 3, 6, 12 months\\n        before campaign. g* is a product group\\n    * - crazy_purchases_cheque_count_[1,3,6,12]m\\n      - number of customer receipts with items purchased on \"crazy\"\\n        marketing campaign collected within last 1, 3, 6, 12 months before campaign\\n    * - crazy_purchases_goods_count_[6,12]m\\n      - items amount purchased on \"crazy\" marketing campaign collected\\n        within last 6, 12 months before campaign\\n    * - disc_sum_6m_g34\\n      - discount sum for past 6 month on a 34 product group\\n    * - food_share_[15d,1m]\\n      - food share in customer purchases for 15 days, 1 month\\n    * - gender\\n      - customer gender\\n    * - group\\n      - treatment/control group flag\\n    * - k_var_cheque_[15d,3m]\\n      - average check coefficient of variation for 15 days, 3 months\\n    * - k_var_cheque_category_width_15d\\n      - coefficient of variation of the average number of purchased\\n        categories (2nd level of the hierarchy) in one receipt for 15 days\\n    * - k_var_cheque_group_width_15d\\n      - coefficient of variation of the average number of purchased\\n        groups (1st level of the hierarchy) in one receipt for 15 days\\n    * - k_var_count_per_cheque_[15d,1m,3m,6m]_g*\\n      - unique product id (SKU) coefficient of variation for 15 days, 1, 3 ,6 months\\n        for g* product group\\n    * - k_var_days_between_visits_[15d,1m,3m]\\n      - coefficient of variation of the average period between visits\\n        for 15 days, 1 month, 3 months\\n    * - k_var_disc_per_cheque_15d\\n      - discount sum coefficient of variation for 15 days\\n    * - k_var_disc_share_[15d,1m,3m,6m,12m]_g*\\n      - discount amount coefficient of variation for 15 days, 1 month, 3 months, 6 months, 12 months\\n        for g* product group\\n    * - k_var_discount_depth_[15d,1m]\\n      - discount amount coefficient of variation for 15 days, 1 month\\n    * - k_var_sku_per_cheque_15d\\n      - number of unique product ids (SKU) coefficient of variation\\n        for 15 days\\n    * - k_var_sku_price_12m_g*\\n      - price coefficient of variation for 15 days, 3, 6, 12 months\\n        for g* product group\\n    * - main_format\\n      - store type (1 - grociery store, 0 - superstore)\\n    * - mean_discount_depth_15d\\n      - mean discount depth for 15 days\\n    * - months_from_register\\n      - number of months from a moment of register\\n    * - perdelta_days_between_visits_15_30d\\n      - timdelta in percent between visits during the first half\\n        of the month and visits during second half of the month\\n    * - promo_share_15d\\n      - promo goods share in the customer bucket\\n    * - response_att\\n      - binary target variable = store visit\\n    * - response_sms\\n      - share of customer responses to previous SMS.\\n        Response = store visit\\n    * - response_viber\\n      - share of responses to previous Viber messages.\\n        Response = store visit\\n    * - sale_count_[3,6,12]m_g*\\n      - number of purchased items from the group * for 3, 6, 12 months\\n    * - sale_sum_[3,6,12]m_g*\\n      - sum of sales from the group * for 3, 6, 12 months\\n    * - stdev_days_between_visits_15d\\n      - coefficient of variation of the days between visits for 15 days\\n    * - stdev_discount_depth_[15d,1m]\\n      - discount sum coefficient of variation for 15 days, 1 month\\n\\nKey figures\\n################\\n\\n* Format: CSV\\n* Size: 153M (compressed) 567M (uncompressed)\\n* Rows: 687,029\\n* Response Ratio: .1\\n* Treatment Ratio: .75\\n\\n',\n",
       " 'feature_names': ['age',\n",
       "  'cheque_count_12m_g20',\n",
       "  'cheque_count_12m_g21',\n",
       "  'cheque_count_12m_g25',\n",
       "  'cheque_count_12m_g32',\n",
       "  'cheque_count_12m_g33',\n",
       "  'cheque_count_12m_g38',\n",
       "  'cheque_count_12m_g39',\n",
       "  'cheque_count_12m_g41',\n",
       "  'cheque_count_12m_g42',\n",
       "  'cheque_count_12m_g45',\n",
       "  'cheque_count_12m_g46',\n",
       "  'cheque_count_12m_g48',\n",
       "  'cheque_count_12m_g52',\n",
       "  'cheque_count_12m_g56',\n",
       "  'cheque_count_12m_g57',\n",
       "  'cheque_count_12m_g58',\n",
       "  'cheque_count_12m_g79',\n",
       "  'cheque_count_3m_g20',\n",
       "  'cheque_count_3m_g21',\n",
       "  'cheque_count_3m_g25',\n",
       "  'cheque_count_3m_g42',\n",
       "  'cheque_count_3m_g45',\n",
       "  'cheque_count_3m_g52',\n",
       "  'cheque_count_3m_g56',\n",
       "  'cheque_count_3m_g57',\n",
       "  'cheque_count_3m_g79',\n",
       "  'cheque_count_6m_g20',\n",
       "  'cheque_count_6m_g21',\n",
       "  'cheque_count_6m_g25',\n",
       "  'cheque_count_6m_g32',\n",
       "  'cheque_count_6m_g33',\n",
       "  'cheque_count_6m_g38',\n",
       "  'cheque_count_6m_g39',\n",
       "  'cheque_count_6m_g40',\n",
       "  'cheque_count_6m_g41',\n",
       "  'cheque_count_6m_g42',\n",
       "  'cheque_count_6m_g45',\n",
       "  'cheque_count_6m_g46',\n",
       "  'cheque_count_6m_g48',\n",
       "  'cheque_count_6m_g52',\n",
       "  'cheque_count_6m_g56',\n",
       "  'cheque_count_6m_g57',\n",
       "  'cheque_count_6m_g58',\n",
       "  'cheque_count_6m_g79',\n",
       "  'children',\n",
       "  'crazy_purchases_cheque_count_12m',\n",
       "  'crazy_purchases_cheque_count_1m',\n",
       "  'crazy_purchases_cheque_count_3m',\n",
       "  'crazy_purchases_cheque_count_6m',\n",
       "  'crazy_purchases_goods_count_12m',\n",
       "  'crazy_purchases_goods_count_6m',\n",
       "  'disc_sum_6m_g34',\n",
       "  'food_share_15d',\n",
       "  'food_share_1m',\n",
       "  'gender',\n",
       "  'k_var_cheque_15d',\n",
       "  'k_var_cheque_3m',\n",
       "  'k_var_cheque_category_width_15d',\n",
       "  'k_var_cheque_group_width_15d',\n",
       "  'k_var_count_per_cheque_15d_g24',\n",
       "  'k_var_count_per_cheque_15d_g34',\n",
       "  'k_var_count_per_cheque_1m_g24',\n",
       "  'k_var_count_per_cheque_1m_g27',\n",
       "  'k_var_count_per_cheque_1m_g34',\n",
       "  'k_var_count_per_cheque_1m_g44',\n",
       "  'k_var_count_per_cheque_1m_g49',\n",
       "  'k_var_count_per_cheque_3m_g24',\n",
       "  'k_var_count_per_cheque_3m_g27',\n",
       "  'k_var_count_per_cheque_3m_g32',\n",
       "  'k_var_count_per_cheque_3m_g34',\n",
       "  'k_var_count_per_cheque_3m_g41',\n",
       "  'k_var_count_per_cheque_3m_g44',\n",
       "  'k_var_count_per_cheque_6m_g24',\n",
       "  'k_var_count_per_cheque_6m_g27',\n",
       "  'k_var_count_per_cheque_6m_g32',\n",
       "  'k_var_count_per_cheque_6m_g44',\n",
       "  'k_var_days_between_visits_15d',\n",
       "  'k_var_days_between_visits_1m',\n",
       "  'k_var_days_between_visits_3m',\n",
       "  'k_var_disc_per_cheque_15d',\n",
       "  'k_var_disc_share_12m_g32',\n",
       "  'k_var_disc_share_15d_g24',\n",
       "  'k_var_disc_share_15d_g34',\n",
       "  'k_var_disc_share_15d_g49',\n",
       "  'k_var_disc_share_1m_g24',\n",
       "  'k_var_disc_share_1m_g27',\n",
       "  'k_var_disc_share_1m_g34',\n",
       "  'k_var_disc_share_1m_g40',\n",
       "  'k_var_disc_share_1m_g44',\n",
       "  'k_var_disc_share_1m_g49',\n",
       "  'k_var_disc_share_1m_g54',\n",
       "  'k_var_disc_share_3m_g24',\n",
       "  'k_var_disc_share_3m_g26',\n",
       "  'k_var_disc_share_3m_g27',\n",
       "  'k_var_disc_share_3m_g32',\n",
       "  'k_var_disc_share_3m_g33',\n",
       "  'k_var_disc_share_3m_g34',\n",
       "  'k_var_disc_share_3m_g38',\n",
       "  'k_var_disc_share_3m_g40',\n",
       "  'k_var_disc_share_3m_g41',\n",
       "  'k_var_disc_share_3m_g44',\n",
       "  'k_var_disc_share_3m_g46',\n",
       "  'k_var_disc_share_3m_g48',\n",
       "  'k_var_disc_share_3m_g49',\n",
       "  'k_var_disc_share_3m_g54',\n",
       "  'k_var_disc_share_6m_g24',\n",
       "  'k_var_disc_share_6m_g27',\n",
       "  'k_var_disc_share_6m_g32',\n",
       "  'k_var_disc_share_6m_g34',\n",
       "  'k_var_disc_share_6m_g44',\n",
       "  'k_var_disc_share_6m_g46',\n",
       "  'k_var_disc_share_6m_g49',\n",
       "  'k_var_disc_share_6m_g54',\n",
       "  'k_var_discount_depth_15d',\n",
       "  'k_var_discount_depth_1m',\n",
       "  'k_var_sku_per_cheque_15d',\n",
       "  'k_var_sku_price_12m_g32',\n",
       "  'k_var_sku_price_15d_g34',\n",
       "  'k_var_sku_price_15d_g49',\n",
       "  'k_var_sku_price_1m_g24',\n",
       "  'k_var_sku_price_1m_g26',\n",
       "  'k_var_sku_price_1m_g27',\n",
       "  'k_var_sku_price_1m_g34',\n",
       "  'k_var_sku_price_1m_g40',\n",
       "  'k_var_sku_price_1m_g44',\n",
       "  'k_var_sku_price_1m_g49',\n",
       "  'k_var_sku_price_1m_g54',\n",
       "  'k_var_sku_price_3m_g24',\n",
       "  'k_var_sku_price_3m_g26',\n",
       "  'k_var_sku_price_3m_g27',\n",
       "  'k_var_sku_price_3m_g32',\n",
       "  'k_var_sku_price_3m_g33',\n",
       "  'k_var_sku_price_3m_g34',\n",
       "  'k_var_sku_price_3m_g40',\n",
       "  'k_var_sku_price_3m_g41',\n",
       "  'k_var_sku_price_3m_g44',\n",
       "  'k_var_sku_price_3m_g46',\n",
       "  'k_var_sku_price_3m_g48',\n",
       "  'k_var_sku_price_3m_g49',\n",
       "  'k_var_sku_price_3m_g54',\n",
       "  'k_var_sku_price_6m_g24',\n",
       "  'k_var_sku_price_6m_g26',\n",
       "  'k_var_sku_price_6m_g27',\n",
       "  'k_var_sku_price_6m_g32',\n",
       "  'k_var_sku_price_6m_g41',\n",
       "  'k_var_sku_price_6m_g42',\n",
       "  'k_var_sku_price_6m_g44',\n",
       "  'k_var_sku_price_6m_g48',\n",
       "  'k_var_sku_price_6m_g49',\n",
       "  'main_format',\n",
       "  'mean_discount_depth_15d',\n",
       "  'months_from_register',\n",
       "  'perdelta_days_between_visits_15_30d',\n",
       "  'promo_share_15d',\n",
       "  'response_sms',\n",
       "  'response_viber',\n",
       "  'sale_count_12m_g32',\n",
       "  'sale_count_12m_g33',\n",
       "  'sale_count_12m_g49',\n",
       "  'sale_count_12m_g54',\n",
       "  'sale_count_12m_g57',\n",
       "  'sale_count_3m_g24',\n",
       "  'sale_count_3m_g33',\n",
       "  'sale_count_3m_g57',\n",
       "  'sale_count_6m_g24',\n",
       "  'sale_count_6m_g25',\n",
       "  'sale_count_6m_g32',\n",
       "  'sale_count_6m_g33',\n",
       "  'sale_count_6m_g44',\n",
       "  'sale_count_6m_g54',\n",
       "  'sale_count_6m_g57',\n",
       "  'sale_sum_12m_g24',\n",
       "  'sale_sum_12m_g25',\n",
       "  'sale_sum_12m_g26',\n",
       "  'sale_sum_12m_g27',\n",
       "  'sale_sum_12m_g32',\n",
       "  'sale_sum_12m_g44',\n",
       "  'sale_sum_12m_g54',\n",
       "  'sale_sum_3m_g24',\n",
       "  'sale_sum_3m_g26',\n",
       "  'sale_sum_3m_g32',\n",
       "  'sale_sum_3m_g33',\n",
       "  'sale_sum_6m_g24',\n",
       "  'sale_sum_6m_g25',\n",
       "  'sale_sum_6m_g26',\n",
       "  'sale_sum_6m_g32',\n",
       "  'sale_sum_6m_g33',\n",
       "  'sale_sum_6m_g44',\n",
       "  'sale_sum_6m_g54',\n",
       "  'stdev_days_between_visits_15d',\n",
       "  'stdev_discount_depth_15d',\n",
       "  'stdev_discount_depth_1m'],\n",
       " 'target_name': 'response_att',\n",
       " 'treatment_name': 'group'}"
      ]
     },
     "execution_count": 17,
     "metadata": {},
     "output_type": "execute_result"
    }
   ],
   "source": [
    "fetch_lenta()"
   ]
  },
  {
   "cell_type": "code",
   "execution_count": 8,
   "metadata": {},
   "outputs": [
    {
     "data": {
      "text/plain": [
       "group\n",
       "test       515892\n",
       "control    171137\n",
       "Name: count, dtype: int64"
      ]
     },
     "execution_count": 8,
     "metadata": {},
     "output_type": "execute_result"
    }
   ],
   "source": [
    "df.value_counts(\"group\")"
   ]
  },
  {
   "cell_type": "code",
   "execution_count": 9,
   "metadata": {},
   "outputs": [
    {
     "data": {
      "text/plain": [
       "response_att\n",
       "0    612661\n",
       "1     74368\n",
       "Name: count, dtype: int64"
      ]
     },
     "execution_count": 9,
     "metadata": {},
     "output_type": "execute_result"
    }
   ],
   "source": [
    "df.value_counts(\"response_att\")"
   ]
  },
  {
   "cell_type": "code",
   "execution_count": 10,
   "metadata": {},
   "outputs": [
    {
     "data": {
      "text/plain": [
       "0.0075471269267721325"
      ]
     },
     "execution_count": 10,
     "metadata": {},
     "output_type": "execute_result"
    }
   ],
   "source": [
    "treatment_flg = df[\"group\"] == \"test\"\n",
    "(\n",
    "    df.loc[treatment_flg, \"response_att\"].mean()\n",
    "    - df.loc[~treatment_flg, \"response_att\"].mean()\n",
    ")"
   ]
  },
  {
   "cell_type": "code",
   "execution_count": null,
   "metadata": {},
   "outputs": [],
   "source": []
  }
 ],
 "metadata": {
  "kernelspec": {
   "display_name": ".venv",
   "language": "python",
   "name": "python3"
  },
  "language_info": {
   "codemirror_mode": {
    "name": "ipython",
    "version": 3
   },
   "file_extension": ".py",
   "mimetype": "text/x-python",
   "name": "python",
   "nbconvert_exporter": "python",
   "pygments_lexer": "ipython3",
   "version": "3.11.10"
  }
 },
 "nbformat": 4,
 "nbformat_minor": 2
}
