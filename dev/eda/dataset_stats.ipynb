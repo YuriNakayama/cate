{
 "cells": [
  {
   "cell_type": "code",
   "execution_count": 1,
   "metadata": {},
   "outputs": [],
   "source": [
    "from tempfile import TemporaryDirectory\n",
    "\n",
    "import mlflow\n",
    "import mlflow.artifacts\n",
    "import numpy as np\n",
    "import pandas as pd\n",
    "\n",
    "import cate.dataset as cds\n",
    "from cate.infra.mlflow import REMOTE_TRACKING_URI\n",
    "from cate.utils import path_linker\n"
   ]
  },
  {
   "cell_type": "code",
   "execution_count": 2,
   "metadata": {},
   "outputs": [],
   "source": [
    "mlflow.set_tracking_uri(REMOTE_TRACKING_URI)"
   ]
  },
  {
   "cell_type": "code",
   "execution_count": 3,
   "metadata": {},
   "outputs": [],
   "source": [
    "stats = {}"
   ]
  },
  {
   "cell_type": "code",
   "execution_count": 4,
   "metadata": {},
   "outputs": [],
   "source": [
    "dataset_names = (\"criteo\", \"hillstorm\", \"lenta\", \"megafon\")\n",
    "ds_list = [cds.Dataset.load(path_linker(name).mart) for name in dataset_names]"
   ]
  },
  {
   "cell_type": "code",
   "execution_count": 5,
   "metadata": {},
   "outputs": [],
   "source": [
    "stats[\"count\"] = [len(ds) for ds in ds_list]\n",
    "stats[\"explanatory_count\"] = [ds.X.shape[1] for ds in ds_list]\n",
    "stats[\"conversion_rate\"] = [np.mean(ds.y) for ds in ds_list]\n",
    "stats[\"tg_rate\"] = [np.mean(ds.w) for ds in ds_list]"
   ]
  },
  {
   "cell_type": "code",
   "execution_count": 6,
   "metadata": {},
   "outputs": [],
   "source": [
    "ates = []\n",
    "for ds in ds_list:\n",
    "    ate = np.mean(ds.y[ds.w == 1]) - np.mean(ds.y[ds.w == 0])\n",
    "    ates.append(ate)\n",
    "stats[\"ate\"] = ates"
   ]
  },
  {
   "cell_type": "code",
   "execution_count": 7,
   "metadata": {},
   "outputs": [],
   "source": [
    "df = pd.DataFrame(stats, index=dataset_names)"
   ]
  },
  {
   "cell_type": "code",
   "execution_count": 8,
   "metadata": {},
   "outputs": [],
   "source": [
    "run_ids = [\n",
    "    \"43672a60028541aca258a276de5b80d4\",\n",
    "    \"8d77d119af6e4c9f820e9dd564b76620\",\n",
    "    \"c3ca1d7631524ef99b578cdf84133bf9\",\n",
    "      \"c2ecc90d9d99484ba4d920578bf612f8\",\n",
    "]"
   ]
  },
  {
   "cell_type": "code",
   "execution_count": 9,
   "metadata": {},
   "outputs": [],
   "source": [
    "metrics_df = pd.DataFrame(\n",
    "    [mlflow.get_run(run_id).data.metrics for run_id in run_ids],\n",
    "    index=[mlflow.get_run(run_id).data.tags[\"dataset\"] for run_id in run_ids],\n",
    ")"
   ]
  },
  {
   "cell_type": "code",
   "execution_count": 10,
   "metadata": {},
   "outputs": [],
   "source": [
    "df = pd.concat([df, metrics_df], axis=1)"
   ]
  },
  {
   "cell_type": "code",
   "execution_count": 11,
   "metadata": {},
   "outputs": [
    {
     "data": {
      "text/html": [
       "<div>\n",
       "<style scoped>\n",
       "    .dataframe tbody tr th:only-of-type {\n",
       "        vertical-align: middle;\n",
       "    }\n",
       "\n",
       "    .dataframe tbody tr th {\n",
       "        vertical-align: top;\n",
       "    }\n",
       "\n",
       "    .dataframe thead th {\n",
       "        text-align: right;\n",
       "    }\n",
       "</style>\n",
       "<table border=\"1\" class=\"dataframe\">\n",
       "  <thead>\n",
       "    <tr style=\"text-align: right;\">\n",
       "      <th></th>\n",
       "      <th>count</th>\n",
       "      <th>explanatory_count</th>\n",
       "      <th>conversion_rate</th>\n",
       "      <th>tg_rate</th>\n",
       "      <th>ate</th>\n",
       "      <th>accuracy</th>\n",
       "      <th>auuc</th>\n",
       "      <th>f1</th>\n",
       "      <th>precision</th>\n",
       "      <th>qini_at_0</th>\n",
       "      <th>...</th>\n",
       "      <th>uplift_at_10</th>\n",
       "      <th>uplift_at_100</th>\n",
       "      <th>uplift_at_20</th>\n",
       "      <th>uplift_at_30</th>\n",
       "      <th>uplift_at_40</th>\n",
       "      <th>uplift_at_50</th>\n",
       "      <th>uplift_at_60</th>\n",
       "      <th>uplift_at_70</th>\n",
       "      <th>uplift_at_80</th>\n",
       "      <th>uplift_at_90</th>\n",
       "    </tr>\n",
       "  </thead>\n",
       "  <tbody>\n",
       "    <tr>\n",
       "      <th>criteo</th>\n",
       "      <td>13979592</td>\n",
       "      <td>12</td>\n",
       "      <td>0.002917</td>\n",
       "      <td>0.850000</td>\n",
       "      <td>0.001152</td>\n",
       "      <td>0.996983</td>\n",
       "      <td>0.022502</td>\n",
       "      <td>0.148916</td>\n",
       "      <td>0.420082</td>\n",
       "      <td>0.0</td>\n",
       "      <td>...</td>\n",
       "      <td>0.008099</td>\n",
       "      <td>0.001152</td>\n",
       "      <td>0.004818</td>\n",
       "      <td>0.003427</td>\n",
       "      <td>0.002650</td>\n",
       "      <td>0.002164</td>\n",
       "      <td>0.001816</td>\n",
       "      <td>0.001557</td>\n",
       "      <td>0.001362</td>\n",
       "      <td>0.001216</td>\n",
       "    </tr>\n",
       "    <tr>\n",
       "      <th>hillstorm</th>\n",
       "      <td>64000</td>\n",
       "      <td>12</td>\n",
       "      <td>0.009031</td>\n",
       "      <td>0.667094</td>\n",
       "      <td>0.004955</td>\n",
       "      <td>0.990953</td>\n",
       "      <td>0.027119</td>\n",
       "      <td>0.000000</td>\n",
       "      <td>0.000000</td>\n",
       "      <td>0.0</td>\n",
       "      <td>...</td>\n",
       "      <td>0.006971</td>\n",
       "      <td>0.004955</td>\n",
       "      <td>0.006529</td>\n",
       "      <td>0.004975</td>\n",
       "      <td>0.004978</td>\n",
       "      <td>0.004922</td>\n",
       "      <td>0.004581</td>\n",
       "      <td>0.004693</td>\n",
       "      <td>0.004590</td>\n",
       "      <td>0.004699</td>\n",
       "    </tr>\n",
       "    <tr>\n",
       "      <th>lenta</th>\n",
       "      <td>687029</td>\n",
       "      <td>195</td>\n",
       "      <td>0.108246</td>\n",
       "      <td>0.750903</td>\n",
       "      <td>0.007547</td>\n",
       "      <td>0.897426</td>\n",
       "      <td>0.052232</td>\n",
       "      <td>0.215359</td>\n",
       "      <td>0.626157</td>\n",
       "      <td>0.0</td>\n",
       "      <td>...</td>\n",
       "      <td>0.008072</td>\n",
       "      <td>0.007547</td>\n",
       "      <td>0.009561</td>\n",
       "      <td>0.010369</td>\n",
       "      <td>0.010199</td>\n",
       "      <td>0.009978</td>\n",
       "      <td>0.009101</td>\n",
       "      <td>0.008741</td>\n",
       "      <td>0.008339</td>\n",
       "      <td>0.008061</td>\n",
       "    </tr>\n",
       "    <tr>\n",
       "      <th>megafon</th>\n",
       "      <td>600000</td>\n",
       "      <td>50</td>\n",
       "      <td>0.204190</td>\n",
       "      <td>0.500613</td>\n",
       "      <td>0.049519</td>\n",
       "      <td>0.824510</td>\n",
       "      <td>0.612967</td>\n",
       "      <td>0.311210</td>\n",
       "      <td>0.783653</td>\n",
       "      <td>0.0</td>\n",
       "      <td>...</td>\n",
       "      <td>0.050159</td>\n",
       "      <td>0.049519</td>\n",
       "      <td>0.111955</td>\n",
       "      <td>0.112237</td>\n",
       "      <td>0.106464</td>\n",
       "      <td>0.101118</td>\n",
       "      <td>0.095894</td>\n",
       "      <td>0.089361</td>\n",
       "      <td>0.080046</td>\n",
       "      <td>0.063808</td>\n",
       "    </tr>\n",
       "  </tbody>\n",
       "</table>\n",
       "<p>4 rows × 46 columns</p>\n",
       "</div>"
      ],
      "text/plain": [
       "              count  explanatory_count  conversion_rate   tg_rate       ate  \\\n",
       "criteo     13979592                 12         0.002917  0.850000  0.001152   \n",
       "hillstorm     64000                 12         0.009031  0.667094  0.004955   \n",
       "lenta        687029                195         0.108246  0.750903  0.007547   \n",
       "megafon      600000                 50         0.204190  0.500613  0.049519   \n",
       "\n",
       "           accuracy      auuc        f1  precision  qini_at_0  ...  \\\n",
       "criteo     0.996983  0.022502  0.148916   0.420082        0.0  ...   \n",
       "hillstorm  0.990953  0.027119  0.000000   0.000000        0.0  ...   \n",
       "lenta      0.897426  0.052232  0.215359   0.626157        0.0  ...   \n",
       "megafon    0.824510  0.612967  0.311210   0.783653        0.0  ...   \n",
       "\n",
       "           uplift_at_10  uplift_at_100  uplift_at_20  uplift_at_30  \\\n",
       "criteo         0.008099       0.001152      0.004818      0.003427   \n",
       "hillstorm      0.006971       0.004955      0.006529      0.004975   \n",
       "lenta          0.008072       0.007547      0.009561      0.010369   \n",
       "megafon        0.050159       0.049519      0.111955      0.112237   \n",
       "\n",
       "           uplift_at_40  uplift_at_50  uplift_at_60  uplift_at_70  \\\n",
       "criteo         0.002650      0.002164      0.001816      0.001557   \n",
       "hillstorm      0.004978      0.004922      0.004581      0.004693   \n",
       "lenta          0.010199      0.009978      0.009101      0.008741   \n",
       "megafon        0.106464      0.101118      0.095894      0.089361   \n",
       "\n",
       "           uplift_at_80  uplift_at_90  \n",
       "criteo         0.001362      0.001216  \n",
       "hillstorm      0.004590      0.004699  \n",
       "lenta          0.008339      0.008061  \n",
       "megafon        0.080046      0.063808  \n",
       "\n",
       "[4 rows x 46 columns]"
      ]
     },
     "execution_count": 11,
     "metadata": {},
     "output_type": "execute_result"
    }
   ],
   "source": [
    "df"
   ]
  },
  {
   "cell_type": "code",
   "execution_count": 12,
   "metadata": {},
   "outputs": [],
   "source": [
    "df.to_csv(\"/workspace/output/datasets_stats/base_stats.csv\")\n"
   ]
  },
  {
   "cell_type": "code",
   "execution_count": null,
   "metadata": {},
   "outputs": [],
   "source": []
  },
  {
   "cell_type": "code",
   "execution_count": 21,
   "metadata": {},
   "outputs": [
    {
     "data": {
      "text/plain": [
       "<Axes: >"
      ]
     },
     "execution_count": 21,
     "metadata": {},
     "output_type": "execute_result"
    },
    {
     "data": {
      "image/png": "[encoded data removed]",
      "text/plain": [
       "<Figure size 640x480 with 2 Axes>"
      ]
     },
     "metadata": {},
     "output_type": "display_data"
    }
   ],
   "source": [
    "import seaborn as sns\n",
    "\n",
    "cor = df.loc[\n",
    "    :,\n",
    "    [\n",
    "        \"roc_auc\",\n",
    "        \"conversion_rate\",\n",
    "        \"ate\",\n",
    "        \"auuc\",\n",
    "        \"uplift_at_10\",\n",
    "        \"uplift_at_20\",\n",
    "        \"uplift_at_30\",\n",
    "    ],\n",
    "].corr()\n",
    "sns.heatmap(\n",
    "    cor, cmap=sns.color_palette(\"coolwarm\", 10), annot=True, fmt=\".2f\", vmin=-1, vmax=1\n",
    ")\n"
   ]
  },
  {
   "cell_type": "code",
   "execution_count": null,
   "metadata": {},
   "outputs": [],
   "source": []
  }
 ],
 "metadata": {
  "kernelspec": {
   "display_name": "cate",
   "language": "python",
   "name": "cate"
  },
  "language_info": {
   "codemirror_mode": {
    "name": "ipython",
    "version": 3
   },
   "file_extension": ".py",
   "mimetype": "text/x-python",
   "name": "python",
   "nbconvert_exporter": "python",
   "pygments_lexer": "ipython3",
   "version": "3.11.10"
  }
 },
 "nbformat": 4,
 "nbformat_minor": 2
}
