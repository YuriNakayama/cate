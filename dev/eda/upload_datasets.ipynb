{
 "cells": [
  {
   "cell_type": "code",
   "execution_count": 1,
   "metadata": {},
   "outputs": [],
   "source": [
    "import mlflow\n",
    "import pandas as pd\n",
    "\n",
    "from cate.utils import path_linker\n",
    "from cate.model.dataset import Dataset\n",
    "from cate.model.mlflow import initialize"
   ]
  },
  {
   "cell_type": "code",
   "execution_count": 2,
   "metadata": {},
   "outputs": [],
   "source": [
    "dataset_name = \"lenta\""
   ]
  },
  {
   "cell_type": "code",
   "execution_count": 3,
   "metadata": {},
   "outputs": [],
   "source": [
    "mlflow.set_tracking_uri(\"http://ec2-44-217-145-52.compute-1.amazonaws.com:5000\")\n",
    "mlflow.system_metrics.enable_system_metrics_logging()  # type: ignore\n",
    "experiment_id = mlflow.create_experiment(dataset_name)"
   ]
  },
  {
   "cell_type": "code",
   "execution_count": 4,
   "metadata": {},
   "outputs": [],
   "source": [
    "pathlinker = path_linker(dataset_name)\n",
    "# Assuming you have a dataset in a CSV file\n",
    "dataset = Dataset.load(pathlinker.base)"
   ]
  },
  {
   "cell_type": "code",
   "execution_count": 5,
   "metadata": {},
   "outputs": [
    {
     "name": "stderr",
     "output_type": "stream",
     "text": [
      "2024/10/30 12:15:57 INFO mlflow.system_metrics.system_metrics_monitor: Started monitoring system metrics.\n",
      "2024/10/30 12:16:48 INFO mlflow.tracking._tracking_service.client: 🏃 View run rare-owl-706 at: http://ec2-44-217-145-52.compute-1.amazonaws.com:5000/#/experiments/1/runs/5200000d8d6245688a14467fa42584fb.\n",
      "2024/10/30 12:16:48 INFO mlflow.tracking._tracking_service.client: 🧪 View experiment at: http://ec2-44-217-145-52.compute-1.amazonaws.com:5000/#/experiments/1.\n",
      "2024/10/30 12:16:48 INFO mlflow.system_metrics.system_metrics_monitor: Stopping system metrics monitoring...\n",
      "2024/10/30 12:16:48 INFO mlflow.system_metrics.system_metrics_monitor: Successfully terminated system metrics monitoring!\n"
     ]
    }
   ],
   "source": [
    "with mlflow.start_run(experiment_id=experiment_id, tags={\"phase\": \"dataset\"}):\n",
    "    mlflow.log_table(dataset.to_pandas(), artifact_file=f\"{dataset_name}.json\")"
   ]
  },
  {
   "cell_type": "code",
   "execution_count": null,
   "metadata": {},
   "outputs": [],
   "source": []
  }
 ],
 "metadata": {
  "kernelspec": {
   "display_name": ".venv",
   "language": "python",
   "name": "python3"
  },
  "language_info": {
   "codemirror_mode": {
    "name": "ipython",
    "version": 3
   },
   "file_extension": ".py",
   "mimetype": "text/x-python",
   "name": "python",
   "nbconvert_exporter": "python",
   "pygments_lexer": "ipython3",
   "version": "3.11.10"
  }
 },
 "nbformat": 4,
 "nbformat_minor": 2
}
