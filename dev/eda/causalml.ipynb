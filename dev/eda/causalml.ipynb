{
 "cells": [
  {
   "cell_type": "code",
   "execution_count": 2,
   "metadata": {},
   "outputs": [
    {
     "name": "stderr",
     "output_type": "stream",
     "text": [
      "/workspace/.venv/lib/python3.11/site-packages/tqdm/auto.py:21: TqdmWarning: IProgress not found. Please update jupyter and ipywidgets. See https://ipywidgets.readthedocs.io/en/stable/user_install.html\n",
      "  from .autonotebook import tqdm as notebook_tqdm\n"
     ]
    }
   ],
   "source": [
    "import pandas as pd\n",
    "import lightgbm as lgb\n",
    "import numpy as np\n",
    "from sklearn.model_selection import StratifiedKFold\n",
    "from tqdm import tqdm\n",
    "from causalml.inference.meta import BaseDRLearner, BaseRLearner, BaseXLearner, BaseSLearner, BaseTLearner\n",
    "from causalml.inference.torch import CEVAE\n",
    "\n",
    "from cate.dataset import Dataset"
   ]
  },
  {
   "cell_type": "code",
   "execution_count": 3,
   "metadata": {},
   "outputs": [],
   "source": [
    "def to_rank(\n",
    "    primary_key: pd.Series, score: pd.Series, ascending: bool = True\n",
    ") -> pd.Series:\n",
    "    df = pd.DataFrame({primary_key.name: primary_key, score.name: score}).set_index(\n",
    "        primary_key.name, drop=True\n",
    "    )\n",
    "    df = df.sort_values(by=score.name, ascending=ascending)  # type: ignore\n",
    "    df[\"rank\"] = np.ceil(np.arange(len(df)) / len(df) * 100).astype(int)\n",
    "    return df[\"rank\"]"
   ]
  },
  {
   "cell_type": "code",
   "execution_count": 4,
   "metadata": {},
   "outputs": [],
   "source": [
    "base_df = pd.read_csv(\"/workspace/data/uplift-modeling/criteo-uplift-v2.1.csv\")"
   ]
  },
  {
   "cell_type": "code",
   "execution_count": 5,
   "metadata": {},
   "outputs": [],
   "source": [
    "ds = Dataset(\n",
    "    base_df,\n",
    "    [\"f0\", \"f1\", \"f2\", \"f3\", \"f4\", \"f5\", \"f6\", \"f7\", \"f8\", \"f9\", \"f10\", \"f11\"],\n",
    "    [\"conversion\"],\n",
    "    [\"treatment\"],\n",
    ")"
   ]
  },
  {
   "cell_type": "code",
   "execution_count": 6,
   "metadata": {},
   "outputs": [],
   "source": [
    "base_model = lgb.LGBMClassifier(importance_type=\"gain\")\n",
    "names = [\n",
    "    \"dr_learner\",\n",
    "    \"rlearner\",\n",
    "    \"xlearner\",\n",
    "    \"slearner\",\n",
    "    \"tlearner\",\n",
    "    \"cevae\"\n",
    "]\n",
    "models = [\n",
    "    BaseDRLearner(base_model, base_model, base_model, base_model),\n",
    "    BaseRLearner(base_model, base_model, base_model),\n",
    "    BaseXLearner(base_model, base_model, base_model),\n",
    "    BaseSLearner(base_model),\n",
    "    BaseTLearner(base_model, base_model, base_model),\n",
    "    CEVAE()   \n",
    "]"
   ]
  },
  {
   "cell_type": "code",
   "execution_count": null,
   "metadata": {},
   "outputs": [
    {
     "name": "stderr",
     "output_type": "stream",
     "text": [
      "0it [00:00, ?it/s]"
     ]
    }
   ],
   "source": [
    "pred_dfs = {}\n",
    "skf = StratifiedKFold(5, shuffle=True, random_state=42)\n",
    "for name, model in zip(names, models):\n",
    "    _pred_dfs = []\n",
    "    for train_idx, valid_idx in tqdm(skf.split(np.zeros(len(ds)), ds.y)):\n",
    "        train_X = ds.X.iloc[train_idx]\n",
    "        train_y = ds.y.iloc[train_idx].to_numpy().reshape(-1)\n",
    "        train_w = ds.w.iloc[train_idx].to_numpy().reshape(-1)\n",
    "        valid_X = ds.X.iloc[valid_idx]\n",
    "        valid_y = ds.y.iloc[valid_idx].to_numpy().reshape(-1)\n",
    "        valid_w = ds.w.iloc[valid_idx].to_numpy().reshape(-1)\n",
    "        model.fit(train_X, train_w, train_y)\n",
    "        pred = model.predict(valid_X)\n",
    "        _pred_dfs.append(pd.DataFrame({\"index\": valid_idx, \"pred\": pred[:, 1]}))  # type: ignore\n",
    "    pred_dfs[name] = _pred_dfs"
   ]
  },
  {
   "cell_type": "code",
   "execution_count": 1,
   "metadata": {},
   "outputs": [
    {
     "ename": "NameError",
     "evalue": "name 'pred_dfs' is not defined",
     "output_type": "error",
     "traceback": [
      "\u001b[0;31m---------------------------------------------------------------------------\u001b[0m",
      "\u001b[0;31mNameError\u001b[0m                                 Traceback (most recent call last)",
      "Cell \u001b[0;32mIn[1], line 1\u001b[0m\n\u001b[0;32m----> 1\u001b[0m \u001b[43mpred_dfs\u001b[49m\n",
      "\u001b[0;31mNameError\u001b[0m: name 'pred_dfs' is not defined"
     ]
    }
   ],
   "source": [
    "pred_dfs"
   ]
  },
  {
   "cell_type": "code",
   "execution_count": null,
   "metadata": {},
   "outputs": [],
   "source": []
  }
 ],
 "metadata": {
  "kernelspec": {
   "display_name": ".venv",
   "language": "python",
   "name": "python3"
  },
  "language_info": {
   "codemirror_mode": {
    "name": "ipython",
    "version": 3
   },
   "file_extension": ".py",
   "mimetype": "text/x-python",
   "name": "python",
   "nbconvert_exporter": "python",
   "pygments_lexer": "ipython3",
   "version": "3.11.10"
  }
 },
 "nbformat": 4,
 "nbformat_minor": 2
}
