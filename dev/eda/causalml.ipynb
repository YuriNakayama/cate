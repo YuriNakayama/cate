{
 "cells": [
  {
   "cell_type": "markdown",
   "metadata": {},
   "source": [
    "# Import"
   ]
  },
  {
   "cell_type": "code",
   "execution_count": 1,
   "metadata": {},
   "outputs": [
    {
     "name": "stderr",
     "output_type": "stream",
     "text": [
      "/workspace/.venv/lib/python3.11/site-packages/tqdm/auto.py:21: TqdmWarning: IProgress not found. Please update jupyter and ipywidgets. See https://ipywidgets.readthedocs.io/en/stable/user_install.html\n",
      "  from .autonotebook import tqdm as notebook_tqdm\n"
     ]
    }
   ],
   "source": [
    "import pandas as pd\n",
    "import lightgbm as lgb\n",
    "import numpy as np\n",
    "from sklearn.model_selection import StratifiedKFold\n",
    "from tqdm import tqdm\n",
    "from causalml.inference.meta import (\n",
    "    BaseDRLearner,\n",
    "    BaseRLearner,\n",
    "    BaseXLearner,\n",
    "    BaseSLearner,\n",
    "    BaseTLearner,\n",
    "    BaseRClassifier,\n",
    "    BaseXClassifier,\n",
    "    BaseTClassifier,\n",
    "    BaseSClassifier,\n",
    ")\n",
    "from causalml.inference.torch import CEVAE\n",
    "\n",
    "from cate.dataset import Dataset\n",
    "from cate.utils import PathLinker, Timer"
   ]
  },
  {
   "cell_type": "code",
   "execution_count": 2,
   "metadata": {},
   "outputs": [],
   "source": [
    "pathlinker = PathLinker().data.criteo\n",
    "timer = Timer()"
   ]
  },
  {
   "cell_type": "markdown",
   "metadata": {},
   "source": [
    "# Functions"
   ]
  },
  {
   "cell_type": "code",
   "execution_count": 3,
   "metadata": {},
   "outputs": [],
   "source": [
    "def to_rank(\n",
    "    primary_key: pd.Series, score: pd.Series, ascending: bool = True\n",
    ") -> pd.Series:\n",
    "    df = pd.DataFrame({primary_key.name: primary_key, score.name: score}).set_index(\n",
    "        primary_key.name, drop=True\n",
    "    )\n",
    "    df = df.sort_values(by=score.name, ascending=ascending)  # type: ignore\n",
    "    df[\"rank\"] = np.ceil(np.arange(len(df)) / len(df) * 100).astype(int)\n",
    "    return df[\"rank\"]"
   ]
  },
  {
   "cell_type": "markdown",
   "metadata": {},
   "source": [
    "# Read Data"
   ]
  },
  {
   "cell_type": "code",
   "execution_count": 4,
   "metadata": {},
   "outputs": [],
   "source": [
    "ds = Dataset.load(pathlinker.base)"
   ]
  },
  {
   "cell_type": "markdown",
   "metadata": {},
   "source": [
    "# Model"
   ]
  },
  {
   "cell_type": "code",
   "execution_count": 5,
   "metadata": {},
   "outputs": [],
   "source": [
    "# base_model = lgb.LGBMClassifier(importance_type=\"gain\")\n",
    "# names = [\n",
    "#     \"slearner\",\n",
    "#     \"tlearner\",\n",
    "#     \"xlearner\",\n",
    "#     \"drlearner\",\n",
    "#     \"rlearner\",\n",
    "#     \"cevae\",\n",
    "# ]\n",
    "# models = [\n",
    "#     BaseSLearner(base_model),\n",
    "#     BaseTLearner(base_model, base_model, base_model),\n",
    "#     BaseXLearner(base_model, base_model, base_model),\n",
    "#     BaseDRLearner(base_model, base_model, base_model, base_model),\n",
    "#     BaseRLearner(base_model, base_model, base_model),\n",
    "#     CEVAE(),\n",
    "# ]"
   ]
  },
  {
   "cell_type": "code",
   "execution_count": 9,
   "metadata": {},
   "outputs": [],
   "source": [
    "base_classifier = lgb.LGBMClassifier(importance_type=\"gain\")\n",
    "base_regressor = lgb.LGBMRegressor(importance_type=\"gain\")\n",
    "names = [\n",
    "    \"slearner\",\n",
    "    \"tlearner\",\n",
    "    # \"xlearner\",\n",
    "    # \"rlearner\",\n",
    "    # \"cevae\",\n",
    "]\n",
    "\n",
    "models = [\n",
    "    BaseSClassifier(base_classifier),\n",
    "    BaseTClassifier(base_classifier),\n",
    "    # BaseXClassifier(base_classifier, base_regressor),\n",
    "    # BaseRClassifier(base_classifier, base_regressor),\n",
    "    # CEVAE(),\n",
    "]"
   ]
  },
  {
   "cell_type": "code",
   "execution_count": 10,
   "metadata": {},
   "outputs": [],
   "source": [
    "np.int = int"
   ]
  },
  {
   "cell_type": "code",
   "execution_count": 11,
   "metadata": {},
   "outputs": [
    {
     "name": "stderr",
     "output_type": "stream",
     "text": [
      "0it [00:00, ?it/s]"
     ]
    },
    {
     "name": "stdout",
     "output_type": "stream",
     "text": [
      "[LightGBM] [Info] Number of positive: 32619, number of negative: 11151054\n",
      "[LightGBM] [Info] Auto-choosing row-wise multi-threading, the overhead of testing was 0.509372 seconds.\n",
      "You can set `force_row_wise=true` to remove the overhead.\n",
      "And if memory is not enough, you can set `force_col_wise=true`.\n",
      "[LightGBM] [Info] Total Bins 1702\n",
      "[LightGBM] [Info] Number of data points in the train set: 11183673, number of used features: 13\n",
      "[LightGBM] [Info] [binary:BoostFromScore]: pavg=0.002917 -> initscore=-5.834394\n",
      "[LightGBM] [Info] Start training from score -5.834394\n"
     ]
    },
    {
     "name": "stderr",
     "output_type": "stream",
     "text": [
      "1it [00:29, 29.67s/it]"
     ]
    },
    {
     "name": "stdout",
     "output_type": "stream",
     "text": [
      "[LightGBM] [Info] Number of positive: 32619, number of negative: 11151054\n",
      "[LightGBM] [Info] Auto-choosing row-wise multi-threading, the overhead of testing was 0.374104 seconds.\n",
      "You can set `force_row_wise=true` to remove the overhead.\n",
      "And if memory is not enough, you can set `force_col_wise=true`.\n",
      "[LightGBM] [Info] Total Bins 1710\n",
      "[LightGBM] [Info] Number of data points in the train set: 11183673, number of used features: 13\n",
      "[LightGBM] [Info] [binary:BoostFromScore]: pavg=0.002917 -> initscore=-5.834394\n",
      "[LightGBM] [Info] Start training from score -5.834394\n"
     ]
    },
    {
     "name": "stderr",
     "output_type": "stream",
     "text": [
      "2it [00:54, 26.75s/it]"
     ]
    },
    {
     "name": "stdout",
     "output_type": "stream",
     "text": [
      "[LightGBM] [Info] Number of positive: 32620, number of negative: 11151054\n",
      "[LightGBM] [Info] Auto-choosing row-wise multi-threading, the overhead of testing was 0.438686 seconds.\n",
      "You can set `force_row_wise=true` to remove the overhead.\n",
      "And if memory is not enough, you can set `force_col_wise=true`.\n",
      "[LightGBM] [Info] Total Bins 1709\n",
      "[LightGBM] [Info] Number of data points in the train set: 11183674, number of used features: 13\n",
      "[LightGBM] [Info] [binary:BoostFromScore]: pavg=0.002917 -> initscore=-5.834364\n",
      "[LightGBM] [Info] Start training from score -5.834364\n"
     ]
    },
    {
     "name": "stderr",
     "output_type": "stream",
     "text": [
      "3it [01:20, 26.42s/it]"
     ]
    },
    {
     "name": "stdout",
     "output_type": "stream",
     "text": [
      "[LightGBM] [Info] Number of positive: 32619, number of negative: 11151055\n",
      "[LightGBM] [Info] Auto-choosing row-wise multi-threading, the overhead of testing was 0.432749 seconds.\n",
      "You can set `force_row_wise=true` to remove the overhead.\n",
      "And if memory is not enough, you can set `force_col_wise=true`.\n",
      "[LightGBM] [Info] Total Bins 1709\n",
      "[LightGBM] [Info] Number of data points in the train set: 11183674, number of used features: 13\n",
      "[LightGBM] [Info] [binary:BoostFromScore]: pavg=0.002917 -> initscore=-5.834394\n",
      "[LightGBM] [Info] Start training from score -5.834394\n"
     ]
    },
    {
     "name": "stderr",
     "output_type": "stream",
     "text": [
      "4it [01:43, 25.07s/it]"
     ]
    },
    {
     "name": "stdout",
     "output_type": "stream",
     "text": [
      "[LightGBM] [Info] Number of positive: 32619, number of negative: 11151055\n",
      "[LightGBM] [Info] Auto-choosing row-wise multi-threading, the overhead of testing was 0.379283 seconds.\n",
      "You can set `force_row_wise=true` to remove the overhead.\n",
      "And if memory is not enough, you can set `force_col_wise=true`.\n",
      "[LightGBM] [Info] Total Bins 1705\n",
      "[LightGBM] [Info] Number of data points in the train set: 11183674, number of used features: 13\n",
      "[LightGBM] [Info] [binary:BoostFromScore]: pavg=0.002917 -> initscore=-5.834394\n",
      "[LightGBM] [Info] Start training from score -5.834394\n"
     ]
    },
    {
     "name": "stderr",
     "output_type": "stream",
     "text": [
      "5it [02:06, 25.22s/it]\n",
      "0it [00:00, ?it/s]"
     ]
    },
    {
     "name": "stdout",
     "output_type": "stream",
     "text": [
      "[LightGBM] [Info] Number of positive: 3239, number of negative: 1673125\n",
      "[LightGBM] [Info] Auto-choosing row-wise multi-threading, the overhead of testing was 0.084124 seconds.\n",
      "You can set `force_row_wise=true` to remove the overhead.\n",
      "And if memory is not enough, you can set `force_col_wise=true`.\n",
      "[LightGBM] [Info] Total Bins 1691\n",
      "[LightGBM] [Info] Number of data points in the train set: 1676364, number of used features: 12\n",
      "[LightGBM] [Info] [binary:BoostFromScore]: pavg=0.001932 -> initscore=-6.247184\n",
      "[LightGBM] [Info] Start training from score -6.247184\n",
      "[LightGBM] [Info] Number of positive: 29380, number of negative: 9477929\n",
      "[LightGBM] [Info] Auto-choosing row-wise multi-threading, the overhead of testing was 0.297360 seconds.\n",
      "You can set `force_row_wise=true` to remove the overhead.\n",
      "And if memory is not enough, you can set `force_col_wise=true`.\n",
      "[LightGBM] [Info] Total Bins 1699\n",
      "[LightGBM] [Info] Number of data points in the train set: 9507309, number of used features: 12\n",
      "[LightGBM] [Info] [binary:BoostFromScore]: pavg=0.003090 -> initscore=-5.776407\n",
      "[LightGBM] [Info] Start training from score -5.776407\n"
     ]
    },
    {
     "name": "stderr",
     "output_type": "stream",
     "text": [
      "1it [00:25, 25.41s/it]"
     ]
    },
    {
     "name": "stdout",
     "output_type": "stream",
     "text": [
      "[LightGBM] [Info] Number of positive: 3296, number of negative: 1674229\n",
      "[LightGBM] [Info] Auto-choosing row-wise multi-threading, the overhead of testing was 0.051411 seconds.\n",
      "You can set `force_row_wise=true` to remove the overhead.\n",
      "And if memory is not enough, you can set `force_col_wise=true`.\n",
      "[LightGBM] [Info] Total Bins 1695\n",
      "[LightGBM] [Info] Number of data points in the train set: 1677525, number of used features: 12\n",
      "[LightGBM] [Info] [binary:BoostFromScore]: pavg=0.001965 -> initscore=-6.230398\n",
      "[LightGBM] [Info] Start training from score -6.230398\n",
      "[LightGBM] [Info] Number of positive: 29323, number of negative: 9476825\n",
      "[LightGBM] [Info] Auto-choosing row-wise multi-threading, the overhead of testing was 0.335636 seconds.\n",
      "You can set `force_row_wise=true` to remove the overhead.\n",
      "And if memory is not enough, you can set `force_col_wise=true`.\n",
      "[LightGBM] [Info] Total Bins 1702\n",
      "[LightGBM] [Info] Number of data points in the train set: 9506148, number of used features: 12\n",
      "[LightGBM] [Info] [binary:BoostFromScore]: pavg=0.003085 -> initscore=-5.778232\n",
      "[LightGBM] [Info] Start training from score -5.778232\n"
     ]
    },
    {
     "name": "stderr",
     "output_type": "stream",
     "text": [
      "2it [00:50, 25.00s/it]"
     ]
    },
    {
     "name": "stdout",
     "output_type": "stream",
     "text": [
      "[LightGBM] [Info] Number of positive: 3232, number of negative: 1674166\n",
      "[LightGBM] [Info] Auto-choosing row-wise multi-threading, the overhead of testing was 0.050180 seconds.\n",
      "You can set `force_row_wise=true` to remove the overhead.\n",
      "And if memory is not enough, you can set `force_col_wise=true`.\n",
      "[LightGBM] [Info] Total Bins 1690\n",
      "[LightGBM] [Info] Number of data points in the train set: 1677398, number of used features: 12\n",
      "[LightGBM] [Info] [binary:BoostFromScore]: pavg=0.001927 -> initscore=-6.249969\n",
      "[LightGBM] [Info] Start training from score -6.249969\n",
      "[LightGBM] [Info] Number of positive: 29388, number of negative: 9476888\n",
      "[LightGBM] [Info] Auto-choosing row-wise multi-threading, the overhead of testing was 0.294601 seconds.\n",
      "You can set `force_row_wise=true` to remove the overhead.\n",
      "And if memory is not enough, you can set `force_col_wise=true`.\n",
      "[LightGBM] [Info] Total Bins 1702\n",
      "[LightGBM] [Info] Number of data points in the train set: 9506276, number of used features: 12\n",
      "[LightGBM] [Info] [binary:BoostFromScore]: pavg=0.003091 -> initscore=-5.776025\n",
      "[LightGBM] [Info] Start training from score -5.776025\n"
     ]
    },
    {
     "name": "stderr",
     "output_type": "stream",
     "text": [
      "3it [01:14, 24.77s/it]"
     ]
    },
    {
     "name": "stdout",
     "output_type": "stream",
     "text": [
      "[LightGBM] [Info] Number of positive: 3223, number of negative: 1675134\n",
      "[LightGBM] [Info] Auto-choosing row-wise multi-threading, the overhead of testing was 0.094260 seconds.\n",
      "You can set `force_row_wise=true` to remove the overhead.\n",
      "And if memory is not enough, you can set `force_col_wise=true`.\n",
      "[LightGBM] [Info] Total Bins 1700\n",
      "[LightGBM] [Info] Number of data points in the train set: 1678357, number of used features: 12\n",
      "[LightGBM] [Info] [binary:BoostFromScore]: pavg=0.001920 -> initscore=-6.253336\n",
      "[LightGBM] [Info] Start training from score -6.253336\n",
      "[LightGBM] [Info] Number of positive: 29396, number of negative: 9475921\n",
      "[LightGBM] [Info] Auto-choosing row-wise multi-threading, the overhead of testing was 0.397798 seconds.\n",
      "You can set `force_row_wise=true` to remove the overhead.\n",
      "And if memory is not enough, you can set `force_col_wise=true`.\n",
      "[LightGBM] [Info] Total Bins 1706\n",
      "[LightGBM] [Info] Number of data points in the train set: 9505317, number of used features: 12\n",
      "[LightGBM] [Info] [binary:BoostFromScore]: pavg=0.003093 -> initscore=-5.775651\n",
      "[LightGBM] [Info] Start training from score -5.775651\n"
     ]
    },
    {
     "name": "stderr",
     "output_type": "stream",
     "text": [
      "4it [01:39, 24.85s/it]"
     ]
    },
    {
     "name": "stdout",
     "output_type": "stream",
     "text": [
      "[LightGBM] [Info] Number of positive: 3262, number of negative: 1674842\n",
      "[LightGBM] [Info] Auto-choosing row-wise multi-threading, the overhead of testing was 0.064844 seconds.\n",
      "You can set `force_row_wise=true` to remove the overhead.\n",
      "And if memory is not enough, you can set `force_col_wise=true`.\n",
      "[LightGBM] [Info] Total Bins 1693\n",
      "[LightGBM] [Info] Number of data points in the train set: 1678104, number of used features: 12\n",
      "[LightGBM] [Info] [binary:BoostFromScore]: pavg=0.001944 -> initscore=-6.241134\n",
      "[LightGBM] [Info] Start training from score -6.241134\n",
      "[LightGBM] [Info] Number of positive: 29357, number of negative: 9476213\n",
      "[LightGBM] [Info] Auto-choosing row-wise multi-threading, the overhead of testing was 0.491472 seconds.\n",
      "You can set `force_row_wise=true` to remove the overhead.\n",
      "And if memory is not enough, you can set `force_col_wise=true`.\n",
      "[LightGBM] [Info] Total Bins 1698\n",
      "[LightGBM] [Info] Number of data points in the train set: 9505570, number of used features: 12\n",
      "[LightGBM] [Info] [binary:BoostFromScore]: pavg=0.003088 -> initscore=-5.777009\n",
      "[LightGBM] [Info] Start training from score -5.777009\n"
     ]
    },
    {
     "name": "stderr",
     "output_type": "stream",
     "text": [
      "5it [02:04, 24.93s/it]\n"
     ]
    }
   ],
   "source": [
    "pred_dfs = {}\n",
    "skf = StratifiedKFold(5, shuffle=True, random_state=42)\n",
    "for name, model in zip(names, models):\n",
    "    _pred_dfs = []\n",
    "    for train_idx, valid_idx in tqdm(skf.split(np.zeros(len(ds)), ds.y)):\n",
    "        train_X = ds.X.iloc[train_idx]\n",
    "        train_y = ds.y.iloc[train_idx].to_numpy().reshape(-1)\n",
    "        train_w = ds.w.iloc[train_idx].to_numpy().reshape(-1)\n",
    "        valid_X = ds.X.iloc[valid_idx]\n",
    "        valid_y = ds.y.iloc[valid_idx].to_numpy().reshape(-1)\n",
    "        valid_w = ds.w.iloc[valid_idx].to_numpy().reshape(-1)\n",
    "        \n",
    "        timer.start(f\"fit {name}\")\n",
    "        model.fit(train_X, train_w, train_y)\n",
    "        timer.stop(f\"fit {name}\")\n",
    "        \n",
    "        timer.start(f\"predict {name}\")\n",
    "        pred = model.predict(valid_X)\n",
    "        timer.stop(f\"stop {name}\")\n",
    "        \n",
    "        _pred_dfs.append(\n",
    "            pd.DataFrame({\"index\": ds.y.index[valid_idx], \"pred\": pred.reshape(-1)})\n",
    "        )  # type: ignore\n",
    "    pred_dfs[name] = _pred_dfs"
   ]
  },
  {
   "cell_type": "code",
   "execution_count": 13,
   "metadata": {},
   "outputs": [],
   "source": [
    "output_df = pd.merge(ds.y.copy(), ds.w.copy(), left_index=True, right_index=True)\n",
    "for name, pred_df_list in pred_dfs.items():\n",
    "    pred_df = pd.concat(pred_df_list, axis=0)\n",
    "    rank = to_rank(pred_df[\"index\"], pred_df[\"pred\"], ascending=False)\n",
    "    pred_df = pd.merge(pred_df, rank, left_on=\"index\", right_index=True).set_index(\n",
    "        \"index\", drop=True\n",
    "    )\n",
    "    pred_df = pred_df.rename(columns={\"pred\": f\"{name}_pred\", \"rank\": f\"{name}_rank\"})\n",
    "    output_df = pd.merge(output_df, pred_df, left_index=True, right_index=True)\n",
    "output_df.to_csv(pathlinker.prediction / \"metaleaner.csv\")"
   ]
  },
  {
   "cell_type": "code",
   "execution_count": 14,
   "metadata": {},
   "outputs": [],
   "source": [
    "cvs = {}\n",
    "for name in names:\n",
    "    cv_list = []\n",
    "    for rank in range(100):\n",
    "        rank_flg = output_df[f\"{name}_rank\"] <= rank\n",
    "        tg_flg = output_df[\"treatment\"] == 1\n",
    "        cv = (\n",
    "            output_df.loc[rank_flg & tg_flg, \"conversion\"].mean()\n",
    "            - output_df.loc[rank_flg & ~tg_flg, \"conversion\"].mean()\n",
    "        )\n",
    "        cv_list.append(cv)\n",
    "    cvs[name] = cv_list"
   ]
  },
  {
   "cell_type": "code",
   "execution_count": 15,
   "metadata": {},
   "outputs": [],
   "source": [
    "cv_df = pd.DataFrame(cvs)\n",
    "cv_df.to_csv(\"/workspace/outputs/meta_learner.csv\", index=False)"
   ]
  },
  {
   "cell_type": "code",
   "execution_count": 16,
   "metadata": {},
   "outputs": [
    {
     "data": {
      "text/plain": [
       "<Axes: >"
      ]
     },
     "execution_count": 16,
     "metadata": {},
     "output_type": "execute_result"
    },
    {
     "data": {
      "image/png": "[encoded data removed]",
      "text/plain": [
       "<Figure size 640x480 with 1 Axes>"
      ]
     },
     "metadata": {},
     "output_type": "display_data"
    }
   ],
   "source": [
    "cv_df.plot()"
   ]
  },
  {
   "cell_type": "code",
   "execution_count": 17,
   "metadata": {},
   "outputs": [],
   "source": [
    "timer.to_csv(pathlinker.prediction / \"metalearner_duration.csv\")"
   ]
  },
  {
   "cell_type": "code",
   "execution_count": null,
   "metadata": {},
   "outputs": [],
   "source": []
  }
 ],
 "metadata": {
  "kernelspec": {
   "display_name": ".venv",
   "language": "python",
   "name": "python3"
  },
  "language_info": {
   "codemirror_mode": {
    "name": "ipython",
    "version": 3
   },
   "file_extension": ".py",
   "mimetype": "text/x-python",
   "name": "python",
   "nbconvert_exporter": "python",
   "pygments_lexer": "ipython3",
   "version": "3.11.10"
  }
 },
 "nbformat": 4,
 "nbformat_minor": 2
}
