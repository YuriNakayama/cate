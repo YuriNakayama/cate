{
 "cells": [
  {
   "cell_type": "code",
   "execution_count": 2,
   "metadata": {},
   "outputs": [],
   "source": [
    "import pandas as pd\n",
    "import lightgbm as lgb\n",
    "import numpy as np\n",
    "from sklearn.model_selection import StratifiedKFold\n",
    "from tqdm import tqdm\n",
    "from causalml.inference.meta import BaseDRLearner, BaseRLearner, BaseXLearner, BaseSLearner, BaseTLearner\n",
    "from causalml.inference.torch import CEVAE\n",
    "\n",
    "from cate.dataset import Dataset"
   ]
  },
  {
   "cell_type": "code",
   "execution_count": 3,
   "metadata": {},
   "outputs": [],
   "source": [
    "def to_rank(\n",
    "    primary_key: pd.Series, score: pd.Series, ascending: bool = True\n",
    ") -> pd.Series:\n",
    "    df = pd.DataFrame({primary_key.name: primary_key, score.name: score}).set_index(\n",
    "        primary_key.name, drop=True\n",
    "    )\n",
    "    df = df.sort_values(by=score.name, ascending=ascending)  # type: ignore\n",
    "    df[\"rank\"] = np.ceil(np.arange(len(df)) / len(df) * 100).astype(int)\n",
    "    return df[\"rank\"]"
   ]
  },
  {
   "cell_type": "code",
   "execution_count": null,
   "metadata": {},
   "outputs": [],
   "source": [
    "base_df = pd.read_csv(\"/workspace/data/uplift-modeling/criteo-uplift-v2.1.csv\")"
   ]
  },
  {
   "cell_type": "code",
   "execution_count": null,
   "metadata": {},
   "outputs": [],
   "source": [
    "ds = Dataset(\n",
    "    base_df,\n",
    "    [\"f0\", \"f1\", \"f2\", \"f3\", \"f4\", \"f5\", \"f6\", \"f7\", \"f8\", \"f9\", \"f10\", \"f11\"],\n",
    "    [\"conversion\"],\n",
    "    [\"treatment\"],\n",
    ")"
   ]
  },
  {
   "cell_type": "code",
   "execution_count": null,
   "metadata": {},
   "outputs": [],
   "source": [
    "pred_dfs = []\n",
    "skf = StratifiedKFold(5, shuffle=True, random_state=42)\n",
    "for train_idx, valid_idx in tqdm(skf.split(np.zeros(len(ds)), ds.y)):\n",
    "    train_X = ds.X.iloc[train_idx]\n",
    "    train_y = ds.y.iloc[train_idx].to_numpy().reshape(-1)\n",
    "    train_w = ds.w.iloc[train_idx]\n",
    "    valid_X = ds.X.iloc[valid_idx]\n",
    "    valid_y = ds.y.iloc[valid_idx].to_numpy().reshape(-1)\n",
    "    valid_w = ds.w.iloc[valid_idx]\n",
    "\n",
    "    model = lgb.LGBMClassifier(importance_type=\"gain\")\n",
    "    model.fit(train_X, train_y, eval_set=[(valid_X, valid_y)])\n",
    "    pred = model.predict_proba(valid_X)\n",
    "    pred_dfs.append(pd.DataFrame({\"index\": valid_idx, \"pred\": pred[:, 1]}))  # type: ignore"
   ]
  },
  {
   "cell_type": "code",
   "execution_count": null,
   "metadata": {},
   "outputs": [],
   "source": []
  }
 ],
 "metadata": {
  "kernelspec": {
   "display_name": ".venv",
   "language": "python",
   "name": "python3"
  },
  "language_info": {
   "codemirror_mode": {
    "name": "ipython",
    "version": 3
   },
   "file_extension": ".py",
   "mimetype": "text/x-python",
   "name": "python",
   "nbconvert_exporter": "python",
   "pygments_lexer": "ipython3",
   "version": "3.11.10"
  }
 },
 "nbformat": 4,
 "nbformat_minor": 2
}
