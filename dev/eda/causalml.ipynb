{
 "cells": [
  {
   "cell_type": "code",
   "execution_count": 10,
   "metadata": {},
   "outputs": [],
   "source": [
    "import pandas as pd\n",
    "import lightgbm as lgb\n",
    "import numpy as np\n",
    "from sklearn.model_selection import StratifiedKFold\n",
    "from tqdm import tqdm\n",
    "from causalml.inference.meta import BaseDRLearner, BaseRLearner, BaseXLearner, BaseSLearner, BaseTLearner\n",
    "from causalml.inference.torch import CEVAE\n",
    "\n",
    "from cate.dataset import Dataset"
   ]
  },
  {
   "cell_type": "code",
   "execution_count": 4,
   "metadata": {},
   "outputs": [],
   "source": [
    "def to_rank(\n",
    "    primary_key: pd.Series, score: pd.Series, ascending: bool = True\n",
    ") -> pd.Series:\n",
    "    df = pd.DataFrame({primary_key.name: primary_key, score.name: score}).set_index(\n",
    "        primary_key.name, drop=True\n",
    "    )\n",
    "    df = df.sort_values(by=score.name, ascending=ascending)  # type: ignore\n",
    "    df[\"rank\"] = np.ceil(np.arange(len(df)) / len(df) * 100).astype(int)\n",
    "    return df[\"rank\"]"
   ]
  },
  {
   "cell_type": "code",
   "execution_count": 5,
   "metadata": {},
   "outputs": [],
   "source": [
    "base_df = pd.read_csv(\"/workspace/data/uplift-modeling/criteo-uplift-v2.1.csv\")"
   ]
  },
  {
   "cell_type": "code",
   "execution_count": 6,
   "metadata": {},
   "outputs": [],
   "source": [
    "ds = Dataset(\n",
    "    base_df,\n",
    "    [\"f0\", \"f1\", \"f2\", \"f3\", \"f4\", \"f5\", \"f6\", \"f7\", \"f8\", \"f9\", \"f10\", \"f11\"],\n",
    "    [\"conversion\"],\n",
    "    [\"treatment\"],\n",
    ")"
   ]
  },
  {
   "cell_type": "code",
   "execution_count": 9,
   "metadata": {},
   "outputs": [],
   "source": [
    "base_model = lgb.LGBMClassifier(importance_type=\"gain\")\n",
    "names = [\n",
    "    \"dr_learner\",\n",
    "    \"rlearner\",\n",
    "    \"xlearner\",\n",
    "    \"slearner\",\n",
    "    \"tlearner\",\n",
    "    \"cevae\"\n",
    "]\n",
    "models = [\n",
    "    BaseDRLearner(base_model, base_model, base_model, base_model),\n",
    "    BaseRLearner(base_model, base_model, base_model),\n",
    "    BaseXLearner(base_model, base_model, base_model),\n",
    "    BaseSLearner(base_model),\n",
    "    BaseTLearner(base_model, base_model, base_model),\n",
    "    CEVAE()   \n",
    "]"
   ]
  },
  {
   "cell_type": "code",
   "execution_count": 11,
   "metadata": {},
   "outputs": [
    {
     "name": "stderr",
     "output_type": "stream",
     "text": [
      "0it [00:00, ?it/s]"
     ]
    },
    {
     "name": "stdout",
     "output_type": "stream",
     "text": [
      "[LightGBM] [Info] Number of positive: 32619, number of negative: 11151054\n",
      "[LightGBM] [Info] Auto-choosing row-wise multi-threading, the overhead of testing was 0.433962 seconds.\n",
      "You can set `force_row_wise=true` to remove the overhead.\n",
      "And if memory is not enough, you can set `force_col_wise=true`.\n",
      "[LightGBM] [Info] Total Bins 1700\n",
      "[LightGBM] [Info] Number of data points in the train set: 11183673, number of used features: 12\n",
      "[LightGBM] [Info] [binary:BoostFromScore]: pavg=0.002917 -> initscore=-5.834394\n",
      "[LightGBM] [Info] Start training from score -5.834394\n"
     ]
    },
    {
     "name": "stderr",
     "output_type": "stream",
     "text": [
      "1it [00:42, 42.69s/it]"
     ]
    },
    {
     "name": "stdout",
     "output_type": "stream",
     "text": [
      "[LightGBM] [Info] Number of positive: 32619, number of negative: 11151054\n",
      "[LightGBM] [Info] Auto-choosing row-wise multi-threading, the overhead of testing was 0.361926 seconds.\n",
      "You can set `force_row_wise=true` to remove the overhead.\n",
      "And if memory is not enough, you can set `force_col_wise=true`.\n",
      "[LightGBM] [Info] Total Bins 1708\n",
      "[LightGBM] [Info] Number of data points in the train set: 11183673, number of used features: 12\n",
      "[LightGBM] [Info] [binary:BoostFromScore]: pavg=0.002917 -> initscore=-5.834394\n",
      "[LightGBM] [Info] Start training from score -5.834394\n"
     ]
    },
    {
     "name": "stderr",
     "output_type": "stream",
     "text": [
      "2it [01:05, 30.88s/it]"
     ]
    },
    {
     "name": "stdout",
     "output_type": "stream",
     "text": [
      "[LightGBM] [Info] Number of positive: 32620, number of negative: 11151054\n",
      "[LightGBM] [Info] Auto-choosing row-wise multi-threading, the overhead of testing was 0.526025 seconds.\n",
      "You can set `force_row_wise=true` to remove the overhead.\n",
      "And if memory is not enough, you can set `force_col_wise=true`.\n",
      "[LightGBM] [Info] Total Bins 1707\n",
      "[LightGBM] [Info] Number of data points in the train set: 11183674, number of used features: 12\n",
      "[LightGBM] [Info] [binary:BoostFromScore]: pavg=0.002917 -> initscore=-5.834364\n",
      "[LightGBM] [Info] Start training from score -5.834364\n"
     ]
    },
    {
     "name": "stderr",
     "output_type": "stream",
     "text": [
      "3it [01:29, 27.84s/it]"
     ]
    },
    {
     "name": "stdout",
     "output_type": "stream",
     "text": [
      "[LightGBM] [Info] Number of positive: 32619, number of negative: 11151055\n",
      "[LightGBM] [Info] Auto-choosing row-wise multi-threading, the overhead of testing was 0.437893 seconds.\n",
      "You can set `force_row_wise=true` to remove the overhead.\n",
      "And if memory is not enough, you can set `force_col_wise=true`.\n",
      "[LightGBM] [Info] Total Bins 1707\n",
      "[LightGBM] [Info] Number of data points in the train set: 11183674, number of used features: 12\n",
      "[LightGBM] [Info] [binary:BoostFromScore]: pavg=0.002917 -> initscore=-5.834394\n",
      "[LightGBM] [Info] Start training from score -5.834394\n"
     ]
    },
    {
     "name": "stderr",
     "output_type": "stream",
     "text": [
      "4it [01:52, 26.04s/it]"
     ]
    },
    {
     "name": "stdout",
     "output_type": "stream",
     "text": [
      "[LightGBM] [Info] Number of positive: 32619, number of negative: 11151055\n",
      "[LightGBM] [Info] Auto-choosing row-wise multi-threading, the overhead of testing was 0.417894 seconds.\n",
      "You can set `force_row_wise=true` to remove the overhead.\n",
      "And if memory is not enough, you can set `force_col_wise=true`.\n",
      "[LightGBM] [Info] Total Bins 1703\n",
      "[LightGBM] [Info] Number of data points in the train set: 11183674, number of used features: 12\n",
      "[LightGBM] [Info] [binary:BoostFromScore]: pavg=0.002917 -> initscore=-5.834394\n",
      "[LightGBM] [Info] Start training from score -5.834394\n"
     ]
    },
    {
     "name": "stderr",
     "output_type": "stream",
     "text": [
      "5it [02:16, 27.36s/it]\n"
     ]
    }
   ],
   "source": [
    "pred_dfs = {}\n",
    "skf = StratifiedKFold(5, shuffle=True, random_state=42)\n",
    "for name, model in zip(names, models):\n",
    "    _pred_dfs = []\n",
    "    for train_idx, valid_idx in tqdm(skf.split(np.zeros(len(ds)), ds.y)):\n",
    "        train_X = ds.X.iloc[train_idx]\n",
    "        train_y = ds.y.iloc[train_idx].to_numpy().reshape(-1)\n",
    "        train_w = ds.w.iloc[train_idx]\n",
    "        valid_X = ds.X.iloc[valid_idx]\n",
    "        valid_y = ds.y.iloc[valid_idx].to_numpy().reshape(-1)\n",
    "        valid_w = ds.w.iloc[valid_idx]\n",
    "        model.fit(train_X, train_y, eval_set=[(valid_X, valid_y)])\n",
    "        pred = model.predict(valid_X)\n",
    "        _pred_dfs.append(pd.DataFrame({\"index\": valid_idx, \"pred\": pred[:, 1]}))  # type: ignore\n",
    "    pred_dfs[name] = _pred_dfs"
   ]
  },
  {
   "cell_type": "code",
   "execution_count": null,
   "metadata": {},
   "outputs": [],
   "source": []
  }
 ],
 "metadata": {
  "kernelspec": {
   "display_name": ".venv",
   "language": "python",
   "name": "python3"
  },
  "language_info": {
   "codemirror_mode": {
    "name": "ipython",
    "version": 3
   },
   "file_extension": ".py",
   "mimetype": "text/x-python",
   "name": "python",
   "nbconvert_exporter": "python",
   "pygments_lexer": "ipython3",
   "version": "3.11.10"
  }
 },
 "nbformat": 4,
 "nbformat_minor": 2
}
