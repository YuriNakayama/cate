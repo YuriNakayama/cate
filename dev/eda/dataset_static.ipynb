{
 "cells": [
  {
   "cell_type": "code",
   "execution_count": 30,
   "metadata": {},
   "outputs": [],
   "source": [
    "import numpy as np\n",
    "import pandas as pd\n",
    "import polars as pl\n",
    "\n",
    "import cate.dataset as cds\n",
    "from cate.utils import path_linker"
   ]
  },
  {
   "cell_type": "code",
   "execution_count": 6,
   "metadata": {},
   "outputs": [],
   "source": [
    "path_link = path_linker(\"test\")"
   ]
  },
  {
   "cell_type": "code",
   "execution_count": 35,
   "metadata": {},
   "outputs": [],
   "source": [
    "stats = {}"
   ]
  },
  {
   "cell_type": "code",
   "execution_count": 10,
   "metadata": {},
   "outputs": [],
   "source": [
    "dataset_names = (\"criteo\", \"hillstorm\", \"lenta\", \"megafon\")\n",
    "ds_list = [cds.Dataset.load(path_linker(name).mart) for name in dataset_names]"
   ]
  },
  {
   "cell_type": "code",
   "execution_count": 36,
   "metadata": {},
   "outputs": [],
   "source": [
    "stats[\"count\"] = [len(ds) for ds in ds_list]\n",
    "stats[\"explanatory_count\"] = [ds.X.shape[1] for ds in ds_list]\n",
    "stats[\"conversion_rate\"] = [np.mean(ds.y) for ds in ds_list]\n",
    "stats[\"tg_rate\"] = [np.mean(ds.w) for ds in ds_list]"
   ]
  },
  {
   "cell_type": "code",
   "execution_count": 37,
   "metadata": {},
   "outputs": [],
   "source": [
    "ates = []\n",
    "for ds in ds_list:\n",
    "    ate = np.mean(ds.y[ds.w == 1]) - np.mean(ds.y[ds.w == 0])\n",
    "    ates.append(ate)\n",
    "stats[\"ate\"] = ates"
   ]
  },
  {
   "cell_type": "code",
   "execution_count": 42,
   "metadata": {},
   "outputs": [],
   "source": [
    "df = pd.DataFrame(stats, index=dataset_names)"
   ]
  },
  {
   "cell_type": "code",
   "execution_count": 43,
   "metadata": {},
   "outputs": [
    {
     "data": {
      "text/html": [
       "<div>\n",
       "<style scoped>\n",
       "    .dataframe tbody tr th:only-of-type {\n",
       "        vertical-align: middle;\n",
       "    }\n",
       "\n",
       "    .dataframe tbody tr th {\n",
       "        vertical-align: top;\n",
       "    }\n",
       "\n",
       "    .dataframe thead th {\n",
       "        text-align: right;\n",
       "    }\n",
       "</style>\n",
       "<table border=\"1\" class=\"dataframe\">\n",
       "  <thead>\n",
       "    <tr style=\"text-align: right;\">\n",
       "      <th></th>\n",
       "      <th>count</th>\n",
       "      <th>explanatory_count</th>\n",
       "      <th>conversion_rate</th>\n",
       "      <th>tg_rate</th>\n",
       "      <th>ate</th>\n",
       "    </tr>\n",
       "  </thead>\n",
       "  <tbody>\n",
       "    <tr>\n",
       "      <th>criteo</th>\n",
       "      <td>13979592</td>\n",
       "      <td>12</td>\n",
       "      <td>0.002917</td>\n",
       "      <td>0.850000</td>\n",
       "      <td>0.001152</td>\n",
       "    </tr>\n",
       "    <tr>\n",
       "      <th>hillstorm</th>\n",
       "      <td>64000</td>\n",
       "      <td>12</td>\n",
       "      <td>0.009031</td>\n",
       "      <td>0.667094</td>\n",
       "      <td>0.004955</td>\n",
       "    </tr>\n",
       "    <tr>\n",
       "      <th>lenta</th>\n",
       "      <td>687029</td>\n",
       "      <td>195</td>\n",
       "      <td>0.108246</td>\n",
       "      <td>0.750903</td>\n",
       "      <td>0.007547</td>\n",
       "    </tr>\n",
       "    <tr>\n",
       "      <th>megafon</th>\n",
       "      <td>600000</td>\n",
       "      <td>50</td>\n",
       "      <td>0.204190</td>\n",
       "      <td>0.500613</td>\n",
       "      <td>0.049519</td>\n",
       "    </tr>\n",
       "  </tbody>\n",
       "</table>\n",
       "</div>"
      ],
      "text/plain": [
       "              count  explanatory_count  conversion_rate   tg_rate       ate\n",
       "criteo     13979592                 12         0.002917  0.850000  0.001152\n",
       "hillstorm     64000                 12         0.009031  0.667094  0.004955\n",
       "lenta        687029                195         0.108246  0.750903  0.007547\n",
       "megafon      600000                 50         0.204190  0.500613  0.049519"
      ]
     },
     "execution_count": 43,
     "metadata": {},
     "output_type": "execute_result"
    }
   ],
   "source": [
    "df"
   ]
  },
  {
   "cell_type": "code",
   "execution_count": null,
   "metadata": {},
   "outputs": [],
   "source": []
  }
 ],
 "metadata": {
  "kernelspec": {
   "display_name": "cate",
   "language": "python",
   "name": "cate"
  },
  "language_info": {
   "codemirror_mode": {
    "name": "ipython",
    "version": 3
   },
   "file_extension": ".py",
   "mimetype": "text/x-python",
   "name": "python",
   "nbconvert_exporter": "python",
   "pygments_lexer": "ipython3",
   "version": "3.11.10"
  }
 },
 "nbformat": 4,
 "nbformat_minor": 2
}
