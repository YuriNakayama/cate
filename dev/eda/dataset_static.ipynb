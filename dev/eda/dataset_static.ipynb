{
 "cells": [
  {
   "cell_type": "code",
   "execution_count": 53,
   "metadata": {},
   "outputs": [],
   "source": [
    "from tempfile import TemporaryDirectory\n",
    "\n",
    "import mlflow\n",
    "import mlflow.artifacts\n",
    "import numpy as np\n",
    "import pandas as pd\n",
    "\n",
    "import cate.dataset as cds\n",
    "from cate.infra.mlflow import REMOTE_TRACKING_URI\n",
    "from cate.utils import path_linker\n"
   ]
  },
  {
   "cell_type": "code",
   "execution_count": 52,
   "metadata": {},
   "outputs": [],
   "source": [
    "mlflow.set_tracking_uri(REMOTE_TRACKING_URI)"
   ]
  },
  {
   "cell_type": "code",
   "execution_count": 35,
   "metadata": {},
   "outputs": [],
   "source": [
    "stats = {}"
   ]
  },
  {
   "cell_type": "code",
   "execution_count": 10,
   "metadata": {},
   "outputs": [],
   "source": [
    "dataset_names = (\"criteo\", \"hillstorm\", \"lenta\", \"megafon\")\n",
    "ds_list = [cds.Dataset.load(path_linker(name).mart) for name in dataset_names]"
   ]
  },
  {
   "cell_type": "code",
   "execution_count": 36,
   "metadata": {},
   "outputs": [],
   "source": [
    "stats[\"count\"] = [len(ds) for ds in ds_list]\n",
    "stats[\"explanatory_count\"] = [ds.X.shape[1] for ds in ds_list]\n",
    "stats[\"conversion_rate\"] = [np.mean(ds.y) for ds in ds_list]\n",
    "stats[\"tg_rate\"] = [np.mean(ds.w) for ds in ds_list]"
   ]
  },
  {
   "cell_type": "code",
   "execution_count": 37,
   "metadata": {},
   "outputs": [],
   "source": [
    "ates = []\n",
    "for ds in ds_list:\n",
    "    ate = np.mean(ds.y[ds.w == 1]) - np.mean(ds.y[ds.w == 0])\n",
    "    ates.append(ate)\n",
    "stats[\"ate\"] = ates"
   ]
  },
  {
   "cell_type": "code",
   "execution_count": 42,
   "metadata": {},
   "outputs": [],
   "source": [
    "df = pd.DataFrame(stats, index=dataset_names)"
   ]
  },
  {
   "cell_type": "code",
   "execution_count": 47,
   "metadata": {},
   "outputs": [],
   "source": [
    "df.to_csv(\"/workspace/output/datasets_stats/base_stats.csv\")"
   ]
  },
  {
   "cell_type": "code",
   "execution_count": null,
   "metadata": {},
   "outputs": [],
   "source": [
    "run_ids = []"
   ]
  },
  {
   "cell_type": "code",
   "execution_count": null,
   "metadata": {},
   "outputs": [],
   "source": [
    "dfs = []\n",
    "with TemporaryDirectory() as tmp_dir:\n",
    "    for run_id in run_ids:\n",
    "        mlflow.artifacts.download_artifacts(\n",
    "            run_id=run_id, artifact_path=\"outputs.json\", dst_path=tmp_dir\n",
    "        )\n",
    "        df = pd.read_json(f\"{tmp_dir}/outputs.json\")\n",
    "        dfs.append(df)\n"
   ]
  }
 ],
 "metadata": {
  "kernelspec": {
   "display_name": "cate",
   "language": "python",
   "name": "cate"
  },
  "language_info": {
   "codemirror_mode": {
    "name": "ipython",
    "version": 3
   },
   "file_extension": ".py",
   "mimetype": "text/x-python",
   "name": "python",
   "nbconvert_exporter": "python",
   "pygments_lexer": "ipython3",
   "version": "3.11.10"
  }
 },
 "nbformat": 4,
 "nbformat_minor": 2
}
