{
 "cells": [
  {
   "cell_type": "markdown",
   "metadata": {},
   "source": [
    "# Import"
   ]
  },
  {
   "cell_type": "code",
   "execution_count": 1,
   "metadata": {},
   "outputs": [
    {
     "name": "stderr",
     "output_type": "stream",
     "text": [
      "/workspace/.venv/lib/python3.10/site-packages/tqdm/auto.py:21: TqdmWarning: IProgress not found. Please update jupyter and ipywidgets. See https://ipywidgets.readthedocs.io/en/stable/user_install.html\n",
      "  from .autonotebook import tqdm as notebook_tqdm\n"
     ]
    }
   ],
   "source": [
    "import pandas as pd\n",
    "import numpy as np\n",
    "from sklearn.model_selection import StratifiedKFold\n",
    "from tqdm import tqdm\n",
    "from obp.policy import QLearner\n",
    "from sklearn.ensemble import GradientBoostingRegressor\n",
    "\n",
    "from cate.dataset import Dataset, to_rank\n",
    "from cate.utils import PathLinker, Timer, get_logger"
   ]
  },
  {
   "cell_type": "code",
   "execution_count": 2,
   "metadata": {},
   "outputs": [],
   "source": [
    "pathlinker = PathLinker().data.criteo\n",
    "timer = Timer()\n",
    "logger = get_logger(\"obp\")"
   ]
  },
  {
   "cell_type": "markdown",
   "metadata": {},
   "source": [
    "# Functions"
   ]
  },
  {
   "cell_type": "markdown",
   "metadata": {},
   "source": [
    "# Read Data"
   ]
  },
  {
   "cell_type": "code",
   "execution_count": 3,
   "metadata": {},
   "outputs": [],
   "source": [
    "ds = Dataset.load(pathlinker.base)"
   ]
  },
  {
   "cell_type": "markdown",
   "metadata": {},
   "source": [
    "# Model"
   ]
  },
  {
   "cell_type": "code",
   "execution_count": 4,
   "metadata": {},
   "outputs": [],
   "source": [
    "base_regressor = GradientBoostingRegressor()\n",
    "models = {\"qlearner\": QLearner(n_actions=2, base_model=base_regressor)}"
   ]
  },
  {
   "cell_type": "code",
   "execution_count": 32,
   "metadata": {},
   "outputs": [
    {
     "name": "stdout",
     "output_type": "stream",
     "text": [
      "INFO  2024-10-24 15:01:57 [obp] start qlearner\n"
     ]
    },
    {
     "name": "stderr",
     "output_type": "stream",
     "text": [
      "0it [00:00, ?it/s]"
     ]
    }
   ],
   "source": [
    "pred_dfs = {}\n",
    "skf = StratifiedKFold(5, shuffle=True, random_state=42)\n",
    "for name, model in models.items():\n",
    "    _pred_dfs = []\n",
    "    logger.info(f\"start {name}\")\n",
    "    for i, (train_idx, valid_idx) in tqdm(\n",
    "        enumerate(skf.split(np.zeros(len(ds)), ds.y))\n",
    "    ):\n",
    "        train_X = ds.X.iloc[train_idx].to_numpy()\n",
    "        train_y = ds.y.iloc[train_idx].to_numpy().reshape(-1)\n",
    "        train_w = ds.w.iloc[train_idx].to_numpy().reshape(-1)\n",
    "        valid_X = ds.X.iloc[valid_idx].to_numpy()\n",
    "        valid_y = ds.y.iloc[valid_idx].to_numpy().reshape(-1)\n",
    "        valid_w = ds.w.iloc[valid_idx].to_numpy().reshape(-1)\n",
    "\n",
    "        timer.start(name, \"train\", i)\n",
    "        model.fit(\n",
    "            context=train_X,\n",
    "            action=train_w,\n",
    "            reward=train_y,\n",
    "            pscore=np.full(train_w.shape, train_w.mean()),\n",
    "        )\n",
    "        timer.stop(name, \"train\", i)\n",
    "\n",
    "        timer.start(name, \"predict\", i)\n",
    "        pred = model.predict_proba(context=valid_X)\n",
    "        timer.stop(name, \"predict\", i)\n",
    "\n",
    "        _pred_dfs.append(\n",
    "            pd.DataFrame(\n",
    "                {\"index\": ds.y.index[valid_idx], \"pred\": pred.reshape(-1, 2)[:, 1]}\n",
    "            )\n",
    "        )  # type: ignore\n",
    "    pred_dfs[name] = pd.concat(_pred_dfs, axis=0)\n"
   ]
  },
  {
   "cell_type": "code",
   "execution_count": 33,
   "metadata": {},
   "outputs": [
    {
     "data": {
      "text/html": [
       "<div>\n",
       "<style scoped>\n",
       "    .dataframe tbody tr th:only-of-type {\n",
       "        vertical-align: middle;\n",
       "    }\n",
       "\n",
       "    .dataframe tbody tr th {\n",
       "        vertical-align: top;\n",
       "    }\n",
       "\n",
       "    .dataframe thead th {\n",
       "        text-align: right;\n",
       "    }\n",
       "</style>\n",
       "<table border=\"1\" class=\"dataframe\">\n",
       "  <thead>\n",
       "    <tr style=\"text-align: right;\">\n",
       "      <th></th>\n",
       "      <th>index</th>\n",
       "      <th>pred</th>\n",
       "    </tr>\n",
       "  </thead>\n",
       "  <tbody>\n",
       "    <tr>\n",
       "      <th>count</th>\n",
       "      <td>100000.000000</td>\n",
       "      <td>100000.000000</td>\n",
       "    </tr>\n",
       "    <tr>\n",
       "      <th>mean</th>\n",
       "      <td>49999.500000</td>\n",
       "      <td>0.499997</td>\n",
       "    </tr>\n",
       "    <tr>\n",
       "      <th>std</th>\n",
       "      <td>28867.657797</td>\n",
       "      <td>0.000291</td>\n",
       "    </tr>\n",
       "    <tr>\n",
       "      <th>min</th>\n",
       "      <td>0.000000</td>\n",
       "      <td>0.459954</td>\n",
       "    </tr>\n",
       "    <tr>\n",
       "      <th>25%</th>\n",
       "      <td>24999.750000</td>\n",
       "      <td>0.500000</td>\n",
       "    </tr>\n",
       "    <tr>\n",
       "      <th>50%</th>\n",
       "      <td>49999.500000</td>\n",
       "      <td>0.500000</td>\n",
       "    </tr>\n",
       "    <tr>\n",
       "      <th>75%</th>\n",
       "      <td>74999.250000</td>\n",
       "      <td>0.500000</td>\n",
       "    </tr>\n",
       "    <tr>\n",
       "      <th>max</th>\n",
       "      <td>99999.000000</td>\n",
       "      <td>0.519796</td>\n",
       "    </tr>\n",
       "  </tbody>\n",
       "</table>\n",
       "</div>"
      ],
      "text/plain": [
       "               index           pred\n",
       "count  100000.000000  100000.000000\n",
       "mean    49999.500000       0.499997\n",
       "std     28867.657797       0.000291\n",
       "min         0.000000       0.459954\n",
       "25%     24999.750000       0.500000\n",
       "50%     49999.500000       0.500000\n",
       "75%     74999.250000       0.500000\n",
       "max     99999.000000       0.519796"
      ]
     },
     "execution_count": 33,
     "metadata": {},
     "output_type": "execute_result"
    }
   ],
   "source": [
    "pred_dfs[\"qlearner\"].describe()"
   ]
  },
  {
   "cell_type": "code",
   "execution_count": 34,
   "metadata": {},
   "outputs": [],
   "source": [
    "output_df = pd.merge(ds.y.copy(), ds.w.copy(), left_index=True, right_index=True)\n",
    "for name, pred_df in pred_dfs.items():\n",
    "    rank = to_rank(pred_df[\"index\"], pred_df[\"pred\"], ascending=False)\n",
    "    pred_df = pd.merge(pred_df, rank, left_on=\"index\", right_index=True).set_index(\n",
    "        \"index\", drop=True\n",
    "    )\n",
    "    pred_df = pred_df.rename(columns={\"pred\": f\"{name}_pred\", \"rank\": f\"{name}_rank\"})\n",
    "    output_df = pd.merge(output_df, pred_df, left_index=True, right_index=True)\n",
    "output_df.to_csv(pathlinker.prediction / \"obp.csv\")"
   ]
  },
  {
   "cell_type": "code",
   "execution_count": 37,
   "metadata": {},
   "outputs": [],
   "source": [
    "cvs = {}\n",
    "for name in models.keys():\n",
    "    cv_list = []\n",
    "    for rank in range(100):\n",
    "        rank_flg = output_df[f\"{name}_rank\"] <= rank\n",
    "        tg_flg = output_df[\"treatment\"] == 1\n",
    "        cv = (\n",
    "            output_df.loc[rank_flg & tg_flg, \"conversion\"].mean()\n",
    "            - output_df.loc[rank_flg & ~tg_flg, \"conversion\"].mean()\n",
    "        )\n",
    "        cv_list.append(cv)\n",
    "    cvs[name] = cv_list"
   ]
  },
  {
   "cell_type": "code",
   "execution_count": 38,
   "metadata": {},
   "outputs": [],
   "source": [
    "cv_df = pd.DataFrame(cvs)\n",
    "cv_df.to_csv(\"/workspace/outputs/obp.csv\", index=False)"
   ]
  },
  {
   "cell_type": "code",
   "execution_count": 39,
   "metadata": {},
   "outputs": [
    {
     "data": {
      "text/plain": [
       "<Axes: >"
      ]
     },
     "execution_count": 39,
     "metadata": {},
     "output_type": "execute_result"
    },
    {
     "data": {
      "image/png": "[encoded data removed]",
      "text/plain": [
       "<Figure size 640x480 with 1 Axes>"
      ]
     },
     "metadata": {},
     "output_type": "display_data"
    }
   ],
   "source": [
    "cv_df.plot()"
   ]
  },
  {
   "cell_type": "code",
   "execution_count": 40,
   "metadata": {},
   "outputs": [],
   "source": [
    "timer.to_csv(pathlinker.prediction / \"obp_duration.csv\")"
   ]
  },
  {
   "cell_type": "code",
   "execution_count": 41,
   "metadata": {},
   "outputs": [
    {
     "data": {
      "text/html": [
       "<div>\n",
       "<style scoped>\n",
       "    .dataframe tbody tr th:only-of-type {\n",
       "        vertical-align: middle;\n",
       "    }\n",
       "\n",
       "    .dataframe tbody tr th {\n",
       "        vertical-align: top;\n",
       "    }\n",
       "\n",
       "    .dataframe thead th {\n",
       "        text-align: right;\n",
       "    }\n",
       "</style>\n",
       "<table border=\"1\" class=\"dataframe\">\n",
       "  <thead>\n",
       "    <tr style=\"text-align: right;\">\n",
       "      <th></th>\n",
       "      <th>qlearner</th>\n",
       "    </tr>\n",
       "  </thead>\n",
       "  <tbody>\n",
       "    <tr>\n",
       "      <th>0</th>\n",
       "      <td>NaN</td>\n",
       "    </tr>\n",
       "    <tr>\n",
       "      <th>10</th>\n",
       "      <td>0.003394</td>\n",
       "    </tr>\n",
       "    <tr>\n",
       "      <th>20</th>\n",
       "      <td>0.002035</td>\n",
       "    </tr>\n",
       "    <tr>\n",
       "      <th>30</th>\n",
       "      <td>0.001434</td>\n",
       "    </tr>\n",
       "    <tr>\n",
       "      <th>40</th>\n",
       "      <td>0.001554</td>\n",
       "    </tr>\n",
       "    <tr>\n",
       "      <th>50</th>\n",
       "      <td>0.001581</td>\n",
       "    </tr>\n",
       "    <tr>\n",
       "      <th>60</th>\n",
       "      <td>0.001503</td>\n",
       "    </tr>\n",
       "    <tr>\n",
       "      <th>70</th>\n",
       "      <td>0.001583</td>\n",
       "    </tr>\n",
       "    <tr>\n",
       "      <th>80</th>\n",
       "      <td>0.001480</td>\n",
       "    </tr>\n",
       "    <tr>\n",
       "      <th>90</th>\n",
       "      <td>0.001446</td>\n",
       "    </tr>\n",
       "  </tbody>\n",
       "</table>\n",
       "</div>"
      ],
      "text/plain": [
       "    qlearner\n",
       "0        NaN\n",
       "10  0.003394\n",
       "20  0.002035\n",
       "30  0.001434\n",
       "40  0.001554\n",
       "50  0.001581\n",
       "60  0.001503\n",
       "70  0.001583\n",
       "80  0.001480\n",
       "90  0.001446"
      ]
     },
     "execution_count": 41,
     "metadata": {},
     "output_type": "execute_result"
    }
   ],
   "source": [
    "cv_df.iloc[range(0, 100, 10), :]"
   ]
  },
  {
   "cell_type": "code",
   "execution_count": 42,
   "metadata": {},
   "outputs": [
    {
     "data": {
      "text/plain": [
       "0.0015903436605971906"
      ]
     },
     "execution_count": 42,
     "metadata": {},
     "output_type": "execute_result"
    }
   ],
   "source": [
    "tg_flg = output_df[\"treatment\"] == 1\n",
    "output_df.loc[tg_flg, \"conversion\"].mean() - output_df.loc[~tg_flg, \"conversion\"].mean()"
   ]
  },
  {
   "cell_type": "code",
   "execution_count": null,
   "metadata": {},
   "outputs": [],
   "source": []
  }
 ],
 "metadata": {
  "kernelspec": {
   "display_name": ".venv",
   "language": "python",
   "name": "python3"
  },
  "language_info": {
   "codemirror_mode": {
    "name": "ipython",
    "version": 3
   },
   "file_extension": ".py",
   "mimetype": "text/x-python",
   "name": "python",
   "nbconvert_exporter": "python",
   "pygments_lexer": "ipython3",
   "version": "3.10.12"
  }
 },
 "nbformat": 4,
 "nbformat_minor": 2
}
