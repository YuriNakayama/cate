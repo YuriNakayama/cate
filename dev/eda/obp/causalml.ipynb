{
 "cells": [
  {
   "cell_type": "markdown",
   "metadata": {},
   "source": [
    "# Import"
   ]
  },
  {
   "cell_type": "code",
   "execution_count": 4,
   "metadata": {},
   "outputs": [
    {
     "name": "stderr",
     "output_type": "stream",
     "text": [
      "/workspace/.venv/lib/python3.10/site-packages/tqdm/auto.py:21: TqdmWarning: IProgress not found. Please update jupyter and ipywidgets. See https://ipywidgets.readthedocs.io/en/stable/user_install.html\n",
      "  from .autonotebook import tqdm as notebook_tqdm\n"
     ]
    }
   ],
   "source": [
    "import pandas as pd\n",
    "import numpy as np\n",
    "from sklearn.model_selection import StratifiedKFold\n",
    "from tqdm import tqdm\n",
    "from obp.policy import QLearner\n",
    "# from sklearn.ensemble import GradientBoostingRegressor\n",
    "import lightgbm as lgb\n",
    "from cate.dataset import Dataset, to_rank\n",
    "from cate.utils import PathLinker, Timer, get_logger"
   ]
  },
  {
   "cell_type": "code",
   "execution_count": 5,
   "metadata": {},
   "outputs": [],
   "source": [
    "pathlinker = PathLinker().data.criteo\n",
    "timer = Timer()\n",
    "logger = get_logger(\"obp\")"
   ]
  },
  {
   "cell_type": "markdown",
   "metadata": {},
   "source": [
    "# Functions"
   ]
  },
  {
   "cell_type": "markdown",
   "metadata": {},
   "source": [
    "# Read Data"
   ]
  },
  {
   "cell_type": "code",
   "execution_count": 6,
   "metadata": {},
   "outputs": [],
   "source": [
    "ds = Dataset.load(pathlinker.base)"
   ]
  },
  {
   "cell_type": "markdown",
   "metadata": {},
   "source": [
    "# Model"
   ]
  },
  {
   "cell_type": "code",
   "execution_count": 7,
   "metadata": {},
   "outputs": [],
   "source": [
    "base_regressor = lgb.LGBMRegressor(\n",
    "    importance_type=\"gain\", random_state=42, force_col_wise=True, n_jobs=-1\n",
    ")\n",
    "models = {\"qlearner\": QLearner(n_actions=2, base_model=base_regressor)}"
   ]
  },
  {
   "cell_type": "code",
   "execution_count": 8,
   "metadata": {},
   "outputs": [
    {
     "name": "stdout",
     "output_type": "stream",
     "text": [
      "INFO  2024-10-24 15:40:44 [obp] start qlearner\n"
     ]
    },
    {
     "name": "stderr",
     "output_type": "stream",
     "text": [
      "0it [00:00, ?it/s]"
     ]
    },
    {
     "name": "stdout",
     "output_type": "stream",
     "text": [
      "[LightGBM] [Info] Total Bins 1709\n",
      "[LightGBM] [Info] Number of data points in the train set: 11183673, number of used features: 14\n",
      "[LightGBM] [Info] Start training from score 0.002917\n"
     ]
    },
    {
     "name": "stderr",
     "output_type": "stream",
     "text": [
      "1it [00:22, 22.80s/it]"
     ]
    },
    {
     "name": "stdout",
     "output_type": "stream",
     "text": [
      "[LightGBM] [Info] Total Bins 1701\n",
      "[LightGBM] [Info] Number of data points in the train set: 11183673, number of used features: 14\n",
      "[LightGBM] [Info] Start training from score 0.002917\n"
     ]
    },
    {
     "name": "stderr",
     "output_type": "stream",
     "text": [
      "2it [00:48, 24.40s/it]"
     ]
    },
    {
     "name": "stdout",
     "output_type": "stream",
     "text": [
      "[LightGBM] [Info] Total Bins 1705\n",
      "[LightGBM] [Info] Number of data points in the train set: 11183674, number of used features: 14\n",
      "[LightGBM] [Info] Start training from score 0.002917\n"
     ]
    },
    {
     "name": "stderr",
     "output_type": "stream",
     "text": [
      "3it [01:11, 23.97s/it]"
     ]
    },
    {
     "name": "stdout",
     "output_type": "stream",
     "text": [
      "[LightGBM] [Info] Total Bins 1708\n",
      "[LightGBM] [Info] Number of data points in the train set: 11183674, number of used features: 14\n",
      "[LightGBM] [Info] Start training from score 0.002917\n"
     ]
    },
    {
     "name": "stderr",
     "output_type": "stream",
     "text": [
      "4it [01:39, 25.44s/it]"
     ]
    },
    {
     "name": "stdout",
     "output_type": "stream",
     "text": [
      "[LightGBM] [Info] Total Bins 1706\n",
      "[LightGBM] [Info] Number of data points in the train set: 11183674, number of used features: 14\n",
      "[LightGBM] [Info] Start training from score 0.002917\n"
     ]
    },
    {
     "name": "stderr",
     "output_type": "stream",
     "text": [
      "5it [02:04, 24.88s/it]\n"
     ]
    }
   ],
   "source": [
    "pred_dfs = {}\n",
    "skf = StratifiedKFold(5, shuffle=True, random_state=42)\n",
    "for name, model in models.items():\n",
    "    _pred_dfs = []\n",
    "    logger.info(f\"start {name}\")\n",
    "    for i, (train_idx, valid_idx) in tqdm(\n",
    "        enumerate(skf.split(np.zeros(len(ds)), ds.y))\n",
    "    ):\n",
    "        train_X = ds.X.iloc[train_idx].to_numpy()\n",
    "        train_y = ds.y.iloc[train_idx].to_numpy().reshape(-1)\n",
    "        train_w = ds.w.iloc[train_idx].to_numpy().reshape(-1)\n",
    "        valid_X = ds.X.iloc[valid_idx].to_numpy()\n",
    "        valid_y = ds.y.iloc[valid_idx].to_numpy().reshape(-1)\n",
    "        valid_w = ds.w.iloc[valid_idx].to_numpy().reshape(-1)\n",
    "\n",
    "        timer.start(name, \"train\", i)\n",
    "        model.fit(\n",
    "            context=train_X,\n",
    "            action=train_w,\n",
    "            reward=train_y,\n",
    "            pscore=np.full(train_w.shape, train_w.mean()),\n",
    "        )\n",
    "        timer.stop(name, \"train\", i)\n",
    "\n",
    "        timer.start(name, \"predict\", i)\n",
    "        pred = model.predict_proba(context=valid_X)\n",
    "        timer.stop(name, \"predict\", i)\n",
    "\n",
    "        _pred_dfs.append(\n",
    "            pd.DataFrame(\n",
    "                {\"index\": ds.y.index[valid_idx], \"pred\": pred.reshape(-1, 2)[:, 1]}\n",
    "            )\n",
    "        )  # type: ignore\n",
    "    pred_dfs[name] = pd.concat(_pred_dfs, axis=0)\n"
   ]
  },
  {
   "cell_type": "code",
   "execution_count": 9,
   "metadata": {},
   "outputs": [
    {
     "data": {
      "text/html": [
       "<div>\n",
       "<style scoped>\n",
       "    .dataframe tbody tr th:only-of-type {\n",
       "        vertical-align: middle;\n",
       "    }\n",
       "\n",
       "    .dataframe tbody tr th {\n",
       "        vertical-align: top;\n",
       "    }\n",
       "\n",
       "    .dataframe thead th {\n",
       "        text-align: right;\n",
       "    }\n",
       "</style>\n",
       "<table border=\"1\" class=\"dataframe\">\n",
       "  <thead>\n",
       "    <tr style=\"text-align: right;\">\n",
       "      <th></th>\n",
       "      <th>index</th>\n",
       "      <th>pred</th>\n",
       "    </tr>\n",
       "  </thead>\n",
       "  <tbody>\n",
       "    <tr>\n",
       "      <th>count</th>\n",
       "      <td>1.397959e+07</td>\n",
       "      <td>1.397959e+07</td>\n",
       "    </tr>\n",
       "    <tr>\n",
       "      <th>mean</th>\n",
       "      <td>6.989796e+06</td>\n",
       "      <td>5.001851e-01</td>\n",
       "    </tr>\n",
       "    <tr>\n",
       "      <th>std</th>\n",
       "      <td>4.035561e+06</td>\n",
       "      <td>1.223050e-03</td>\n",
       "    </tr>\n",
       "    <tr>\n",
       "      <th>min</th>\n",
       "      <td>0.000000e+00</td>\n",
       "      <td>4.752072e-01</td>\n",
       "    </tr>\n",
       "    <tr>\n",
       "      <th>25%</th>\n",
       "      <td>3.494898e+06</td>\n",
       "      <td>5.000158e-01</td>\n",
       "    </tr>\n",
       "    <tr>\n",
       "      <th>50%</th>\n",
       "      <td>6.989796e+06</td>\n",
       "      <td>5.000182e-01</td>\n",
       "    </tr>\n",
       "    <tr>\n",
       "      <th>75%</th>\n",
       "      <td>1.048469e+07</td>\n",
       "      <td>5.000182e-01</td>\n",
       "    </tr>\n",
       "    <tr>\n",
       "      <th>max</th>\n",
       "      <td>1.397959e+07</td>\n",
       "      <td>5.770410e-01</td>\n",
       "    </tr>\n",
       "  </tbody>\n",
       "</table>\n",
       "</div>"
      ],
      "text/plain": [
       "              index          pred\n",
       "count  1.397959e+07  1.397959e+07\n",
       "mean   6.989796e+06  5.001851e-01\n",
       "std    4.035561e+06  1.223050e-03\n",
       "min    0.000000e+00  4.752072e-01\n",
       "25%    3.494898e+06  5.000158e-01\n",
       "50%    6.989796e+06  5.000182e-01\n",
       "75%    1.048469e+07  5.000182e-01\n",
       "max    1.397959e+07  5.770410e-01"
      ]
     },
     "execution_count": 9,
     "metadata": {},
     "output_type": "execute_result"
    }
   ],
   "source": [
    "pred_dfs[\"qlearner\"].describe()"
   ]
  },
  {
   "cell_type": "code",
   "execution_count": 10,
   "metadata": {},
   "outputs": [],
   "source": [
    "output_df = pd.merge(ds.y.copy(), ds.w.copy(), left_index=True, right_index=True)\n",
    "for name, pred_df in pred_dfs.items():\n",
    "    rank = to_rank(pred_df[\"index\"], pred_df[\"pred\"], ascending=False)\n",
    "    pred_df = pd.merge(pred_df, rank, left_on=\"index\", right_index=True).set_index(\n",
    "        \"index\", drop=True\n",
    "    )\n",
    "    pred_df = pred_df.rename(columns={\"pred\": f\"{name}_pred\", \"rank\": f\"{name}_rank\"})\n",
    "    output_df = pd.merge(output_df, pred_df, left_index=True, right_index=True)\n",
    "output_df.to_csv(pathlinker.prediction / \"obp.csv\")"
   ]
  },
  {
   "cell_type": "code",
   "execution_count": 11,
   "metadata": {},
   "outputs": [
    {
     "data": {
      "text/html": [
       "<div>\n",
       "<style scoped>\n",
       "    .dataframe tbody tr th:only-of-type {\n",
       "        vertical-align: middle;\n",
       "    }\n",
       "\n",
       "    .dataframe tbody tr th {\n",
       "        vertical-align: top;\n",
       "    }\n",
       "\n",
       "    .dataframe thead th {\n",
       "        text-align: right;\n",
       "    }\n",
       "</style>\n",
       "<table border=\"1\" class=\"dataframe\">\n",
       "  <thead>\n",
       "    <tr style=\"text-align: right;\">\n",
       "      <th></th>\n",
       "      <th>conversion</th>\n",
       "      <th>treatment</th>\n",
       "      <th>qlearner_pred</th>\n",
       "      <th>qlearner_rank</th>\n",
       "    </tr>\n",
       "  </thead>\n",
       "  <tbody>\n",
       "    <tr>\n",
       "      <th>0</th>\n",
       "      <td>0</td>\n",
       "      <td>1</td>\n",
       "      <td>0.500018</td>\n",
       "      <td>25</td>\n",
       "    </tr>\n",
       "    <tr>\n",
       "      <th>1</th>\n",
       "      <td>0</td>\n",
       "      <td>1</td>\n",
       "      <td>0.500016</td>\n",
       "      <td>84</td>\n",
       "    </tr>\n",
       "    <tr>\n",
       "      <th>2</th>\n",
       "      <td>0</td>\n",
       "      <td>1</td>\n",
       "      <td>0.500018</td>\n",
       "      <td>52</td>\n",
       "    </tr>\n",
       "    <tr>\n",
       "      <th>3</th>\n",
       "      <td>0</td>\n",
       "      <td>1</td>\n",
       "      <td>0.500018</td>\n",
       "      <td>52</td>\n",
       "    </tr>\n",
       "    <tr>\n",
       "      <th>4</th>\n",
       "      <td>0</td>\n",
       "      <td>1</td>\n",
       "      <td>0.500018</td>\n",
       "      <td>25</td>\n",
       "    </tr>\n",
       "    <tr>\n",
       "      <th>...</th>\n",
       "      <td>...</td>\n",
       "      <td>...</td>\n",
       "      <td>...</td>\n",
       "      <td>...</td>\n",
       "    </tr>\n",
       "    <tr>\n",
       "      <th>13979587</th>\n",
       "      <td>0</td>\n",
       "      <td>1</td>\n",
       "      <td>0.500018</td>\n",
       "      <td>53</td>\n",
       "    </tr>\n",
       "    <tr>\n",
       "      <th>13979588</th>\n",
       "      <td>0</td>\n",
       "      <td>1</td>\n",
       "      <td>0.500057</td>\n",
       "      <td>18</td>\n",
       "    </tr>\n",
       "    <tr>\n",
       "      <th>13979589</th>\n",
       "      <td>0</td>\n",
       "      <td>1</td>\n",
       "      <td>0.502324</td>\n",
       "      <td>2</td>\n",
       "    </tr>\n",
       "    <tr>\n",
       "      <th>13979590</th>\n",
       "      <td>0</td>\n",
       "      <td>1</td>\n",
       "      <td>0.500018</td>\n",
       "      <td>37</td>\n",
       "    </tr>\n",
       "    <tr>\n",
       "      <th>13979591</th>\n",
       "      <td>0</td>\n",
       "      <td>1</td>\n",
       "      <td>0.500018</td>\n",
       "      <td>37</td>\n",
       "    </tr>\n",
       "  </tbody>\n",
       "</table>\n",
       "<p>13979592 rows × 4 columns</p>\n",
       "</div>"
      ],
      "text/plain": [
       "          conversion  treatment  qlearner_pred  qlearner_rank\n",
       "0                  0          1       0.500018             25\n",
       "1                  0          1       0.500016             84\n",
       "2                  0          1       0.500018             52\n",
       "3                  0          1       0.500018             52\n",
       "4                  0          1       0.500018             25\n",
       "...              ...        ...            ...            ...\n",
       "13979587           0          1       0.500018             53\n",
       "13979588           0          1       0.500057             18\n",
       "13979589           0          1       0.502324              2\n",
       "13979590           0          1       0.500018             37\n",
       "13979591           0          1       0.500018             37\n",
       "\n",
       "[13979592 rows x 4 columns]"
      ]
     },
     "execution_count": 11,
     "metadata": {},
     "output_type": "execute_result"
    }
   ],
   "source": [
    "output_df"
   ]
  },
  {
   "cell_type": "code",
   "execution_count": 12,
   "metadata": {},
   "outputs": [],
   "source": [
    "cvs = {}\n",
    "for name in models.keys():\n",
    "    cv_list = []\n",
    "    for rank in range(100):\n",
    "        rank_flg = output_df[f\"{name}_rank\"] <= rank\n",
    "        tg_flg = output_df[\"treatment\"] == 1\n",
    "        cv = (\n",
    "            output_df.loc[rank_flg & tg_flg, \"conversion\"].mean()\n",
    "            - output_df.loc[rank_flg & ~tg_flg, \"conversion\"].mean()\n",
    "        )\n",
    "        cv_list.append(cv)\n",
    "    cvs[name] = cv_list"
   ]
  },
  {
   "cell_type": "code",
   "execution_count": 13,
   "metadata": {},
   "outputs": [],
   "source": [
    "cv_df = pd.DataFrame(cvs)\n",
    "cv_df.to_csv(\"/workspace/outputs/obp.csv\", index=False)"
   ]
  },
  {
   "cell_type": "code",
   "execution_count": 14,
   "metadata": {},
   "outputs": [
    {
     "data": {
      "text/plain": [
       "<Axes: >"
      ]
     },
     "execution_count": 14,
     "metadata": {},
     "output_type": "execute_result"
    },
    {
     "data": {
      "image/png": "[encoded data removed]",
      "text/plain": [
       "<Figure size 640x480 with 1 Axes>"
      ]
     },
     "metadata": {},
     "output_type": "display_data"
    }
   ],
   "source": [
    "cv_df.plot()"
   ]
  },
  {
   "cell_type": "code",
   "execution_count": 15,
   "metadata": {},
   "outputs": [],
   "source": [
    "timer.to_csv(pathlinker.prediction / \"obp_duration.csv\")"
   ]
  },
  {
   "cell_type": "code",
   "execution_count": 16,
   "metadata": {},
   "outputs": [
    {
     "data": {
      "text/html": [
       "<div>\n",
       "<style scoped>\n",
       "    .dataframe tbody tr th:only-of-type {\n",
       "        vertical-align: middle;\n",
       "    }\n",
       "\n",
       "    .dataframe tbody tr th {\n",
       "        vertical-align: top;\n",
       "    }\n",
       "\n",
       "    .dataframe thead th {\n",
       "        text-align: right;\n",
       "    }\n",
       "</style>\n",
       "<table border=\"1\" class=\"dataframe\">\n",
       "  <thead>\n",
       "    <tr style=\"text-align: right;\">\n",
       "      <th></th>\n",
       "      <th>qlearner</th>\n",
       "    </tr>\n",
       "  </thead>\n",
       "  <tbody>\n",
       "    <tr>\n",
       "      <th>0</th>\n",
       "      <td>NaN</td>\n",
       "    </tr>\n",
       "    <tr>\n",
       "      <th>10</th>\n",
       "      <td>0.008259</td>\n",
       "    </tr>\n",
       "    <tr>\n",
       "      <th>20</th>\n",
       "      <td>0.004886</td>\n",
       "    </tr>\n",
       "    <tr>\n",
       "      <th>30</th>\n",
       "      <td>0.003007</td>\n",
       "    </tr>\n",
       "    <tr>\n",
       "      <th>40</th>\n",
       "      <td>0.002312</td>\n",
       "    </tr>\n",
       "    <tr>\n",
       "      <th>50</th>\n",
       "      <td>0.002312</td>\n",
       "    </tr>\n",
       "    <tr>\n",
       "      <th>60</th>\n",
       "      <td>0.001952</td>\n",
       "    </tr>\n",
       "    <tr>\n",
       "      <th>70</th>\n",
       "      <td>0.001482</td>\n",
       "    </tr>\n",
       "    <tr>\n",
       "      <th>80</th>\n",
       "      <td>0.001465</td>\n",
       "    </tr>\n",
       "    <tr>\n",
       "      <th>90</th>\n",
       "      <td>0.001309</td>\n",
       "    </tr>\n",
       "  </tbody>\n",
       "</table>\n",
       "</div>"
      ],
      "text/plain": [
       "    qlearner\n",
       "0        NaN\n",
       "10  0.008259\n",
       "20  0.004886\n",
       "30  0.003007\n",
       "40  0.002312\n",
       "50  0.002312\n",
       "60  0.001952\n",
       "70  0.001482\n",
       "80  0.001465\n",
       "90  0.001309"
      ]
     },
     "execution_count": 16,
     "metadata": {},
     "output_type": "execute_result"
    }
   ],
   "source": [
    "cv_df.iloc[range(0, 100, 10), :]"
   ]
  },
  {
   "cell_type": "code",
   "execution_count": 17,
   "metadata": {},
   "outputs": [
    {
     "data": {
      "text/plain": [
       "0.0011518730521316279"
      ]
     },
     "execution_count": 17,
     "metadata": {},
     "output_type": "execute_result"
    }
   ],
   "source": [
    "tg_flg = output_df[\"treatment\"] == 1\n",
    "output_df.loc[tg_flg, \"conversion\"].mean() - output_df.loc[~tg_flg, \"conversion\"].mean()"
   ]
  },
  {
   "cell_type": "code",
   "execution_count": null,
   "metadata": {},
   "outputs": [],
   "source": []
  }
 ],
 "metadata": {
  "kernelspec": {
   "display_name": ".venv",
   "language": "python",
   "name": "python3"
  },
  "language_info": {
   "codemirror_mode": {
    "name": "ipython",
    "version": 3
   },
   "file_extension": ".py",
   "mimetype": "text/x-python",
   "name": "python",
   "nbconvert_exporter": "python",
   "pygments_lexer": "ipython3",
   "version": "3.10.12"
  }
 },
 "nbformat": 4,
 "nbformat_minor": 2
}
