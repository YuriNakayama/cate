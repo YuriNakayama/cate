{
 "cells": [
  {
   "cell_type": "code",
   "execution_count": 10,
   "metadata": {},
   "outputs": [],
   "source": [
    "import mlflow\n",
    "import pandas as pd\n",
    "from mlflow import MlflowClient"
   ]
  },
  {
   "cell_type": "code",
   "execution_count": 11,
   "metadata": {},
   "outputs": [
    {
     "data": {
      "text/plain": [
       "<Experiment: artifact_location='s3://kaggle-nakayama/mlflow/6', creation_time=1730853199485, experiment_id='6', last_update_time=1730853199485, lifecycle_stage='active', name='base_pattern', tags={}>"
      ]
     },
     "execution_count": 11,
     "metadata": {},
     "output_type": "execute_result"
    }
   ],
   "source": [
    "REMOTE_TRACKING_URI = \"http://ec2-44-217-145-52.compute-1.amazonaws.com:5000\"\n",
    "experiment_name = \"base_pattern\"\n",
    "mlflow.set_tracking_uri(REMOTE_TRACKING_URI)\n",
    "client = MlflowClient(REMOTE_TRACKING_URI)\n",
    "\n",
    "experiment = mlflow.get_experiment_by_name(experiment_name)\n",
    "mlflow.set_experiment(experiment_id=experiment.experiment_id)"
   ]
  },
  {
   "cell_type": "code",
   "execution_count": null,
   "metadata": {},
   "outputs": [],
   "source": [
    "runs = mlflow.search_runs(experiment_ids=experiment.experiment_id)\n",
    "flg = runs[\"tags.mlflow.runName\"].str.contains(\"lenta\")\n",
    "run_df = runs.loc[flg]"
   ]
  },
  {
   "cell_type": "code",
   "execution_count": 7,
   "metadata": {},
   "outputs": [
    {
     "name": "stderr",
     "output_type": "stream",
     "text": [
      "2024/11/17 05:52:59 INFO mlflow.tracking._tracking_service.client: 🏃 View run lenta at: http://ec2-44-217-145-52.compute-1.amazonaws.com:5000/#/experiments/6/runs/0add35cfa1224f2995bffa12ae61e17b.\n",
      "2024/11/17 05:52:59 INFO mlflow.tracking._tracking_service.client: 🧪 View experiment at: http://ec2-44-217-145-52.compute-1.amazonaws.com:5000/#/experiments/6.\n"
     ]
    }
   ],
   "source": [
    "with mlflow.start_run(run_name=\"lenta\", tags={\"dataset\": \"lenta\"}) as parent_run:\n",
    "    pass"
   ]
  },
  {
   "cell_type": "code",
   "execution_count": 13,
   "metadata": {},
   "outputs": [],
   "source": [
    "for run_id in run_df.run_id:\n",
    "    run = client.set_tag(run_id, \"mlflow.parentRunId\", parent_run.info.run_id)"
   ]
  },
  {
   "cell_type": "code",
   "execution_count": null,
   "metadata": {},
   "outputs": [],
   "source": []
  }
 ],
 "metadata": {
  "kernelspec": {
   "display_name": ".venv",
   "language": "python",
   "name": "python3"
  },
  "language_info": {
   "codemirror_mode": {
    "name": "ipython",
    "version": 3
   },
   "file_extension": ".py",
   "mimetype": "text/x-python",
   "name": "python",
   "nbconvert_exporter": "python",
   "pygments_lexer": "ipython3",
   "version": "3.11.10"
  }
 },
 "nbformat": 4,
 "nbformat_minor": 2
}
