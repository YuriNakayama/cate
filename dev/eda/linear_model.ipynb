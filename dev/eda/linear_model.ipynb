{
 "cells": [
  {
   "cell_type": "markdown",
   "metadata": {},
   "source": [
    "# Import"
   ]
  },
  {
   "cell_type": "code",
   "execution_count": 3,
   "metadata": {},
   "outputs": [],
   "source": [
    "import numpy as np\n",
    "import pandas as pd\n",
    "from sklearn.linear_model import LogisticRegression\n",
    "from sklearn.metrics import roc_auc_score\n",
    "from sklearn.model_selection import StratifiedKFold\n",
    "from tqdm import tqdm\n",
    "\n",
    "from cate.model.dataset import Dataset\n",
    "from cate.utils import path_linker"
   ]
  },
  {
   "cell_type": "code",
   "execution_count": 4,
   "metadata": {},
   "outputs": [],
   "source": [
    "pathlinker = path_linker(\"criteo\")"
   ]
  },
  {
   "cell_type": "markdown",
   "metadata": {},
   "source": [
    "# Functions"
   ]
  },
  {
   "cell_type": "code",
   "execution_count": 5,
   "metadata": {},
   "outputs": [],
   "source": [
    "def to_rank(\n",
    "    primary_key: pd.Series, score: pd.Series, ascending: bool = True\n",
    ") -> pd.Series:\n",
    "    df = pd.DataFrame({primary_key.name: primary_key, score.name: score}).set_index(\n",
    "        primary_key.name, drop=True\n",
    "    )\n",
    "    df = df.sort_values(by=score.name, ascending=ascending)  # type: ignore\n",
    "    df[\"rank\"] = np.ceil(np.arange(len(df)) / len(df) * 100).astype(int)\n",
    "    return df[\"rank\"]"
   ]
  },
  {
   "cell_type": "markdown",
   "metadata": {},
   "source": [
    "# Read Data"
   ]
  },
  {
   "cell_type": "code",
   "execution_count": 6,
   "metadata": {},
   "outputs": [],
   "source": [
    "ds = Dataset.load(pathlinker.base)"
   ]
  },
  {
   "cell_type": "code",
   "execution_count": 7,
   "metadata": {},
   "outputs": [
    {
     "name": "stderr",
     "output_type": "stream",
     "text": [
      "0it [00:00, ?it/s]"
     ]
    },
    {
     "name": "stderr",
     "output_type": "stream",
     "text": [
      "5it [03:49, 45.95s/it]\n"
     ]
    }
   ],
   "source": [
    "pred_dfs = []\n",
    "skf = StratifiedKFold(5, shuffle=True, random_state=42)\n",
    "for train_idx, valid_idx in tqdm(skf.split(np.zeros(len(ds)), ds.y)):\n",
    "    train_X = ds.X.iloc[train_idx]\n",
    "    train_y = ds.y.iloc[train_idx].to_numpy().reshape(-1)\n",
    "    train_w = ds.w.iloc[train_idx]\n",
    "    valid_X = ds.X.iloc[valid_idx]\n",
    "    valid_y = ds.y.iloc[valid_idx].to_numpy().reshape(-1)\n",
    "    valid_w = ds.w.iloc[valid_idx]\n",
    "\n",
    "    model = LogisticRegression()\n",
    "    model.fit(train_X, train_y)\n",
    "    pred = model.predict_proba(valid_X)\n",
    "    pred_dfs.append(pd.DataFrame({\"index\": valid_idx, \"pred\": pred[:, 1]}))  # type: ignore"
   ]
  },
  {
   "cell_type": "code",
   "execution_count": 8,
   "metadata": {},
   "outputs": [],
   "source": [
    "pred_df = pd.concat(pred_dfs, axis=0)\n",
    "output_df = pd.merge(ds.y.copy(), ds.w.copy(), left_index=True, right_index=True)\n",
    "\n",
    "rank = to_rank(pred_df[\"index\"], pred_df[\"pred\"], ascending=False)\n",
    "pred_df = pd.merge(pred_df, rank, left_on=\"index\", right_index=True).set_index(\n",
    "    \"index\", drop=True\n",
    ")\n",
    "output_df = pd.merge(output_df, pred_df, left_index=True, right_index=True)"
   ]
  },
  {
   "cell_type": "code",
   "execution_count": 9,
   "metadata": {},
   "outputs": [],
   "source": [
    "cv_list = []\n",
    "for rank in range(100):\n",
    "    rank_flg = output_df[\"rank\"] <= rank\n",
    "    tg_flg = output_df[\"treatment\"] == 1\n",
    "    cv = (\n",
    "        output_df.loc[rank_flg & tg_flg, \"conversion\"].mean()\n",
    "        - output_df.loc[rank_flg & ~tg_flg, \"conversion\"].mean()\n",
    "    )\n",
    "    cv_list.append(cv)"
   ]
  },
  {
   "cell_type": "code",
   "execution_count": 10,
   "metadata": {},
   "outputs": [],
   "source": [
    "default_df = pd.Series(cv_list).to_frame()\n",
    "default_df.columns = [\"default\"]"
   ]
  },
  {
   "cell_type": "code",
   "execution_count": null,
   "metadata": {},
   "outputs": [],
   "source": [
    "# cv_df = pd.read_csv(\"/workspace/outputs/meta_learner.csv\", index_col = 0)"
   ]
  },
  {
   "cell_type": "code",
   "execution_count": null,
   "metadata": {},
   "outputs": [],
   "source": [
    "# cv_df[\"default\"] = default_df"
   ]
  },
  {
   "cell_type": "code",
   "execution_count": null,
   "metadata": {},
   "outputs": [],
   "source": [
    "# cv_df.plot()"
   ]
  },
  {
   "cell_type": "code",
   "execution_count": 11,
   "metadata": {},
   "outputs": [
    {
     "data": {
      "text/html": [
       "<div>\n",
       "<style scoped>\n",
       "    .dataframe tbody tr th:only-of-type {\n",
       "        vertical-align: middle;\n",
       "    }\n",
       "\n",
       "    .dataframe tbody tr th {\n",
       "        vertical-align: top;\n",
       "    }\n",
       "\n",
       "    .dataframe thead th {\n",
       "        text-align: right;\n",
       "    }\n",
       "</style>\n",
       "<table border=\"1\" class=\"dataframe\">\n",
       "  <thead>\n",
       "    <tr style=\"text-align: right;\">\n",
       "      <th></th>\n",
       "      <th>default</th>\n",
       "    </tr>\n",
       "  </thead>\n",
       "  <tbody>\n",
       "    <tr>\n",
       "      <th>0</th>\n",
       "      <td>NaN</td>\n",
       "    </tr>\n",
       "    <tr>\n",
       "      <th>10</th>\n",
       "      <td>0.008372</td>\n",
       "    </tr>\n",
       "    <tr>\n",
       "      <th>20</th>\n",
       "      <td>0.004777</td>\n",
       "    </tr>\n",
       "    <tr>\n",
       "      <th>30</th>\n",
       "      <td>0.003403</td>\n",
       "    </tr>\n",
       "    <tr>\n",
       "      <th>40</th>\n",
       "      <td>0.002648</td>\n",
       "    </tr>\n",
       "    <tr>\n",
       "      <th>50</th>\n",
       "      <td>0.002169</td>\n",
       "    </tr>\n",
       "    <tr>\n",
       "      <th>60</th>\n",
       "      <td>0.001833</td>\n",
       "    </tr>\n",
       "    <tr>\n",
       "      <th>70</th>\n",
       "      <td>0.001588</td>\n",
       "    </tr>\n",
       "    <tr>\n",
       "      <th>80</th>\n",
       "      <td>0.001403</td>\n",
       "    </tr>\n",
       "    <tr>\n",
       "      <th>90</th>\n",
       "      <td>0.001261</td>\n",
       "    </tr>\n",
       "  </tbody>\n",
       "</table>\n",
       "</div>"
      ],
      "text/plain": [
       "     default\n",
       "0        NaN\n",
       "10  0.008372\n",
       "20  0.004777\n",
       "30  0.003403\n",
       "40  0.002648\n",
       "50  0.002169\n",
       "60  0.001833\n",
       "70  0.001588\n",
       "80  0.001403\n",
       "90  0.001261"
      ]
     },
     "execution_count": 11,
     "metadata": {},
     "output_type": "execute_result"
    }
   ],
   "source": [
    "default_df.iloc[range(0, 100, 10), :]"
   ]
  },
  {
   "cell_type": "code",
   "execution_count": 13,
   "metadata": {},
   "outputs": [
    {
     "data": {
      "text/plain": [
       "0.5065633528951979"
      ]
     },
     "execution_count": 13,
     "metadata": {},
     "output_type": "execute_result"
    }
   ],
   "source": [
    "roc_auc_score(output_df[\"treatment\"], output_df[\"pred\"])"
   ]
  },
  {
   "cell_type": "code",
   "execution_count": 14,
   "metadata": {},
   "outputs": [
    {
     "data": {
      "text/plain": [
       "0.942236719542004"
      ]
     },
     "execution_count": 14,
     "metadata": {},
     "output_type": "execute_result"
    }
   ],
   "source": [
    "roc_auc_score(output_df[\"conversion\"], output_df[\"pred\"])"
   ]
  },
  {
   "cell_type": "code",
   "execution_count": 17,
   "metadata": {},
   "outputs": [
    {
     "name": "stdout",
     "output_type": "stream",
     "text": [
      "rank 0: 0.0\n",
      "rank 1: 0.14291539099831183\n",
      "rank 2: 0.09024578671778878\n",
      "rank 3: 0.06751504573330663\n"
     ]
    },
    {
     "name": "stdout",
     "output_type": "stream",
     "text": [
      "rank 4: 0.05428266903201808\n",
      "rank 5: 0.04539471801768291\n",
      "rank 6: 0.03915705742653581\n",
      "rank 7: 0.03445837403890567\n",
      "rank 8: 0.03076178860625483\n",
      "rank 9: 0.02781036494447465\n",
      "rank 10: 0.025375547225957824\n",
      "rank 11: 0.023348307533835017\n",
      "rank 12: 0.0216154253340582\n",
      "rank 13: 0.020110633797508125\n",
      "rank 14: 0.018799852642346522\n",
      "rank 15: 0.017670518789530836\n",
      "rank 16: 0.016659997719890823\n",
      "rank 17: 0.015763312155406346\n",
      "rank 18: 0.014949567365449721\n",
      "rank 19: 0.014216585602398683\n",
      "rank 20: 0.013557259706021526\n",
      "rank 21: 0.012950507797929976\n",
      "rank 22: 0.012393387635420585\n",
      "rank 23: 0.011884401707208675\n",
      "rank 24: 0.011416639071885424\n",
      "rank 25: 0.01098171935726898\n",
      "rank 26: 0.010579157420129453\n",
      "rank 27: 0.010205617182718726\n",
      "rank 28: 0.009857736506734561\n",
      "rank 29: 0.00953335428341114\n",
      "rank 30: 0.009232028208736639\n",
      "rank 31: 0.008947142770776021\n",
      "rank 32: 0.008684757023071575\n",
      "rank 33: 0.008431120165193163\n",
      "rank 34: 0.008195138207749026\n",
      "rank 35: 0.007969779625732037\n",
      "rank 36: 0.007757537076858453\n",
      "rank 37: 0.0075559937747102434\n",
      "rank 38: 0.007365247649534236\n",
      "rank 39: 0.007186483007006\n",
      "rank 40: 0.007013795287666647\n",
      "rank 41: 0.0068512760673965\n",
      "rank 42: 0.006696325545280374\n",
      "rank 43: 0.0065472511842428124\n",
      "rank 44: 0.006403977486014111\n",
      "rank 45: 0.006266753587014215\n",
      "rank 46: 0.006135962465786698\n",
      "rank 47: 0.006010432531673447\n",
      "rank 48: 0.005890729120794372\n",
      "rank 49: 0.005776203536320652\n",
      "rank 50: 0.005664685254807829\n",
      "rank 51: 0.005556559197216334\n",
      "rank 52: 0.00545245349402178\n",
      "rank 53: 0.005353491018714071\n",
      "rank 54: 0.005259650972714194\n",
      "rank 55: 0.005167402457816433\n",
      "rank 56: 0.005077937585552001\n",
      "rank 57: 0.004991862825612471\n",
      "rank 58: 0.0049098661546559735\n",
      "rank 59: 0.004829315370103638\n",
      "rank 60: 0.004751449612983496\n",
      "rank 61: 0.004676254099652515\n",
      "rank 62: 0.004602445869255509\n",
      "rank 63: 0.004531321905412459\n",
      "rank 64: 0.0044619729719851675\n",
      "rank 65: 0.004394867903597937\n",
      "rank 66: 0.004329687940136981\n",
      "rank 67: 0.00426645364826575\n",
      "rank 68: 0.0042058155569836405\n",
      "rank 69: 0.004148075471087825\n",
      "rank 70: 0.004090963205039182\n",
      "rank 71: 0.004034955983626435\n",
      "rank 72: 0.0039809019238061984\n",
      "rank 73: 0.003928328797857307\n",
      "rank 74: 0.0038762099078976024\n",
      "rank 75: 0.0038257669870225123\n",
      "rank 76: 0.0037766518675249354\n",
      "rank 77: 0.003729462409304249\n",
      "rank 78: 0.003683849772956586\n",
      "rank 79: 0.0036390296959093534\n",
      "rank 80: 0.0035949724571728396\n",
      "rank 81: 0.0035520913642196252\n",
      "rank 82: 0.003510605092824331\n",
      "rank 83: 0.003469601386254766\n",
      "rank 84: 0.003429999749635055\n",
      "rank 85: 0.0033907408227151947\n",
      "rank 86: 0.0033533098494899125\n",
      "rank 87: 0.003316657137176801\n",
      "rank 88: 0.0032808377081494037\n",
      "rank 89: 0.003245179952124433\n",
      "rank 90: 0.0032099966673642443\n",
      "rank 91: 0.003175901072120121\n",
      "rank 92: 0.003143013204418708\n",
      "rank 93: 0.0031112941052860387\n",
      "rank 94: 0.0030800976834240977\n",
      "rank 95: 0.003049407433226162\n",
      "rank 96: 0.0030195801037062285\n",
      "rank 97: 0.002993465069296519\n",
      "rank 98: 0.002968758907389861\n",
      "rank 99: 0.002943829306166846\n"
     ]
    }
   ],
   "source": [
    "for rank in range(100):\n",
    "    rank_flg = output_df[\"rank\"] <= rank\n",
    "\n",
    "    print(f\"rank {rank}: {output_df[rank_flg]['conversion'].mean()}\")"
   ]
  },
  {
   "cell_type": "code",
   "execution_count": null,
   "metadata": {},
   "outputs": [],
   "source": []
  }
 ],
 "metadata": {
  "kernelspec": {
   "display_name": ".venv",
   "language": "python",
   "name": "python3"
  },
  "language_info": {
   "codemirror_mode": {
    "name": "ipython",
    "version": 3
   },
   "file_extension": ".py",
   "mimetype": "text/x-python",
   "name": "python",
   "nbconvert_exporter": "python",
   "pygments_lexer": "ipython3",
   "version": "3.11.10"
  }
 },
 "nbformat": 4,
 "nbformat_minor": 2
}
