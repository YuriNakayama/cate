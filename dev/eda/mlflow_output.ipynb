{
 "cells": [
  {
   "cell_type": "markdown",
   "metadata": {},
   "source": [
    "## Import & Setting"
   ]
  },
  {
   "cell_type": "markdown",
   "metadata": {},
   "source": [
    "### Import"
   ]
  },
  {
   "cell_type": "code",
   "execution_count": 2,
   "metadata": {},
   "outputs": [],
   "source": [
    "import numpy as np\n",
    "import pandas as pd\n",
    "from mlflow import MlflowClient\n",
    "from tqdm import tqdm\n",
    "\n",
    "from cate.plot import LinePlot, Ticks"
   ]
  },
  {
   "cell_type": "markdown",
   "metadata": {},
   "source": [
    "### Setting"
   ]
  },
  {
   "cell_type": "code",
   "execution_count": 3,
   "metadata": {},
   "outputs": [],
   "source": [
    "REMOTE_TRACKING_URI = \"http://ec2-44-217-145-52.compute-1.amazonaws.com:5000\"\n",
    "client = MlflowClient(REMOTE_TRACKING_URI)"
   ]
  },
  {
   "cell_type": "markdown",
   "metadata": {},
   "source": [
    "### Functions"
   ]
  },
  {
   "cell_type": "code",
   "execution_count": 4,
   "metadata": {},
   "outputs": [],
   "source": [
    "def get_metric_dfs(\n",
    "    metrics: dict, columns: list[str]\n",
    ") -> tuple[pd.DataFrame, pd.DataFrame]:\n",
    "    mean_metric = {}\n",
    "    std_metric = {}\n",
    "    for model_name, metric in metrics.items():\n",
    "        mean_metric[model_name] = {}\n",
    "        std_metric[model_name] = {}\n",
    "        for column in columns:\n",
    "            mean, std = metric[column]\n",
    "            mean_metric[model_name][column] = mean\n",
    "            std_metric[model_name][column] = std\n",
    "    return pd.DataFrame(mean_metric), pd.DataFrame(std_metric)"
   ]
  },
  {
   "cell_type": "markdown",
   "metadata": {},
   "source": [
    "## Process"
   ]
  },
  {
   "cell_type": "code",
   "execution_count": 5,
   "metadata": {},
   "outputs": [],
   "source": [
    "parent_run_id = \"958128ce482042c8aea9d2a5474e3b1c\"\n",
    "parent_run = client.get_run(parent_run_id)\n",
    "experiment_id = parent_run.info.experiment_id\n",
    "child_runs = client.search_runs(\n",
    "    experiment_ids=[experiment_id],\n",
    "    filter_string=f\"tags.mlflow.parentRunId='{parent_run_id}'\",\n",
    "    order_by=[\"start_time DESC\"],\n",
    ")\n",
    "run_ids = [run.info.run_id for run in child_runs]"
   ]
  },
  {
   "cell_type": "code",
   "execution_count": 7,
   "metadata": {},
   "outputs": [
    {
     "name": "stderr",
     "output_type": "stream",
     "text": [
      "100%|██████████| 5/5 [00:58<00:00, 11.63s/it]\n"
     ]
    }
   ],
   "source": [
    "metrics = {}\n",
    "for run_id in tqdm(run_ids):\n",
    "    metric = {}\n",
    "    for metrics_column in client.get_run(run_id).data.metrics.keys():\n",
    "        values = [\n",
    "            metric_history.value\n",
    "            for metric_history in client.get_metric_history(run_id, metrics_column)\n",
    "        ]\n",
    "        metric[metrics_column] = [np.mean(values), np.std(values)]\n",
    "    model_name = client.get_run(run_id).data.tags[\"model\"]\n",
    "    metrics[model_name] = metric"
   ]
  },
  {
   "cell_type": "code",
   "execution_count": 8,
   "metadata": {},
   "outputs": [],
   "source": [
    "metrics_columns = (\n",
    "    {\n",
    "        metrics_name: [f\"{metrics_name}_at_{i}\" for i in range(0, 100, 10)]\n",
    "        for metrics_name in [\"qini\", \"uplift\"]\n",
    "    }\n",
    "    | {\"auuc\": [\"auuc\"]}\n",
    "    | {\n",
    "        \"system\": [\n",
    "            \"system/cpu_utilization_percentage\",\n",
    "            \"system/disk_available_megabytes\",\n",
    "            \"system/disk_usage_megabytes\",\n",
    "            \"system/disk_usage_percentage\",\n",
    "            \"system/gpu_0_memory_usage_megabytes\",\n",
    "            \"system/gpu_0_memory_usage_percentage\",\n",
    "            \"system/gpu_0_power_usage_percentage\",\n",
    "            \"system/gpu_0_power_usage_watts\",\n",
    "            \"system/gpu_0_utilization_percentage\",\n",
    "            \"system/network_receive_megabytes\",\n",
    "            \"system/network_transmit_megabytes\",\n",
    "            \"system/system_memory_usage_megabytes\",\n",
    "            \"system/system_memory_usage_percentage\",\n",
    "        ]\n",
    "    }\n",
    ")"
   ]
  },
  {
   "cell_type": "code",
   "execution_count": null,
   "metadata": {},
   "outputs": [],
   "source": [
    "mean_dfs, std_dfs = {}, {}\n",
    "for name, columns in metrics_columns.items():\n",
    "    mean_dfs[name], std_dfs[name] = get_metric_dfs(metrics, columns)"
   ]
  },
  {
   "cell_type": "code",
   "execution_count": null,
   "metadata": {},
   "outputs": [],
   "source": [
    "for name in [\"uplift\", \"qini\"]:\n",
    "    x_ticks = Ticks(\n",
    "        ticks=list(range(0, 10)),\n",
    "        labels=[f\"{i}0\" if i != 0 else \"0\" for i in range(0, 10)],\n",
    "    )\n",
    "    line_plot = LinePlot(x_ticks=x_ticks)\n",
    "    fig = line_plot(mean_dfs[\"uplift\"], \"uplift curve\", \"percentile\", \"uplift\")\n",
    "    client.log_figure(parent_run_id, figure=fig, artifact_file=f\"{name}.png\")"
   ]
  },
  {
   "cell_type": "code",
   "execution_count": null,
   "metadata": {},
   "outputs": [],
   "source": [
    "for name, df in mean_dfs.items():\n",
    "    client.log_table(parent_run_id, df.reset_index(), f\"{name}_mean.json\")\n",
    "for name, df in std_dfs.items():\n",
    "    client.log_table(parent_run_id, df.reset_index(), f\"{name}_std.json\")"
   ]
  },
  {
   "cell_type": "code",
   "execution_count": null,
   "metadata": {},
   "outputs": [],
   "source": [
    "# from mlflow.store.artifact.artifact_repository_registry import get_artifact_repository\n",
    "\n",
    "# repository = get_artifact_repository(parent_run.info.artifact_uri)\n",
    "# for file in repository.list_artifacts():\n",
    "#     repository.delete_artifacts(file.path)"
   ]
  },
  {
   "cell_type": "code",
   "execution_count": null,
   "metadata": {},
   "outputs": [],
   "source": []
  },
  {
   "cell_type": "code",
   "execution_count": null,
   "metadata": {},
   "outputs": [],
   "source": []
  }
 ],
 "metadata": {
  "kernelspec": {
   "display_name": ".venv",
   "language": "python",
   "name": "python3"
  },
  "language_info": {
   "codemirror_mode": {
    "name": "ipython",
    "version": 3
   },
   "file_extension": ".py",
   "mimetype": "text/x-python",
   "name": "python",
   "nbconvert_exporter": "python",
   "pygments_lexer": "ipython3",
   "version": "3.11.10"
  }
 },
 "nbformat": 4,
 "nbformat_minor": 2
}
