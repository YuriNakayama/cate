{
 "cells": [
  {
   "cell_type": "code",
   "execution_count": null,
   "metadata": {},
   "outputs": [],
   "source": [
    "import pandas as pd\n",
    "from cate.utils import PathLinker"
   ]
  },
  {
   "cell_type": "code",
   "execution_count": null,
   "metadata": {},
   "outputs": [],
   "source": [
    "pathlinker = PathLinker().data.lenta"
   ]
  },
  {
   "cell_type": "code",
   "execution_count": null,
   "metadata": {},
   "outputs": [],
   "source": [
    "output_df = pd.read_csv(pathlinker.prediction / \"metaleaner.csv\")\n",
    "timer = pd.read_csv(pathlinker.prediction / \"metalearner_duration.csv\")"
   ]
  },
  {
   "cell_type": "code",
   "execution_count": null,
   "metadata": {},
   "outputs": [],
   "source": [
    "names = [\n",
    "    \"drlearner\",\n",
    "    \"xlearner\",\n",
    "    \"rlearner\",\n",
    "    \"slearner\",\n",
    "    \"tlearner\",\n",
    "    # \"cevae\",\n",
    "]"
   ]
  },
  {
   "cell_type": "code",
   "execution_count": null,
   "metadata": {},
   "outputs": [],
   "source": [
    "cvs = {}\n",
    "for name in names:\n",
    "    cv_list = []\n",
    "    for rank in range(100):\n",
    "        rank_flg = output_df[f\"{name}_rank\"] <= rank\n",
    "        tg_flg = output_df[\"treatment\"] == 1\n",
    "        cv = (\n",
    "            output_df.loc[rank_flg & tg_flg, \"conversion\"].mean()\n",
    "            - output_df.loc[rank_flg & ~tg_flg, \"conversion\"].mean()\n",
    "        )\n",
    "        cv_list.append(cv)\n",
    "    cvs[name] = cv_list\n",
    "\n",
    "cv_df = pd.DataFrame(cvs)\n",
    "cv_df.to_csv(pathlinker.output / \"meta_learner.csv\", index=False)"
   ]
  }
 ],
 "metadata": {
  "language_info": {
   "name": "python"
  }
 },
 "nbformat": 4,
 "nbformat_minor": 2
}
