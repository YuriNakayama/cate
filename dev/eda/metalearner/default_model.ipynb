{
 "cells": [
  {
   "cell_type": "markdown",
   "metadata": {},
   "source": [
    "# Import"
   ]
  },
  {
   "cell_type": "code",
   "execution_count": 23,
   "metadata": {},
   "outputs": [],
   "source": [
    "import pandas as pd\n",
    "import lightgbm as lgb\n",
    "import numpy as np\n",
    "from sklearn.model_selection import StratifiedKFold\n",
    "from tqdm import tqdm\n",
    "\n",
    "from cate.dataset import Dataset\n",
    "from cate.utils import PathLinker, Timer"
   ]
  },
  {
   "cell_type": "code",
   "execution_count": 24,
   "metadata": {},
   "outputs": [],
   "source": [
    "pathlinker = PathLinker().data.criteo\n",
    "timer = Timer()"
   ]
  },
  {
   "cell_type": "markdown",
   "metadata": {},
   "source": [
    "# Functions"
   ]
  },
  {
   "cell_type": "code",
   "execution_count": 25,
   "metadata": {},
   "outputs": [],
   "source": [
    "def to_rank(\n",
    "    primary_key: pd.Series, score: pd.Series, ascending: bool = True\n",
    ") -> pd.Series:\n",
    "    df = pd.DataFrame({primary_key.name: primary_key, score.name: score}).set_index(\n",
    "        primary_key.name, drop=True\n",
    "    )\n",
    "    df = df.sort_values(by=score.name, ascending=ascending)  # type: ignore\n",
    "    df[\"rank\"] = np.ceil(np.arange(len(df)) / len(df) * 100).astype(int)\n",
    "    return df[\"rank\"]"
   ]
  },
  {
   "cell_type": "markdown",
   "metadata": {},
   "source": [
    "# Read Data"
   ]
  },
  {
   "cell_type": "code",
   "execution_count": 26,
   "metadata": {},
   "outputs": [],
   "source": [
    "ds = Dataset.load(pathlinker.base)"
   ]
  },
  {
   "cell_type": "code",
   "execution_count": 27,
   "metadata": {},
   "outputs": [
    {
     "name": "stderr",
     "output_type": "stream",
     "text": [
      "0it [00:00, ?it/s]"
     ]
    },
    {
     "name": "stdout",
     "output_type": "stream",
     "text": [
      "[LightGBM] [Info] Number of positive: 349, number of negative: 111487\n",
      "[LightGBM] [Info] Auto-choosing row-wise multi-threading, the overhead of testing was 0.005626 seconds.\n",
      "You can set `force_row_wise=true` to remove the overhead.\n",
      "And if memory is not enough, you can set `force_col_wise=true`.\n",
      "[LightGBM] [Info] Total Bins 1680\n",
      "[LightGBM] [Info] Number of data points in the train set: 111836, number of used features: 12\n",
      "[LightGBM] [Info] [binary:BoostFromScore]: pavg=0.003121 -> initscore=-5.766591\n",
      "[LightGBM] [Info] Start training from score -5.766591\n"
     ]
    },
    {
     "name": "stderr",
     "output_type": "stream",
     "text": [
      "1it [00:00,  1.46it/s]"
     ]
    },
    {
     "name": "stdout",
     "output_type": "stream",
     "text": [
      "[LightGBM] [Info] Number of positive: 350, number of negative: 111487\n",
      "[LightGBM] [Info] Auto-choosing row-wise multi-threading, the overhead of testing was 0.004422 seconds.\n",
      "You can set `force_row_wise=true` to remove the overhead.\n",
      "And if memory is not enough, you can set `force_col_wise=true`.\n",
      "[LightGBM] [Info] Total Bins 1681\n",
      "[LightGBM] [Info] Number of data points in the train set: 111837, number of used features: 12\n",
      "[LightGBM] [Info] [binary:BoostFromScore]: pavg=0.003130 -> initscore=-5.763730\n",
      "[LightGBM] [Info] Start training from score -5.763730\n"
     ]
    },
    {
     "name": "stderr",
     "output_type": "stream",
     "text": [
      "2it [00:01,  1.70it/s]"
     ]
    },
    {
     "name": "stdout",
     "output_type": "stream",
     "text": [
      "[LightGBM] [Info] Number of positive: 350, number of negative: 111487\n",
      "[LightGBM] [Info] Auto-choosing row-wise multi-threading, the overhead of testing was 0.005372 seconds.\n",
      "You can set `force_row_wise=true` to remove the overhead.\n",
      "And if memory is not enough, you can set `force_col_wise=true`.\n",
      "[LightGBM] [Info] Total Bins 1682\n",
      "[LightGBM] [Info] Number of data points in the train set: 111837, number of used features: 12\n",
      "[LightGBM] [Info] [binary:BoostFromScore]: pavg=0.003130 -> initscore=-5.763730\n",
      "[LightGBM] [Info] Start training from score -5.763730\n"
     ]
    },
    {
     "name": "stderr",
     "output_type": "stream",
     "text": [
      "3it [00:01,  1.92it/s]"
     ]
    },
    {
     "name": "stdout",
     "output_type": "stream",
     "text": [
      "[LightGBM] [Info] Number of positive: 350, number of negative: 111487\n",
      "[LightGBM] [Info] Auto-choosing row-wise multi-threading, the overhead of testing was 0.004292 seconds.\n",
      "You can set `force_row_wise=true` to remove the overhead.\n",
      "And if memory is not enough, you can set `force_col_wise=true`.\n",
      "[LightGBM] [Info] Total Bins 1683\n",
      "[LightGBM] [Info] Number of data points in the train set: 111837, number of used features: 12\n",
      "[LightGBM] [Info] [binary:BoostFromScore]: pavg=0.003130 -> initscore=-5.763730\n",
      "[LightGBM] [Info] Start training from score -5.763730\n"
     ]
    },
    {
     "name": "stderr",
     "output_type": "stream",
     "text": [
      "4it [00:02,  2.04it/s]"
     ]
    },
    {
     "name": "stdout",
     "output_type": "stream",
     "text": [
      "[LightGBM] [Info] Number of positive: 349, number of negative: 111488\n",
      "[LightGBM] [Info] Auto-choosing row-wise multi-threading, the overhead of testing was 0.004223 seconds.\n",
      "You can set `force_row_wise=true` to remove the overhead.\n",
      "And if memory is not enough, you can set `force_col_wise=true`.\n",
      "[LightGBM] [Info] Total Bins 1685\n",
      "[LightGBM] [Info] Number of data points in the train set: 111837, number of used features: 12\n",
      "[LightGBM] [Info] [binary:BoostFromScore]: pavg=0.003121 -> initscore=-5.766600\n",
      "[LightGBM] [Info] Start training from score -5.766600\n"
     ]
    },
    {
     "name": "stderr",
     "output_type": "stream",
     "text": [
      "5it [00:02,  1.96it/s]\n"
     ]
    }
   ],
   "source": [
    "pred_dfs = []\n",
    "skf = StratifiedKFold(5, shuffle=True, random_state=42)\n",
    "for i, (train_idx, valid_idx) in tqdm(enumerate(skf.split(np.zeros(len(ds)), ds.y))):\n",
    "    train_X = ds.X.iloc[train_idx]\n",
    "    train_y = ds.y.iloc[train_idx].to_numpy().reshape(-1)\n",
    "    train_w = ds.w.iloc[train_idx]\n",
    "    valid_X = ds.X.iloc[valid_idx]\n",
    "    valid_y = ds.y.iloc[valid_idx].to_numpy().reshape(-1)\n",
    "    valid_w = ds.w.iloc[valid_idx]\n",
    "\n",
    "    model = lgb.LGBMClassifier(importance_type=\"gain\")\n",
    "    timer.start(f\"fit_{i}\")\n",
    "    model.fit(train_X, train_y, eval_set=[(valid_X, valid_y)])\n",
    "    timer.stop(f\"fit_{i}\")\n",
    "    timer.start(f\"predict_{i}\")\n",
    "    pred = model.predict_proba(valid_X)\n",
    "    timer.stop(f\"predict_{i}\")\n",
    "    pred_dfs.append(pd.DataFrame({\"index\": valid_idx, \"pred\": pred[:, 1]}))  # type: ignore"
   ]
  },
  {
   "cell_type": "code",
   "execution_count": 28,
   "metadata": {},
   "outputs": [],
   "source": [
    "pred_df = pd.concat(pred_dfs, axis=0)\n",
    "output_df = pd.merge(ds.y.copy(), ds.w.copy(), left_index=True, right_index=True)\n",
    "\n",
    "rank = to_rank(pred_df[\"index\"], pred_df[\"pred\"], ascending=False)\n",
    "pred_df = pd.merge(pred_df, rank, left_on=\"index\", right_index=True).set_index(\n",
    "    \"index\", drop=True\n",
    ")\n",
    "output_df = pd.merge(output_df, pred_df, left_index=True, right_index=True)"
   ]
  },
  {
   "cell_type": "code",
   "execution_count": 29,
   "metadata": {},
   "outputs": [],
   "source": [
    "cv_list = []\n",
    "for rank in range(100):\n",
    "    rank_flg = output_df[\"rank\"] <= rank\n",
    "    tg_flg = output_df[\"treatment\"] == 1\n",
    "    cv = (\n",
    "        output_df.loc[rank_flg & tg_flg, \"conversion\"].mean()\n",
    "        - output_df.loc[rank_flg & ~tg_flg, \"conversion\"].mean()\n",
    "    )\n",
    "    cv_list.append(cv)"
   ]
  },
  {
   "cell_type": "code",
   "execution_count": 30,
   "metadata": {},
   "outputs": [],
   "source": [
    "default_df = pd.Series(cv_list).to_frame()\n",
    "default_df.columns = [\"default\"]"
   ]
  },
  {
   "cell_type": "code",
   "execution_count": 31,
   "metadata": {},
   "outputs": [],
   "source": [
    "# cv_df = pd.read_csv(\"/workspace/outputs/meta_learner.csv\", index_col = 0)"
   ]
  },
  {
   "cell_type": "code",
   "execution_count": 32,
   "metadata": {},
   "outputs": [],
   "source": [
    "# cv_df[\"default\"] = default_df"
   ]
  },
  {
   "cell_type": "code",
   "execution_count": 33,
   "metadata": {},
   "outputs": [],
   "source": [
    "# cv_df.plot()"
   ]
  },
  {
   "cell_type": "code",
   "execution_count": 34,
   "metadata": {},
   "outputs": [
    {
     "data": {
      "text/html": [
       "<div>\n",
       "<style scoped>\n",
       "    .dataframe tbody tr th:only-of-type {\n",
       "        vertical-align: middle;\n",
       "    }\n",
       "\n",
       "    .dataframe tbody tr th {\n",
       "        vertical-align: top;\n",
       "    }\n",
       "\n",
       "    .dataframe thead th {\n",
       "        text-align: right;\n",
       "    }\n",
       "</style>\n",
       "<table border=\"1\" class=\"dataframe\">\n",
       "  <thead>\n",
       "    <tr style=\"text-align: right;\">\n",
       "      <th></th>\n",
       "      <th>default</th>\n",
       "    </tr>\n",
       "  </thead>\n",
       "  <tbody>\n",
       "    <tr>\n",
       "      <th>0</th>\n",
       "      <td>NaN</td>\n",
       "    </tr>\n",
       "    <tr>\n",
       "      <th>10</th>\n",
       "      <td>0.011357</td>\n",
       "    </tr>\n",
       "    <tr>\n",
       "      <th>20</th>\n",
       "      <td>0.007767</td>\n",
       "    </tr>\n",
       "    <tr>\n",
       "      <th>30</th>\n",
       "      <td>0.005377</td>\n",
       "    </tr>\n",
       "    <tr>\n",
       "      <th>40</th>\n",
       "      <td>0.004138</td>\n",
       "    </tr>\n",
       "    <tr>\n",
       "      <th>50</th>\n",
       "      <td>0.003407</td>\n",
       "    </tr>\n",
       "    <tr>\n",
       "      <th>60</th>\n",
       "      <td>0.002869</td>\n",
       "    </tr>\n",
       "    <tr>\n",
       "      <th>70</th>\n",
       "      <td>0.002477</td>\n",
       "    </tr>\n",
       "    <tr>\n",
       "      <th>80</th>\n",
       "      <td>0.002187</td>\n",
       "    </tr>\n",
       "    <tr>\n",
       "      <th>90</th>\n",
       "      <td>0.001954</td>\n",
       "    </tr>\n",
       "  </tbody>\n",
       "</table>\n",
       "</div>"
      ],
      "text/plain": [
       "     default\n",
       "0        NaN\n",
       "10  0.011357\n",
       "20  0.007767\n",
       "30  0.005377\n",
       "40  0.004138\n",
       "50  0.003407\n",
       "60  0.002869\n",
       "70  0.002477\n",
       "80  0.002187\n",
       "90  0.001954"
      ]
     },
     "execution_count": 34,
     "metadata": {},
     "output_type": "execute_result"
    }
   ],
   "source": [
    "default_df.iloc[range(0, 100, 10), :]"
   ]
  },
  {
   "cell_type": "code",
   "execution_count": 37,
   "metadata": {},
   "outputs": [],
   "source": [
    "time_df = pd.DataFrame(timer.events)\n",
    "category_flg = time_df[\"category\"] == \"start\"\n",
    "duration_df = pd.merge(\n",
    "    time_df.loc[category_flg],\n",
    "    time_df.loc[~category_flg],\n",
    "    left_on=\"name\",\n",
    "    right_on=\"name\",\n",
    "    suffixes=[\"_start\", \"_stop\"],\n",
    ").iloc[1:]\n",
    "duration_df[\"duration\"] = (duration_df[\"time_stop\"] - duration_df[\"time_start\"]).apply(\n",
    "    lambda x: x.total_seconds()\n",
    ")\n",
    "duration_df = duration_df.loc[:, [\"name\", \"duration\"]]"
   ]
  },
  {
   "cell_type": "code",
   "execution_count": 38,
   "metadata": {},
   "outputs": [],
   "source": [
    "parsed_index = (\n",
    "    duration_df[\"name\"]\n",
    "    .str.split(\"_\", expand=True)\n",
    "    .rename(columns={0: \"phase\", 1: \"iter_num\"})\n",
    ")\n",
    "duration_df = pd.merge(\n",
    "    duration_df.drop(\"name\", axis=1), parsed_index, left_index=True, right_index=True\n",
    ")"
   ]
  },
  {
   "cell_type": "code",
   "execution_count": 39,
   "metadata": {},
   "outputs": [
    {
     "data": {
      "text/html": [
       "<div>\n",
       "<style scoped>\n",
       "    .dataframe tbody tr th:only-of-type {\n",
       "        vertical-align: middle;\n",
       "    }\n",
       "\n",
       "    .dataframe tbody tr th {\n",
       "        vertical-align: top;\n",
       "    }\n",
       "\n",
       "    .dataframe thead th {\n",
       "        text-align: right;\n",
       "    }\n",
       "</style>\n",
       "<table border=\"1\" class=\"dataframe\">\n",
       "  <thead>\n",
       "    <tr style=\"text-align: right;\">\n",
       "      <th></th>\n",
       "      <th>duration</th>\n",
       "    </tr>\n",
       "    <tr>\n",
       "      <th>phase</th>\n",
       "      <th></th>\n",
       "    </tr>\n",
       "  </thead>\n",
       "  <tbody>\n",
       "    <tr>\n",
       "      <th>fit</th>\n",
       "      <td>0.411250</td>\n",
       "    </tr>\n",
       "    <tr>\n",
       "      <th>predict</th>\n",
       "      <td>0.019287</td>\n",
       "    </tr>\n",
       "  </tbody>\n",
       "</table>\n",
       "</div>"
      ],
      "text/plain": [
       "         duration\n",
       "phase            \n",
       "fit      0.411250\n",
       "predict  0.019287"
      ]
     },
     "execution_count": 39,
     "metadata": {},
     "output_type": "execute_result"
    }
   ],
   "source": [
    "duration_df = (\n",
    "    duration_df.loc[:, [\"phase\", \"duration\"]]\n",
    "    .groupby([\"phase\"])\n",
    "    .mean()\n",
    ")\n",
    "duration_df"
   ]
  },
  {
   "cell_type": "code",
   "execution_count": null,
   "metadata": {},
   "outputs": [],
   "source": []
  }
 ],
 "metadata": {
  "kernelspec": {
   "display_name": ".venv",
   "language": "python",
   "name": "python3"
  },
  "language_info": {
   "codemirror_mode": {
    "name": "ipython",
    "version": 3
   },
   "file_extension": ".py",
   "mimetype": "text/x-python",
   "name": "python",
   "nbconvert_exporter": "python",
   "pygments_lexer": "ipython3",
   "version": "3.11.10"
  }
 },
 "nbformat": 4,
 "nbformat_minor": 2
}
