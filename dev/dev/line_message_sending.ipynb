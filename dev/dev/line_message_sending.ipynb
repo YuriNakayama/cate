{
 "cells": [
  {
   "cell_type": "code",
   "execution_count": 33,
   "metadata": {},
   "outputs": [],
   "source": [
    "from pathlib import Path\n",
    "\n",
    "from linebot.v3.messaging import (\n",
    "    ApiClient,\n",
    "    Configuration,\n",
    "    MessagingApi,\n",
    "    PushMessageRequest,\n",
    "    PushMessageResponse,\n",
    "    TextMessage,\n",
    ")"
   ]
  },
  {
   "cell_type": "code",
   "execution_count": 34,
   "metadata": {},
   "outputs": [],
   "source": [
    "def get_env_variable(path: Path) -> dict[str, str]:\n",
    "    with path.open() as f:\n",
    "        return dict(line.strip().split(\"=\", 1) for line in f)\n",
    "\n",
    "\n",
    "LINE_ENV_PATH = Path(\"/workspace/env/tokens/line.env\")\n",
    "ENV = get_env_variable(LINE_ENV_PATH)\n",
    "configuration = Configuration(access_token=ENV[\"CHANNEL_ACCESS_TOKEN\"])"
   ]
  },
  {
   "cell_type": "code",
   "execution_count": 36,
   "metadata": {},
   "outputs": [],
   "source": [
    "def send_messages(messages: list[str]) -> PushMessageResponse:\n",
    "    with ApiClient(configuration) as client:\n",
    "        messaging = MessagingApi(client)\n",
    "        response = messaging.push_message(\n",
    "            PushMessageRequest(\n",
    "                to=ENV[\"USER_ID\"],\n",
    "                messages=[\n",
    "                    TextMessage(text=message, quickReply=None, quoteToken=None)\n",
    "                    for message in messages\n",
    "                ],\n",
    "                notificationDisabled=None,\n",
    "                customAggregationUnits=None,\n",
    "            )\n",
    "        )\n",
    "    return response"
   ]
  },
  {
   "cell_type": "code",
   "execution_count": 38,
   "metadata": {},
   "outputs": [
    {
     "data": {
      "text/plain": [
       "PushMessageResponse(sent_messages=[SentMessage(id='538234701656883666', quote_token='-CyJsEMFPRzs25XeXLMe_ZtiF0no_n3oJcWisUrlZebEVpwbSCSZ7Ax0eNl-43kA7FUP-yfyIap_9xrjn_1dVSnKzsMEAD3cjia1SDHaNCWcjcD8fRafx5nQLTf6HYBwp9imf0yLB9xhBdcXTI0s6g'), SentMessage(id='538234701421477995', quote_token='Kfj3vzw2XRN_OyJ-Frq4zKlDD5vSg44xUCOHc_WxBY2GA1y5RDJTDjt7IVEaDrWmH5ZyXxZtSzCsFbg96F0vWLpaeV8sKZHnxgMGSDXOv3mTEVGrbfBa933fEisioS9a1WxMFmqVGP272YpEsN8blg')])"
      ]
     },
     "execution_count": 38,
     "metadata": {},
     "output_type": "execute_result"
    }
   ],
   "source": [
    "send_messages([\"Hello, World!\", \"Goodbye, World!\"])"
   ]
  },
  {
   "cell_type": "code",
   "execution_count": null,
   "metadata": {},
   "outputs": [],
   "source": []
  }
 ],
 "metadata": {
  "kernelspec": {
   "display_name": ".venv",
   "language": "python",
   "name": "python3"
  },
  "language_info": {
   "codemirror_mode": {
    "name": "ipython",
    "version": 3
   },
   "file_extension": ".py",
   "mimetype": "text/x-python",
   "name": "python",
   "nbconvert_exporter": "python",
   "pygments_lexer": "ipython3",
   "version": "3.11.10"
  }
 },
 "nbformat": 4,
 "nbformat_minor": 2
}
