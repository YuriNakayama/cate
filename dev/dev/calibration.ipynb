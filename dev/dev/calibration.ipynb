{
 "cells": [
  {
   "cell_type": "code",
   "execution_count": 5,
   "metadata": {},
   "outputs": [],
   "source": [
    "from lightgbm import LGBMClassifier\n",
    "from sklearn.calibration import CalibratedClassifierCV\n",
    "from sklearn.datasets import make_classification\n",
    "from sklearn.metrics import roc_auc_score\n",
    "from sklearn.model_selection import train_test_split, StratifiedKFold\n",
    "from copy import deepcopy\n",
    "import numpy as np"
   ]
  },
  {
   "cell_type": "code",
   "execution_count": 18,
   "metadata": {},
   "outputs": [],
   "source": [
    "class BaggingModel:\n",
    "    def __init__(self, classifiers):\n",
    "        self.classifiers = classifiers\n",
    "\n",
    "    def fit(self, X, y):\n",
    "        for classifier in self.classifiers:\n",
    "            classifier.fit(X, y)\n",
    "        return self\n",
    "\n",
    "    def predict_proba(self, X):\n",
    "        return np.mean(\n",
    "            [classifier.predict_proba(X) for classifier in self.classifiers], axis=0\n",
    "        )\n",
    "\n",
    "\n",
    "def create_cv_models(X, y, base_classifier, random_state=42) -> tuple:\n",
    "    skf = StratifiedKFold(n_splits=5, shuffle=True, random_state=42)\n",
    "    models = []\n",
    "    pred = np.zeros_like(y, dtype=float)\n",
    "    for train_idx, valid_idx in skf.split(X, y):\n",
    "        model = deepcopy(base_classifier)\n",
    "        model.fit(X[train_idx], y[train_idx])\n",
    "        models.append(model)\n",
    "        pred[valid_idx] = model.predict_proba(X[valid_idx])[:, 1]\n",
    "    return BaggingModel(models), pred"
   ]
  },
  {
   "cell_type": "code",
   "execution_count": 19,
   "metadata": {},
   "outputs": [],
   "source": [
    "train_X, train_y = make_classification(\n",
    "    n_samples=10000, n_features=20, n_classes=2, n_informative=4, n_redundant=2, random_state=42\n",
    ")\n",
    "train_X, test_X, train_y, test_y = train_test_split(\n",
    "    train_X, train_y, test_size=0.2, random_state=42\n",
    ")"
   ]
  },
  {
   "cell_type": "code",
   "execution_count": 20,
   "metadata": {},
   "outputs": [],
   "source": [
    "model = CalibratedClassifierCV(\n",
    "    LGBMClassifier(verbosity=-1, importance_type=\"gain\"), method=\"sigmoid\"\n",
    ")"
   ]
  },
  {
   "cell_type": "code",
   "execution_count": 21,
   "metadata": {},
   "outputs": [],
   "source": [
    "model, pred = create_cv_models(train_X, train_y, model)"
   ]
  },
  {
   "cell_type": "code",
   "execution_count": 22,
   "metadata": {},
   "outputs": [
    {
     "data": {
      "text/plain": [
       "array([[0.03148731, 0.96851269],\n",
       "       [0.03089386, 0.96910614],\n",
       "       [0.03617015, 0.96382985],\n",
       "       ...,\n",
       "       [0.03125122, 0.96874878],\n",
       "       [0.03083787, 0.96916213],\n",
       "       [0.96628298, 0.03371702]])"
      ]
     },
     "execution_count": 22,
     "metadata": {},
     "output_type": "execute_result"
    }
   ],
   "source": [
    "model.predict_proba(test_X)"
   ]
  },
  {
   "cell_type": "code",
   "execution_count": null,
   "metadata": {},
   "outputs": [],
   "source": []
  }
 ],
 "metadata": {
  "kernelspec": {
   "display_name": ".venv",
   "language": "python",
   "name": "python3"
  },
  "language_info": {
   "codemirror_mode": {
    "name": "ipython",
    "version": 3
   },
   "file_extension": ".py",
   "mimetype": "text/x-python",
   "name": "python",
   "nbconvert_exporter": "python",
   "pygments_lexer": "ipython3",
   "version": "3.11.10"
  }
 },
 "nbformat": 4,
 "nbformat_minor": 2
}
