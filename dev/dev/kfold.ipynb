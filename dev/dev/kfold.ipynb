{
 "cells": [
  {
   "cell_type": "code",
   "execution_count": 4,
   "metadata": {},
   "outputs": [],
   "source": [
    "import lightgbm as lgb\n",
    "import numpy as np\n",
    "import numpy.typing as npt\n",
    "import pandas as pd\n",
    "from sklearn.model_selection import StratifiedKFold\n",
    "from tqdm import tqdm\n",
    "from sklearn.metrics import roc_auc_score\n",
    "\n",
    "from cate.model.dataset import Dataset, split, to_rank\n",
    "from cate.utils import get_logger, path_linker"
   ]
  },
  {
   "cell_type": "code",
   "execution_count": 13,
   "metadata": {},
   "outputs": [
    {
     "name": "stdout",
     "output_type": "stream",
     "text": [
      "INFO  2024-11-19 05:44:51 [causalml] load dataset\n",
      "INFO  2024-11-19 05:44:51 [causalml] load dataset\n"
     ]
    }
   ],
   "source": [
    "dataset_name = \"test\"\n",
    "pathlinker = path_linker(dataset_name)\n",
    "logger = get_logger(\"causalml\")\n",
    "logger.info(\"load dataset\")\n",
    "\n",
    "ds = Dataset.load(pathlinker.base)\n",
    "train_ds, test_ds = split(ds, 1 / 3, random_state=42)\n",
    "\n",
    "# Add Bias To Train Dataset Using LightGBM\n",
    "_pred_dfs = []\n",
    "skf = StratifiedKFold(5, shuffle=True, random_state=42)\n",
    "for i, (train_idx, valid_idx) in enumerate(\n",
    "    skf.split(np.zeros(len(train_ds)), train_ds.y)\n",
    "):\n",
    "    train_X = train_ds.X.iloc[train_idx]\n",
    "    train_y = train_ds.y.iloc[train_idx].to_numpy().reshape(-1)\n",
    "    valid_X = train_ds.X.iloc[valid_idx]\n",
    "    valid_y = train_ds.y.iloc[valid_idx].to_numpy().reshape(-1)\n",
    "\n",
    "    base_classifier = lgb.LGBMClassifier(\n",
    "        importance_type=\"gain\",\n",
    "        random_state=42,\n",
    "        force_col_wise=True,\n",
    "        n_jobs=-1,\n",
    "        verbosity=0,\n",
    "    )\n",
    "    base_classifier.fit(\n",
    "        train_X, train_y, eval_set=[(valid_X, valid_y)], eval_metric=\"auc\"\n",
    "    )\n",
    "    pred: npt.NDArray[np.float_] = base_classifier.predict_proba(valid_X)[:, 1]  # type: ignore\n",
    "\n",
    "    _pred_dfs.append(\n",
    "        pd.DataFrame(\n",
    "            {\"index\": train_ds.y.index[valid_idx], \"pred\": pred.reshape(-1)}\n",
    "        ).set_index(\"index\")\n",
    "    )\n",
    "pred_df = pd.concat(_pred_dfs)\n",
    "rank = to_rank(pred_df.index.to_series(), pred_df[\"pred\"]).to_frame()"
   ]
  },
  {
   "cell_type": "code",
   "execution_count": null,
   "metadata": {},
   "outputs": [],
   "source": [
    "train_df = pd.merge(train_ds.to_pandas(), rank, left_index=True, right_index=True)"
   ]
  },
  {
   "cell_type": "code",
   "execution_count": null,
   "metadata": {},
   "outputs": [],
   "source": [
    "train_ds_list: list[Dataset] = []\n",
    "for rank in range(1, 101):\n",
    "    rank_flg = train_df[\"rank\"] <= rank\n",
    "    localized_train_df = train_df.loc[rank_flg]\n",
    "    localized_train_ds = Dataset(\n",
    "        localized_train_df, train_ds.x_columns, train_ds.y_columns, train_ds.w_columns\n",
    "    )\n",
    "    train_ds_list.append(localized_train_ds)"
   ]
  }
 ],
 "metadata": {
  "kernelspec": {
   "display_name": ".venv",
   "language": "python",
   "name": "python3"
  },
  "language_info": {
   "codemirror_mode": {
    "name": "ipython",
    "version": 3
   },
   "file_extension": ".py",
   "mimetype": "text/x-python",
   "name": "python",
   "nbconvert_exporter": "python",
   "pygments_lexer": "ipython3",
   "version": "3.11.10"
  }
 },
 "nbformat": 4,
 "nbformat_minor": 2
}
