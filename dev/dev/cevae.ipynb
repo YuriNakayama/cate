{
 "cells": [
  {
   "cell_type": "code",
   "execution_count": 15,
   "metadata": {},
   "outputs": [],
   "source": [
    "import lightgbm as lgb\n",
    "import numpy as np\n",
    "import pandas as pd\n",
    "from pyro.contrib.cevae import CEVAE\n",
    "from sklearn.model_selection import StratifiedKFold\n",
    "from tqdm import tqdm\n",
    "\n",
    "import torch\n",
    "from cate.infra.mlflow import MlflowClient\n",
    "from cate.model.dataset import Dataset\n",
    "from cate.model.evaluate import (\n",
    "    Auuc,\n",
    "    Outputs,\n",
    "    QiniByPercentile,\n",
    "    UpliftByPercentile,\n",
    "    UpliftCurve,\n",
    ")\n",
    "from torch import Tensor\n",
    "from cate.model.metrics import Artifacts, Metrics\n",
    "from cate.utils import Timer, get_logger, path_linker"
   ]
  },
  {
   "cell_type": "code",
   "execution_count": 2,
   "metadata": {},
   "outputs": [],
   "source": [
    "dataset_name = \"test\"\n",
    "logger = get_logger(\"causalml\")\n",
    "pathlinker = path_linker(dataset_name)\n",
    "client = MlflowClient(\"base_pattern\")\n",
    "timer = Timer()"
   ]
  },
  {
   "cell_type": "code",
   "execution_count": 3,
   "metadata": {},
   "outputs": [
    {
     "name": "stdout",
     "output_type": "stream",
     "text": [
      "INFO  2024-11-07 15:33:25 [causalml] load dataset\n"
     ]
    }
   ],
   "source": [
    "logger.info(\"load dataset\")\n",
    "ds = Dataset.load(pathlinker.base)\n",
    "base_classifier = lgb.LGBMClassifier(\n",
    "    importance_type=\"gain\", random_state=42, force_col_wise=True, n_jobs=-1\n",
    ")\n",
    "base_regressor = lgb.LGBMRegressor(\n",
    "    importance_type=\"gain\", random_state=42, force_col_wise=True, n_jobs=-1\n",
    ")\n",
    "\n",
    "models = {\n",
    "    \"cevae\": CEVAE(ds.X.shape[1]).to(\"cuda\"),\n",
    "}"
   ]
  },
  {
   "cell_type": "code",
   "execution_count": null,
   "metadata": {},
   "outputs": [
    {
     "name": "stdout",
     "output_type": "stream",
     "text": [
      "INFO  2024-11-07 15:42:07 [causalml] start cevae\n"
     ]
    },
    {
     "name": "stderr",
     "output_type": "stream",
     "text": [
      "2024/11/07 15:42:08 INFO mlflow.system_metrics.system_metrics_monitor: Started monitoring system metrics.\n",
      "0it [00:00, ?it/s]"
     ]
    },
    {
     "name": "stdout",
     "output_type": "stream",
     "text": [
      "INFO  2024-11-07 15:42:08 [causalml] epoch 0\n"
     ]
    },
    {
     "name": "stderr",
     "output_type": "stream",
     "text": [
      "INFO \t Training with 800 minibatches per epoch\n"
     ]
    }
   ],
   "source": [
    "torch.set_default_device(\"cuda\")\n",
    "skf = StratifiedKFold(5, shuffle=True, random_state=42)\n",
    "for name, model in models.items():\n",
    "    logger.info(f\"start {name}\")\n",
    "    client.start_run(\n",
    "        run_name=f\"{dataset_name}_{name}\",\n",
    "        tags={\"model\": name, \"dataset\": dataset_name, \"package\": \"causalml\"},\n",
    "        description=f\"base_pattern: {name} training and evaluation using {dataset_name} dataset with causalml package and lightgbm model with 5-fold cross validation and stratified sampling.\",\n",
    "    )\n",
    "    client.log_params(\n",
    "        {\n",
    "            \"importance_type\": \"gain\",\n",
    "            \"random_state\": 42,\n",
    "            \"n_jobs\": -1,\n",
    "            \"force_col_wise\": True,\n",
    "        }\n",
    "    )\n",
    "    _pred_dfs = []\n",
    "    for i, (train_idx, valid_idx) in tqdm(\n",
    "        enumerate(skf.split(np.zeros(len(ds)), ds.y))\n",
    "    ):\n",
    "        logger.info(f\"epoch {i}\")\n",
    "        train_X = ds.X.iloc[train_idx].to_numpy()\n",
    "        train_y = ds.y.iloc[train_idx].to_numpy().reshape(-1)\n",
    "        train_w = ds.w.iloc[train_idx].to_numpy().reshape(-1)\n",
    "        valid_X = ds.X.iloc[valid_idx].to_numpy()\n",
    "        valid_y = ds.y.iloc[valid_idx].to_numpy().reshape(-1)\n",
    "        valid_w = ds.w.iloc[valid_idx].to_numpy().reshape(-1)\n",
    "\n",
    "        timer.start(name, \"train\", i)\n",
    "        model.fit(\n",
    "            Tensor(train_X).to(\"cuda\"),\n",
    "            Tensor(train_w).to(\"cuda\"),\n",
    "            Tensor(train_y).to(\"cuda\"),\n",
    "        )\n",
    "        timer.stop(name, \"train\", i)\n",
    "\n",
    "        timer.start(name, \"predict\", i)\n",
    "        pred = model.ite(Tensor(valid_X).to(\"cuda\"))\n",
    "        timer.stop(name, \"predict\", i)\n",
    "\n",
    "        metrics = Metrics(\n",
    "            list(\n",
    "                [Auuc()]\n",
    "                + [UpliftByPercentile(k) for k in np.arange(0, 1, 0.1)]\n",
    "                + [QiniByPercentile(k) for k in np.arange(0, 1, 0.1)]\n",
    "            )\n",
    "        )\n",
    "        metrics(pred.to(\"cpu\").numpy().reshape(-1), valid_y, valid_w)\n",
    "        client.log_metrics(metrics, i)\n",
    "\n",
    "        _pred_dfs.append(\n",
    "            pd.DataFrame({\"index\": ds.y.index[valid_idx], \"pred\": pred.reshape(-1)})\n",
    "        )\n",
    "\n",
    "    pred_df = pd.concat(_pred_dfs, axis=0)\n",
    "    base_df = pd.merge(\n",
    "        ds.y.rename(columns={ds.y_columns[0]: \"y\"}),\n",
    "        ds.w.rename(columns={ds.w_columns[0]: \"w\"}),\n",
    "        left_index=True,\n",
    "        right_index=True,\n",
    "    )\n",
    "    output_df = pd.merge(base_df, pred_df, left_index=True, right_index=True)\n",
    "\n",
    "    artifacts = Artifacts([UpliftCurve(), Outputs()])\n",
    "    artifacts(output_df.pred.to_numpy(), output_df.y.to_numpy(), output_df.w.to_numpy())\n",
    "    client.log_artifacts(artifacts)\n",
    "    client.end_run()"
   ]
  },
  {
   "cell_type": "code",
   "execution_count": 17,
   "metadata": {},
   "outputs": [
    {
     "name": "stderr",
     "output_type": "stream",
     "text": [
      "2024/11/07 15:42:05 INFO mlflow.tracking._tracking_service.client: 🏃 View run test_cevae at: http://ec2-44-217-145-52.compute-1.amazonaws.com:5000/#/experiments/6/runs/e45226b179234e6db8cde62042e2ccc2.\n",
      "2024/11/07 15:42:05 INFO mlflow.tracking._tracking_service.client: 🧪 View experiment at: http://ec2-44-217-145-52.compute-1.amazonaws.com:5000/#/experiments/6.\n",
      "2024/11/07 15:42:05 INFO mlflow.system_metrics.system_metrics_monitor: Stopping system metrics monitoring...\n",
      "2024/11/07 15:42:05 INFO mlflow.system_metrics.system_metrics_monitor: Successfully terminated system metrics monitoring!\n"
     ]
    }
   ],
   "source": [
    "client.end_run()"
   ]
  },
  {
   "cell_type": "code",
   "execution_count": null,
   "metadata": {},
   "outputs": [],
   "source": []
  }
 ],
 "metadata": {
  "kernelspec": {
   "display_name": ".venv",
   "language": "python",
   "name": "python3"
  },
  "language_info": {
   "codemirror_mode": {
    "name": "ipython",
    "version": 3
   },
   "file_extension": ".py",
   "mimetype": "text/x-python",
   "name": "python",
   "nbconvert_exporter": "python",
   "pygments_lexer": "ipython3",
   "version": "3.11.10"
  }
 },
 "nbformat": 4,
 "nbformat_minor": 2
}
