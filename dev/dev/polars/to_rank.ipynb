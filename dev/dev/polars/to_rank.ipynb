{
 "cells": [
  {
   "cell_type": "code",
   "execution_count": 2,
   "metadata": {},
   "outputs": [],
   "source": [
    "import numpy as np\n",
    "import pandas as pd\n",
    "import polars as pl\n"
   ]
  },
  {
   "cell_type": "code",
   "execution_count": 3,
   "metadata": {},
   "outputs": [],
   "source": [
    "def to_rank(\n",
    "    primary_key: pd.Series, score: pd.Series, ascending: bool = True, k: int = 100\n",
    ") -> pd.Series:\n",
    "    df = pd.DataFrame({primary_key.name: primary_key, score.name: score}).set_index(\n",
    "        primary_key.name, drop=True\n",
    "    )\n",
    "    df = df.sort_values(by=str(score.name), ascending=ascending)\n",
    "    df[\"rank\"] = np.ceil(np.arange(1, len(df) + 1) / len(df) * k).astype(int)\n",
    "    return df[\"rank\"]\n"
   ]
  },
  {
   "cell_type": "code",
   "execution_count": 4,
   "metadata": {},
   "outputs": [
    {
     "data": {
      "text/plain": [
       "pk\n",
       "1    1\n",
       "2    2\n",
       "3    2\n",
       "4    3\n",
       "5    3\n",
       "Name: rank, dtype: int64"
      ]
     },
     "execution_count": 4,
     "metadata": {},
     "output_type": "execute_result"
    }
   ],
   "source": [
    "to_rank(\n",
    "    pd.Series([1, 2, 3, 4, 5], name=\"pk\"),\n",
    "    pd.Series([1, 2, 3, 4, 5], name=\"score\"),\n",
    "    ascending=True,\n",
    "    k=3,\n",
    ")"
   ]
  },
  {
   "cell_type": "code",
   "execution_count": 5,
   "metadata": {},
   "outputs": [],
   "source": [
    "df = pl.DataFrame(\n",
    "    {\n",
    "        \"pk\": [1, 2, 3, 4, 5],\n",
    "        \"score\": [1, 2, 3, 4, 5],\n",
    "    }\n",
    ")"
   ]
  },
  {
   "cell_type": "code",
   "execution_count": 25,
   "metadata": {},
   "outputs": [],
   "source": [
    "def to_rank(\n",
    "    primary_key: pl.Series, score: pl.Series, descending: bool = False, k: int = 100\n",
    ") -> pl.Series:\n",
    "    df = pl.DataFrame({primary_key.name: primary_key, score.name: score})\n",
    "    df = df.sort(by=str(score.name), descending=descending)\n",
    "    df = df.with_columns(\n",
    "        pl.Series(\n",
    "            name=\"rank\",\n",
    "            values=np.ceil(np.arange(1, len(df) + 1) / len(df) * k),\n",
    "            dtype=pl.Int64,\n",
    "        )\n",
    "    )\n",
    "    return df[\"rank\"]\n"
   ]
  },
  {
   "cell_type": "code",
   "execution_count": 26,
   "metadata": {},
   "outputs": [
    {
     "data": {
      "text/html": [
       "<div><style>\n",
       ".dataframe > thead > tr,\n",
       ".dataframe > tbody > tr {\n",
       "  text-align: right;\n",
       "  white-space: pre-wrap;\n",
       "}\n",
       "</style>\n",
       "<small>shape: (5,)</small><table border=\"1\" class=\"dataframe\"><thead><tr><th>rank</th></tr><tr><td>i64</td></tr></thead><tbody><tr><td>1</td></tr><tr><td>2</td></tr><tr><td>2</td></tr><tr><td>3</td></tr><tr><td>3</td></tr></tbody></table></div>"
      ],
      "text/plain": [
       "shape: (5,)\n",
       "Series: 'rank' [i64]\n",
       "[\n",
       "\t1\n",
       "\t2\n",
       "\t2\n",
       "\t3\n",
       "\t3\n",
       "]"
      ]
     },
     "execution_count": 26,
     "metadata": {},
     "output_type": "execute_result"
    }
   ],
   "source": [
    "to_rank(\n",
    "    pl.Series(\"pk\", [1, 2, 3, 4, 5]),\n",
    "    pl.Series(\"score\", [1, 2, 3, 4, 5]),\n",
    "    descending=True,\n",
    "    k=3,\n",
    ")"
   ]
  },
  {
   "cell_type": "code",
   "execution_count": 19,
   "metadata": {},
   "outputs": [
    {
     "data": {
      "text/plain": [
       "5"
      ]
     },
     "execution_count": 19,
     "metadata": {},
     "output_type": "execute_result"
    }
   ],
   "source": [
    "len(df)"
   ]
  },
  {
   "cell_type": "code",
   "execution_count": 30,
   "metadata": {},
   "outputs": [],
   "source": [
    "import polars.testing as pl_testing"
   ]
  },
  {
   "cell_type": "code",
   "execution_count": 32,
   "metadata": {},
   "outputs": [
    {
     "data": {
      "text/plain": [
       "<function polars.testing.asserts.frame.assert_frame_equal(left: 'DataFrame | LazyFrame', right: 'DataFrame | LazyFrame', *, check_row_order: 'bool' = True, check_column_order: 'bool' = True, check_dtypes: 'bool' = True, check_exact: 'bool' = False, rtol: 'float' = 1e-05, atol: 'float' = 1e-08, categorical_as_str: 'bool' = False) -> 'None'>"
      ]
     },
     "execution_count": 32,
     "metadata": {},
     "output_type": "execute_result"
    }
   ],
   "source": [
    "pl_testing.assert_frame_equal"
   ]
  },
  {
   "cell_type": "code",
   "execution_count": null,
   "metadata": {},
   "outputs": [],
   "source": [
    "pl."
   ]
  }
 ],
 "metadata": {
  "kernelspec": {
   "display_name": "cate",
   "language": "python",
   "name": "cate"
  },
  "language_info": {
   "codemirror_mode": {
    "name": "ipython",
    "version": 3
   },
   "file_extension": ".py",
   "mimetype": "text/x-python",
   "name": "python",
   "nbconvert_exporter": "python",
   "pygments_lexer": "ipython3",
   "version": "3.11.11"
  }
 },
 "nbformat": 4,
 "nbformat_minor": 2
}
