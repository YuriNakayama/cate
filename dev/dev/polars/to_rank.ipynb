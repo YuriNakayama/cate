{
 "cells": [
  {
   "cell_type": "code",
   "execution_count": 6,
   "metadata": {},
   "outputs": [],
   "source": [
    "import numpy as np\n",
    "import pandas as pd\n",
    "import polars as pl\n"
   ]
  },
  {
   "cell_type": "code",
   "execution_count": 7,
   "metadata": {},
   "outputs": [],
   "source": [
    "def to_rank(\n",
    "    primary_key: pd.Series, score: pd.Series, ascending: bool = True, k: int = 100\n",
    ") -> pd.Series:\n",
    "    df = pd.DataFrame({primary_key.name: primary_key, score.name: score}).set_index(\n",
    "        primary_key.name, drop=True\n",
    "    )\n",
    "    df = df.sort_values(by=str(score.name), ascending=ascending)\n",
    "    df[\"rank\"] = np.ceil(np.arange(1, len(df) + 1) / len(df) * k).astype(int)\n",
    "    return df[\"rank\"]\n"
   ]
  },
  {
   "cell_type": "code",
   "execution_count": 8,
   "metadata": {},
   "outputs": [
    {
     "data": {
      "text/plain": [
       "pk\n",
       "1    1\n",
       "2    2\n",
       "3    2\n",
       "4    3\n",
       "5    3\n",
       "Name: rank, dtype: int64"
      ]
     },
     "execution_count": 8,
     "metadata": {},
     "output_type": "execute_result"
    }
   ],
   "source": [
    "to_rank(\n",
    "    pd.Series([1, 2, 3, 4, 5], name=\"pk\"),\n",
    "    pd.Series([1, 2, 3, 4, 5], name=\"score\"),\n",
    "    ascending=True,\n",
    "    k=3,\n",
    ")"
   ]
  },
  {
   "cell_type": "code",
   "execution_count": null,
   "metadata": {},
   "outputs": [],
   "source": [
    "df = pl.DataFrame(\n",
    "    {\n",
    "        \"pk\": [1, 2, 3, 4, 5],\n",
    "        \"score\": [1, 2, 3, 4, 5],\n",
    "    }\n",
    ")"
   ]
  },
  {
   "cell_type": "code",
   "execution_count": null,
   "metadata": {},
   "outputs": [],
   "source": [
    "def to_rank(\n",
    "    primary_key: pl.Series, score: pl.Series, ascending: bool = True, k: int = 100\n",
    ") -> pl.Series:\n",
    "    df = pl.DataFrame({primary_key.name: primary_key, score.name: score})\n",
    "    df = df.sort_values(by=str(score.name), ascending=ascending)\n",
    "    df[\"rank\"] = np.ceil(np.arange(1, len(df) + 1) / len(df) * k).astype(int)\n",
    "    return df[\"rank\"]\n"
   ]
  }
 ],
 "metadata": {
  "kernelspec": {
   "display_name": "cate",
   "language": "python",
   "name": "cate"
  },
  "language_info": {
   "codemirror_mode": {
    "name": "ipython",
    "version": 3
   },
   "file_extension": ".py",
   "mimetype": "text/x-python",
   "name": "python",
   "nbconvert_exporter": "python",
   "pygments_lexer": "ipython3",
   "version": "3.11.10"
  }
 },
 "nbformat": 4,
 "nbformat_minor": 2
}
