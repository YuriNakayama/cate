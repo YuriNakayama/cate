{
 "cells": [
  {
   "cell_type": "code",
   "execution_count": 3,
   "metadata": {},
   "outputs": [],
   "source": [
    "import numpy as np\n",
    "import pandas as pd\n",
    "import polars as pl"
   ]
  },
  {
   "cell_type": "code",
   "execution_count": 3,
   "metadata": {},
   "outputs": [],
   "source": [
    "def to_rank(\n",
    "    primary_key: pd.Series, score: pd.Series, ascending: bool = True, k: int = 100\n",
    ") -> pd.Series:\n",
    "    df = pd.DataFrame({primary_key.name: primary_key, score.name: score}).set_index(\n",
    "        primary_key.name, drop=True\n",
    "    )\n",
    "    df = df.sort_values(by=str(score.name), ascending=ascending)\n",
    "    df[\"rank\"] = np.ceil(np.arange(1, len(df) + 1) / len(df) * k).astype(int)\n",
    "    return df[\"rank\"]"
   ]
  },
  {
   "cell_type": "code",
   "execution_count": 4,
   "metadata": {},
   "outputs": [
    {
     "data": {
      "text/plain": [
       "pk\n",
       "1    1\n",
       "2    2\n",
       "3    2\n",
       "4    3\n",
       "5    3\n",
       "Name: rank, dtype: int64"
      ]
     },
     "execution_count": 4,
     "metadata": {},
     "output_type": "execute_result"
    }
   ],
   "source": [
    "to_rank(\n",
    "    pd.Series([1, 2, 3, 4, 5], name=\"pk\"),\n",
    "    pd.Series([1, 2, 3, 4, 5], name=\"score\"),\n",
    "    ascending=True,\n",
    "    k=3,\n",
    ")"
   ]
  },
  {
   "cell_type": "code",
   "execution_count": 5,
   "metadata": {},
   "outputs": [],
   "source": [
    "df = pl.DataFrame(\n",
    "    {\n",
    "        \"pk\": [1, 2, 3, 4, 5],\n",
    "        \"score\": [1, 2, 3, 4, 5],\n",
    "    }\n",
    ")"
   ]
  },
  {
   "cell_type": "code",
   "execution_count": 25,
   "metadata": {},
   "outputs": [],
   "source": [
    "def to_rank(\n",
    "    primary_key: pl.Series, score: pl.Series, descending: bool = False, k: int = 100\n",
    ") -> pl.Series:\n",
    "    df = pl.DataFrame({primary_key.name: primary_key, score.name: score})\n",
    "    df = df.sort(by=str(score.name), descending=descending)\n",
    "    df = df.with_columns(\n",
    "        pl.Series(\n",
    "            name=\"rank\",\n",
    "            values=np.ceil(np.arange(1, len(df) + 1) / len(df) * k),\n",
    "            dtype=pl.Int64,\n",
    "        )\n",
    "    )\n",
    "    return df[\"rank\"]"
   ]
  },
  {
   "cell_type": "code",
   "execution_count": 34,
   "metadata": {},
   "outputs": [
    {
     "data": {
      "text/html": [
       "<div><style>\n",
       ".dataframe > thead > tr,\n",
       ".dataframe > tbody > tr {\n",
       "  text-align: right;\n",
       "  white-space: pre-wrap;\n",
       "}\n",
       "</style>\n",
       "<small>shape: (5,)</small><table border=\"1\" class=\"dataframe\"><thead><tr><th>rank</th></tr><tr><td>i64</td></tr></thead><tbody><tr><td>1</td></tr><tr><td>2</td></tr><tr><td>2</td></tr><tr><td>3</td></tr><tr><td>3</td></tr></tbody></table></div>"
      ],
      "text/plain": [
       "shape: (5,)\n",
       "Series: 'rank' [i64]\n",
       "[\n",
       "\t1\n",
       "\t2\n",
       "\t2\n",
       "\t3\n",
       "\t3\n",
       "]"
      ]
     },
     "execution_count": 34,
     "metadata": {},
     "output_type": "execute_result"
    }
   ],
   "source": [
    "to_rank(\n",
    "    pl.Series(\"pk\", [1, 2, 3, 4, 5]),\n",
    "    pl.Series(\"score\", [1, 2, 3, 4, 5]),\n",
    "    descending=True,\n",
    "    k=3,\n",
    ")"
   ]
  },
  {
   "cell_type": "code",
   "execution_count": null,
   "metadata": {},
   "outputs": [],
   "source": [
    "df_1 = pl.DataFrame(\n",
    "    {\n",
    "        \"pk\": [1, 2, 3, 4, 5],\n",
    "        \"score_1\": [1, 2, 3, 4, 5],\n",
    "    }\n",
    ")\n",
    "\n",
    "df_2 = pl.DataFrame(\n",
    "    {\n",
    "        \"pk\": [5, 4, 3, 2, 1],\n",
    "        \"score_2\": [1, 2, 3, 4, 5],\n",
    "    }\n",
    ")"
   ]
  },
  {
   "cell_type": "code",
   "execution_count": 9,
   "metadata": {},
   "outputs": [
    {
     "data": {
      "text/html": [
       "<div><style>\n",
       ".dataframe > thead > tr,\n",
       ".dataframe > tbody > tr {\n",
       "  text-align: right;\n",
       "  white-space: pre-wrap;\n",
       "}\n",
       "</style>\n",
       "<small>shape: (5, 3)</small><table border=\"1\" class=\"dataframe\"><thead><tr><th>pk</th><th>score_2</th><th>score_1</th></tr><tr><td>i64</td><td>i64</td><td>i64</td></tr></thead><tbody><tr><td>5</td><td>1</td><td>5</td></tr><tr><td>4</td><td>2</td><td>4</td></tr><tr><td>3</td><td>3</td><td>3</td></tr><tr><td>2</td><td>4</td><td>2</td></tr><tr><td>1</td><td>5</td><td>1</td></tr></tbody></table></div>"
      ],
      "text/plain": [
       "shape: (5, 3)\n",
       "┌─────┬─────────┬─────────┐\n",
       "│ pk  ┆ score_2 ┆ score_1 │\n",
       "│ --- ┆ ---     ┆ ---     │\n",
       "│ i64 ┆ i64     ┆ i64     │\n",
       "╞═════╪═════════╪═════════╡\n",
       "│ 5   ┆ 1       ┆ 5       │\n",
       "│ 4   ┆ 2       ┆ 4       │\n",
       "│ 3   ┆ 3       ┆ 3       │\n",
       "│ 2   ┆ 4       ┆ 2       │\n",
       "│ 1   ┆ 5       ┆ 1       │\n",
       "└─────┴─────────┴─────────┘"
      ]
     },
     "execution_count": 9,
     "metadata": {},
     "output_type": "execute_result"
    }
   ],
   "source": [
    "df_2.join(df_1, on=\"pk\", how=\"left\")"
   ]
  },
  {
   "cell_type": "code",
   "execution_count": null,
   "metadata": {},
   "outputs": [],
   "source": []
  }
 ],
 "metadata": {
  "kernelspec": {
   "display_name": "cate",
   "language": "python",
   "name": "cate"
  },
  "language_info": {
   "codemirror_mode": {
    "name": "ipython",
    "version": 3
   },
   "file_extension": ".py",
   "mimetype": "text/x-python",
   "name": "python",
   "nbconvert_exporter": "python",
   "pygments_lexer": "ipython3",
   "version": "3.11.11"
  }
 },
 "nbformat": 4,
 "nbformat_minor": 2
}
