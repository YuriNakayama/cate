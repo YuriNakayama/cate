{
 "cells": [
  {
   "cell_type": "code",
   "execution_count": 10,
   "metadata": {},
   "outputs": [],
   "source": [
    "import mlflow\n",
    "import pandas as pd\n",
    "from mlflow import MlflowClient"
   ]
  },
  {
   "cell_type": "code",
   "execution_count": 3,
   "metadata": {},
   "outputs": [
    {
     "data": {
      "text/plain": [
       "<Experiment: artifact_location='s3://kaggle-nakayama/mlflow/2', creation_time=1730707595627, experiment_id='2', last_update_time=1730707595627, lifecycle_stage='active', name='test', tags={}>"
      ]
     },
     "execution_count": 3,
     "metadata": {},
     "output_type": "execute_result"
    }
   ],
   "source": [
    "REMOTE_TRACKING_URI = \"http://ec2-44-217-145-52.compute-1.amazonaws.com:5000\"\n",
    "experiment_name = \"test\"\n",
    "mlflow.set_tracking_uri(REMOTE_TRACKING_URI)\n",
    "\n",
    "experiment = mlflow.get_experiment_by_name(experiment_name)\n",
    "mlflow.set_experiment(experiment_id=experiment.experiment_id)"
   ]
  },
  {
   "cell_type": "code",
   "execution_count": 6,
   "metadata": {},
   "outputs": [
    {
     "name": "stderr",
     "output_type": "stream",
     "text": [
      "2024/11/17 05:25:20 INFO mlflow.tracking._tracking_service.client: 🏃 View run run1 at: http://ec2-44-217-145-52.compute-1.amazonaws.com:5000/#/experiments/2/runs/3b8acc3e6dbe46968f73a4786a1c58dc.\n",
      "2024/11/17 05:25:20 INFO mlflow.tracking._tracking_service.client: 🧪 View experiment at: http://ec2-44-217-145-52.compute-1.amazonaws.com:5000/#/experiments/2.\n",
      "2024/11/17 05:25:22 INFO mlflow.tracking._tracking_service.client: 🏃 View run run2 at: http://ec2-44-217-145-52.compute-1.amazonaws.com:5000/#/experiments/2/runs/114b6ff740b04614a68bd29c6ad4d2b5.\n",
      "2024/11/17 05:25:22 INFO mlflow.tracking._tracking_service.client: 🧪 View experiment at: http://ec2-44-217-145-52.compute-1.amazonaws.com:5000/#/experiments/2.\n",
      "2024/11/17 05:25:24 INFO mlflow.tracking._tracking_service.client: 🏃 View run run3 at: http://ec2-44-217-145-52.compute-1.amazonaws.com:5000/#/experiments/2/runs/679b1b13b6434ad6a60a3bfbe88e3482.\n",
      "2024/11/17 05:25:24 INFO mlflow.tracking._tracking_service.client: 🧪 View experiment at: http://ec2-44-217-145-52.compute-1.amazonaws.com:5000/#/experiments/2.\n"
     ]
    }
   ],
   "source": [
    "with mlflow.start_run() as run1:\n",
    "    mlflow.set_tag(\"mlflow.runName\", \"run1\")\n",
    "    mlflow.log_param(\"param1\", 1)\n",
    "    mlflow.log_metric(\"metric1\", 2)\n",
    "\n",
    "with mlflow.start_run() as run2:\n",
    "    mlflow.set_tag(\"mlflow.runName\", \"run2\")\n",
    "    mlflow.log_param(\"param1\", 2)\n",
    "    mlflow.log_metric(\"metric1\", 3)\n",
    "\n",
    "with mlflow.start_run() as run3:\n",
    "    mlflow.set_tag(\"mlflow.runName\", \"run3\")\n",
    "    mlflow.log_param(\"param1\", 3)\n",
    "    mlflow.log_metric(\"metric1\", 4)"
   ]
  },
  {
   "cell_type": "code",
   "execution_count": null,
   "metadata": {},
   "outputs": [],
   "source": [
    "with mlflow.start_run() as run_parent:\n",
    "    mlflow.set_tag(\"mlflow.runName\", \"run_parent\")"
   ]
  },
  {
   "cell_type": "code",
   "execution_count": 12,
   "metadata": {},
   "outputs": [],
   "source": [
    "client = MlflowClient(REMOTE_TRACKING_URI)"
   ]
  },
  {
   "cell_type": "code",
   "execution_count": 14,
   "metadata": {},
   "outputs": [],
   "source": [
    "client.set_tag(run1.info.run_id, \"mlflow.parentRunId\", run_parent.info.run_id)\n",
    "client.set_tag(run2.info.run_id, \"mlflow.parentRunId\", run_parent.info.run_id)\n",
    "client.set_tag(run3.info.run_id, \"mlflow.parentRunId\", run_parent.info.run_id)"
   ]
  },
  {
   "cell_type": "code",
   "execution_count": null,
   "metadata": {},
   "outputs": [],
   "source": []
  },
  {
   "cell_type": "code",
   "execution_count": null,
   "metadata": {},
   "outputs": [],
   "source": [
    "from cate.model.dataset import Dataset, sample\n",
    "from cate.model.metrics import Artifacts, Metrics\n",
    "from cate.utils import Timer, get_logger, path_linker"
   ]
  },
  {
   "cell_type": "code",
   "execution_count": null,
   "metadata": {},
   "outputs": [],
   "source": [
    "dataset_name = \"criteo\"\n",
    "pathlinker = path_linker(dataset_name)"
   ]
  },
  {
   "cell_type": "code",
   "execution_count": null,
   "metadata": {},
   "outputs": [],
   "source": [
    "ds = sample(Dataset.load(pathlinker.base), frac=0.1, random_state=42)"
   ]
  },
  {
   "cell_type": "code",
   "execution_count": null,
   "metadata": {},
   "outputs": [],
   "source": [
    "base_df = pd.merge(\n",
    "    ds.y.rename(columns={ds.y_columns[0]: \"y\"}),\n",
    "    ds.w.rename(columns={ds.w_columns[0]: \"w\"}),\n",
    "    left_index=True,\n",
    "    right_index=True,\n",
    ")"
   ]
  },
  {
   "cell_type": "code",
   "execution_count": null,
   "metadata": {},
   "outputs": [
    {
     "data": {
      "text/html": [
       "<div>\n",
       "<style scoped>\n",
       "    .dataframe tbody tr th:only-of-type {\n",
       "        vertical-align: middle;\n",
       "    }\n",
       "\n",
       "    .dataframe tbody tr th {\n",
       "        vertical-align: top;\n",
       "    }\n",
       "\n",
       "    .dataframe thead th {\n",
       "        text-align: right;\n",
       "    }\n",
       "</style>\n",
       "<table border=\"1\" class=\"dataframe\">\n",
       "  <thead>\n",
       "    <tr style=\"text-align: right;\">\n",
       "      <th></th>\n",
       "      <th>y</th>\n",
       "      <th>w</th>\n",
       "    </tr>\n",
       "  </thead>\n",
       "  <tbody>\n",
       "    <tr>\n",
       "      <th>6540047</th>\n",
       "      <td>0</td>\n",
       "      <td>0</td>\n",
       "    </tr>\n",
       "    <tr>\n",
       "      <th>12657168</th>\n",
       "      <td>0</td>\n",
       "      <td>1</td>\n",
       "    </tr>\n",
       "    <tr>\n",
       "      <th>9588964</th>\n",
       "      <td>0</td>\n",
       "      <td>1</td>\n",
       "    </tr>\n",
       "    <tr>\n",
       "      <th>4905360</th>\n",
       "      <td>0</td>\n",
       "      <td>1</td>\n",
       "    </tr>\n",
       "    <tr>\n",
       "      <th>7937047</th>\n",
       "      <td>0</td>\n",
       "      <td>1</td>\n",
       "    </tr>\n",
       "    <tr>\n",
       "      <th>...</th>\n",
       "      <td>...</td>\n",
       "      <td>...</td>\n",
       "    </tr>\n",
       "    <tr>\n",
       "      <th>5546691</th>\n",
       "      <td>0</td>\n",
       "      <td>1</td>\n",
       "    </tr>\n",
       "    <tr>\n",
       "      <th>8198879</th>\n",
       "      <td>0</td>\n",
       "      <td>1</td>\n",
       "    </tr>\n",
       "    <tr>\n",
       "      <th>9484578</th>\n",
       "      <td>0</td>\n",
       "      <td>1</td>\n",
       "    </tr>\n",
       "    <tr>\n",
       "      <th>1720671</th>\n",
       "      <td>0</td>\n",
       "      <td>1</td>\n",
       "    </tr>\n",
       "    <tr>\n",
       "      <th>5949006</th>\n",
       "      <td>0</td>\n",
       "      <td>0</td>\n",
       "    </tr>\n",
       "  </tbody>\n",
       "</table>\n",
       "<p>1397959 rows × 2 columns</p>\n",
       "</div>"
      ],
      "text/plain": [
       "          y  w\n",
       "6540047   0  0\n",
       "12657168  0  1\n",
       "9588964   0  1\n",
       "4905360   0  1\n",
       "7937047   0  1\n",
       "...      .. ..\n",
       "5546691   0  1\n",
       "8198879   0  1\n",
       "9484578   0  1\n",
       "1720671   0  1\n",
       "5949006   0  0\n",
       "\n",
       "[1397959 rows x 2 columns]"
      ]
     },
     "metadata": {},
     "output_type": "display_data"
    }
   ],
   "source": [
    "base_df"
   ]
  }
 ],
 "metadata": {
  "kernelspec": {
   "display_name": ".venv",
   "language": "python",
   "name": "python3"
  },
  "language_info": {
   "codemirror_mode": {
    "name": "ipython",
    "version": 3
   },
   "file_extension": ".py",
   "mimetype": "text/x-python",
   "name": "python",
   "nbconvert_exporter": "python",
   "pygments_lexer": "ipython3",
   "version": "3.11.10"
  }
 },
 "nbformat": 4,
 "nbformat_minor": 2
}
