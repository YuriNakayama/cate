{
 "cells": [
  {
   "cell_type": "code",
   "execution_count": 6,
   "metadata": {},
   "outputs": [],
   "source": [
    "import mlflow\n",
    "from mlflow.tracking import MlflowClient"
   ]
  },
  {
   "cell_type": "code",
   "execution_count": 10,
   "metadata": {},
   "outputs": [],
   "source": [
    "REMOTE_TRACKING_URI = \"http://ec2-44-217-145-52.compute-1.amazonaws.com:5000\"\n",
    "\n",
    "mlflow.set_tracking_uri(REMOTE_TRACKING_URI)\n",
    "client = MlflowClient(tracking_uri=REMOTE_TRACKING_URI)"
   ]
  },
  {
   "cell_type": "code",
   "execution_count": 20,
   "metadata": {},
   "outputs": [],
   "source": [
    "def search_runs_by_tags(tags: dict[str, str]) -> list[str]:\n",
    "    runs = mlflow.search_runs(\n",
    "        experiment_ids=[\"2\"],\n",
    "        filter_string = \" and \".join([f\"tags.{k} = '{v}'\" for k, v in tags.items()]),\n",
    "        output_format=\"list\"\n",
    "    )\n",
    "    \n",
    "    run_ids = []\n",
    "    for run in runs:\n",
    "        run_id = run.info.run_id\n",
    "        run_ids.append(run_id)\n",
    "    return run_ids"
   ]
  },
  {
   "cell_type": "code",
   "execution_count": 24,
   "metadata": {},
   "outputs": [
    {
     "data": {
      "text/plain": [
       "['ec9e43128ac4488c9db0cf3545eb6534',\n",
       " 'd9e4813c62e742bda872e40ba52b8677',\n",
       " 'ff21377ab46b402782a39b792750211b']"
      ]
     },
     "execution_count": 24,
     "metadata": {},
     "output_type": "execute_result"
    }
   ],
   "source": [
    "search_runs_by_tags({\"models\": \"metalearner\", \"dataset\": \"test\"})"
   ]
  },
  {
   "cell_type": "code",
   "execution_count": 18,
   "metadata": {},
   "outputs": [
    {
     "data": {
      "text/plain": [
       "'ec9e43128ac4488c9db0cf3545eb6534'"
      ]
     },
     "execution_count": 18,
     "metadata": {},
     "output_type": "execute_result"
    }
   ],
   "source": [
    "filter_string = \"tags.dataset = 'test' and tags.models = 'metalearner'\"\n",
    "\n",
    "mlflow.search_runs(experiment_ids=[\"2\"], filter_string=filter_string, output_format=\"list\")[0].info.run_id"
   ]
  },
  {
   "cell_type": "code",
   "execution_count": null,
   "metadata": {},
   "outputs": [],
   "source": []
  }
 ],
 "metadata": {
  "kernelspec": {
   "display_name": ".venv",
   "language": "python",
   "name": "python3"
  },
  "language_info": {
   "codemirror_mode": {
    "name": "ipython",
    "version": 3
   },
   "file_extension": ".py",
   "mimetype": "text/x-python",
   "name": "python",
   "nbconvert_exporter": "python",
   "pygments_lexer": "ipython3",
   "version": "3.11.10"
  }
 },
 "nbformat": 4,
 "nbformat_minor": 2
}
