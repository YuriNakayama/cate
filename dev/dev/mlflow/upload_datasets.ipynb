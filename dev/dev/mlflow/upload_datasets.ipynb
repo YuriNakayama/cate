{
 "cells": [
  {
   "cell_type": "code",
   "execution_count": 6,
   "metadata": {},
   "outputs": [],
   "source": [
    "import mlflow\n",
    "\n",
    "from cate.dataset import Dataset\n",
    "from cate.utils import path_linker"
   ]
  },
  {
   "cell_type": "code",
   "execution_count": 7,
   "metadata": {},
   "outputs": [],
   "source": [
    "dataset_name = \"test\""
   ]
  },
  {
   "cell_type": "code",
   "execution_count": 8,
   "metadata": {},
   "outputs": [],
   "source": [
    "mlflow.set_tracking_uri(\"http://ec2-44-217-145-52.compute-1.amazonaws.com:5000\")\n",
    "mlflow.system_metrics.enable_system_metrics_logging()  # type: ignore\n",
    "experiment_id = mlflow.create_experiment(dataset_name)"
   ]
  },
  {
   "cell_type": "code",
   "execution_count": 9,
   "metadata": {},
   "outputs": [],
   "source": [
    "pathlinker = path_linker(dataset_name)\n",
    "# Assuming you have a dataset in a CSV file\n",
    "dataset = Dataset.load(pathlinker.base)"
   ]
  },
  {
   "cell_type": "code",
   "execution_count": 10,
   "metadata": {},
   "outputs": [
    {
     "name": "stderr",
     "output_type": "stream",
     "text": [
      "2024/10/30 12:27:12 INFO mlflow.system_metrics.system_metrics_monitor: Started monitoring system metrics.\n",
      "2024/10/30 12:27:16 INFO mlflow.tracking._tracking_service.client: 🏃 View run merciful-seal-553 at: http://ec2-44-217-145-52.compute-1.amazonaws.com:5000/#/experiments/2/runs/cef3ad5cc93d4e05a375e6cf9a202706.\n",
      "2024/10/30 12:27:16 INFO mlflow.tracking._tracking_service.client: 🧪 View experiment at: http://ec2-44-217-145-52.compute-1.amazonaws.com:5000/#/experiments/2.\n",
      "2024/10/30 12:27:16 INFO mlflow.system_metrics.system_metrics_monitor: Stopping system metrics monitoring...\n",
      "2024/10/30 12:27:16 INFO mlflow.system_metrics.system_metrics_monitor: Successfully terminated system metrics monitoring!\n"
     ]
    }
   ],
   "source": [
    "with mlflow.start_run(experiment_id=experiment_id, tags={\"phase\": \"dataset\"}):\n",
    "    mlflow.log_table(dataset.to_pandas(), artifact_file=f\"{dataset_name}.json\")"
   ]
  },
  {
   "cell_type": "code",
   "execution_count": null,
   "metadata": {},
   "outputs": [],
   "source": []
  }
 ],
 "metadata": {
  "kernelspec": {
   "display_name": ".venv",
   "language": "python",
   "name": "python3"
  },
  "language_info": {
   "codemirror_mode": {
    "name": "ipython",
    "version": 3
   },
   "file_extension": ".py",
   "mimetype": "text/x-python",
   "name": "python",
   "nbconvert_exporter": "python",
   "pygments_lexer": "ipython3",
   "version": "3.11.10"
  }
 },
 "nbformat": 4,
 "nbformat_minor": 2
}
