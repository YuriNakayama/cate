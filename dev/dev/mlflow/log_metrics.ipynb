{
 "cells": [
  {
   "cell_type": "code",
   "execution_count": 85,
   "metadata": {},
   "outputs": [],
   "source": [
    "import mlflow\n",
    "from tempfile import TemporaryDirectory\n",
    "from pathlib import Path\n",
    "import mlflow.system_metrics\n",
    "import numpy as np\n",
    "import matplotlib.pyplot as plt\n",
    "from matplotlib.figure import Figure\n",
    "import pandas as pd"
   ]
  },
  {
   "cell_type": "code",
   "execution_count": 86,
   "metadata": {},
   "outputs": [],
   "source": [
    "tmpdir = TemporaryDirectory(dir=Path.cwd())\n",
    "tracking_uri = f\"file://{tmpdir.name}\""
   ]
  },
  {
   "cell_type": "code",
   "execution_count": 87,
   "metadata": {},
   "outputs": [],
   "source": [
    "mlflow.set_tracking_uri(\"http://ec2-44-217-145-52.compute-1.amazonaws.com:5000\")\n",
    "experiment = mlflow.set_experiment(\"test\")\n",
    "mlflow.system_metrics.enable_system_metrics_logging()"
   ]
  },
  {
   "cell_type": "code",
   "execution_count": 88,
   "metadata": {},
   "outputs": [],
   "source": [
    "def plot() -> Figure:\n",
    "    fig = plt.figure()\n",
    "    ax = fig.add_subplot(111)\n",
    "    ax.plot(np.random.rand(10))\n",
    "    plt.close()\n",
    "    return fig"
   ]
  },
  {
   "cell_type": "code",
   "execution_count": 90,
   "metadata": {},
   "outputs": [
    {
     "name": "stderr",
     "output_type": "stream",
     "text": [
      "2024/11/05 04:47:17 INFO mlflow.system_metrics.system_metrics_monitor: Started monitoring system metrics.\n",
      "2024/11/05 04:47:17 INFO mlflow.system_metrics.system_metrics_monitor: Started monitoring system metrics.\n",
      "2024/11/05 04:47:20 INFO mlflow.tracking._tracking_service.client: 🏃 View run model_0 at: http://ec2-44-217-145-52.compute-1.amazonaws.com:5000/#/experiments/2/runs/6f7ce9db92964ccda985c4b6a6272329.\n",
      "2024/11/05 04:47:20 INFO mlflow.tracking._tracking_service.client: 🧪 View experiment at: http://ec2-44-217-145-52.compute-1.amazonaws.com:5000/#/experiments/2.\n",
      "2024/11/05 04:47:21 INFO mlflow.system_metrics.system_metrics_monitor: Stopping system metrics monitoring...\n",
      "2024/11/05 04:47:21 INFO mlflow.system_metrics.system_metrics_monitor: Successfully terminated system metrics monitoring!\n",
      "2024/11/05 04:47:21 INFO mlflow.system_metrics.system_metrics_monitor: Started monitoring system metrics.\n",
      "2024/11/05 04:47:24 INFO mlflow.tracking._tracking_service.client: 🏃 View run model_1 at: http://ec2-44-217-145-52.compute-1.amazonaws.com:5000/#/experiments/2/runs/d41529a7906b4bb594c3917f721211c6.\n",
      "2024/11/05 04:47:24 INFO mlflow.tracking._tracking_service.client: 🧪 View experiment at: http://ec2-44-217-145-52.compute-1.amazonaws.com:5000/#/experiments/2.\n",
      "2024/11/05 04:47:25 INFO mlflow.system_metrics.system_metrics_monitor: Stopping system metrics monitoring...\n",
      "2024/11/05 04:47:25 INFO mlflow.system_metrics.system_metrics_monitor: Successfully terminated system metrics monitoring!\n",
      "2024/11/05 04:47:25 INFO mlflow.system_metrics.system_metrics_monitor: Started monitoring system metrics.\n",
      "2024/11/05 04:47:29 INFO mlflow.tracking._tracking_service.client: 🏃 View run model_2 at: http://ec2-44-217-145-52.compute-1.amazonaws.com:5000/#/experiments/2/runs/33629dad2402470aa8de7b4fffa2e3b4.\n",
      "2024/11/05 04:47:29 INFO mlflow.tracking._tracking_service.client: 🧪 View experiment at: http://ec2-44-217-145-52.compute-1.amazonaws.com:5000/#/experiments/2.\n",
      "2024/11/05 04:47:29 INFO mlflow.system_metrics.system_metrics_monitor: Stopping system metrics monitoring...\n",
      "2024/11/05 04:47:29 INFO mlflow.system_metrics.system_metrics_monitor: Successfully terminated system metrics monitoring!\n",
      "2024/11/05 04:47:29 INFO mlflow.system_metrics.system_metrics_monitor: Started monitoring system metrics.\n",
      "2024/11/05 04:47:32 INFO mlflow.tracking._tracking_service.client: 🏃 View run model_3 at: http://ec2-44-217-145-52.compute-1.amazonaws.com:5000/#/experiments/2/runs/ae42dd9dfef448d58eb36a3aab855f76.\n",
      "2024/11/05 04:47:32 INFO mlflow.tracking._tracking_service.client: 🧪 View experiment at: http://ec2-44-217-145-52.compute-1.amazonaws.com:5000/#/experiments/2.\n",
      "2024/11/05 04:47:33 INFO mlflow.system_metrics.system_metrics_monitor: Stopping system metrics monitoring...\n",
      "2024/11/05 04:47:33 INFO mlflow.system_metrics.system_metrics_monitor: Successfully terminated system metrics monitoring!\n",
      "2024/11/05 04:47:33 INFO mlflow.system_metrics.system_metrics_monitor: Started monitoring system metrics.\n",
      "2024/11/05 04:47:36 INFO mlflow.tracking._tracking_service.client: 🏃 View run model_4 at: http://ec2-44-217-145-52.compute-1.amazonaws.com:5000/#/experiments/2/runs/5f4bda44171240cf8780b2511a2f3c30.\n",
      "2024/11/05 04:47:36 INFO mlflow.tracking._tracking_service.client: 🧪 View experiment at: http://ec2-44-217-145-52.compute-1.amazonaws.com:5000/#/experiments/2.\n",
      "2024/11/05 04:47:37 INFO mlflow.system_metrics.system_metrics_monitor: Stopping system metrics monitoring...\n",
      "2024/11/05 04:47:37 INFO mlflow.system_metrics.system_metrics_monitor: Successfully terminated system metrics monitoring!\n",
      "2024/11/05 04:47:37 INFO mlflow.tracking._tracking_service.client: 🏃 View run omniscient-stork-598 at: http://ec2-44-217-145-52.compute-1.amazonaws.com:5000/#/experiments/2/runs/c4d1d772e1774470a9762d1b2c98d5fd.\n",
      "2024/11/05 04:47:37 INFO mlflow.tracking._tracking_service.client: 🧪 View experiment at: http://ec2-44-217-145-52.compute-1.amazonaws.com:5000/#/experiments/2.\n",
      "2024/11/05 04:47:38 INFO mlflow.system_metrics.system_metrics_monitor: Stopping system metrics monitoring...\n",
      "2024/11/05 04:47:38 INFO mlflow.system_metrics.system_metrics_monitor: Successfully terminated system metrics monitoring!\n"
     ]
    }
   ],
   "source": [
    "mlflow.start_run()\n",
    "for model in range(5):\n",
    "    mlflow.start_run(run_name=f\"model_{model}\", nested=True)\n",
    "    for epoch in range(5):\n",
    "        mlflow.log_metric(\"auuc\", np.random.rand(), step=epoch)\n",
    "    with TemporaryDirectory() as tmpdir:\n",
    "        fig = plot()\n",
    "        fig.savefig(Path(tmpdir) / \"plot.png\")\n",
    "        mlflow.log_artifacts(tmpdir, \"uplift_curve\")\n",
    "\n",
    "        mlflow.log_figure(fig, \"uplift_curve_by_log_figure.png\")\n",
    "        mlflow.log_table(pd.DataFrame(np.random.rand(10, 10)), \"table.json\")\n",
    "    mlflow.end_run()\n",
    "mlflow.end_run()"
   ]
  },
  {
   "cell_type": "code",
   "execution_count": null,
   "metadata": {},
   "outputs": [],
   "source": []
  }
 ],
 "metadata": {
  "kernelspec": {
   "display_name": ".venv",
   "language": "python",
   "name": "python3"
  },
  "language_info": {
   "codemirror_mode": {
    "name": "ipython",
    "version": 3
   },
   "file_extension": ".py",
   "mimetype": "text/x-python",
   "name": "python",
   "nbconvert_exporter": "python",
   "pygments_lexer": "ipython3",
   "version": "3.11.10"
  }
 },
 "nbformat": 4,
 "nbformat_minor": 2
}
