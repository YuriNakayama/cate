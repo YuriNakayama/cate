{
 "cells": [
  {
   "cell_type": "code",
   "execution_count": null,
   "metadata": {},
   "outputs": [],
   "source": [
    "from tempfile import TemporaryDirectory\n",
    "import mlflow\n",
    "from pathlib import Path\n",
    "from typing import Any\n",
    "import mlflow.system_metrics\n",
    "\n",
    "from cate.model.metrics import Artifacts, Metrics"
   ]
  },
  {
   "cell_type": "code",
   "execution_count": null,
   "metadata": {},
   "outputs": [],
   "source": [
    "REMOTE_TRACKING_URI = \"http://ec2-44-217-145-52.compute-1.amazonaws.com:5000\"\n",
    "\n",
    "\n",
    "class MlflowClient:\n",
    "    def __init__(\n",
    "        self, experiment_name: str, tracking_uri: str = REMOTE_TRACKING_URI\n",
    "    ) -> None:\n",
    "        self.tracking_uri = tracking_uri\n",
    "        self.experiment_id = self.initialize(experiment_name, tracking_uri)\n",
    "\n",
    "    @staticmethod\n",
    "    def initialize(\n",
    "        experiment_name: str, tracking_uri: str\n",
    "    ) -> str:\n",
    "        mlflow.set_tracking_uri(tracking_uri)\n",
    "        mlflow.system_metrics.enable_system_metrics_logging()  # type: ignore\n",
    "\n",
    "        experiment = mlflow.get_experiment_by_name(experiment_name)\n",
    "        if experiment is None:\n",
    "            experiment_id = mlflow.create_experiment(experiment_name)\n",
    "            mlflow.set_experiment(experiment_id=experiment_id)\n",
    "            return experiment_id\n",
    "        else:\n",
    "            mlflow.set_experiment(experiment_id=experiment.experiment_id)\n",
    "            return str(experiment.experiment_id)\n",
    "\n",
    "    def start_run(\n",
    "        self,\n",
    "        run_id: str | None = None,\n",
    "        run_name: str | None = None,\n",
    "        nested: bool = False,\n",
    "        parent_run_id: str | None = None,\n",
    "        tags: dict[str, Any] | None = None,\n",
    "        description: str | None = None,\n",
    "        log_system_metrics: bool | None = None,\n",
    "    ) -> None:\n",
    "        mlflow.start_run(\n",
    "            run_id=run_id,\n",
    "            experiment_id=self.experiment_id,\n",
    "            run_name=run_name,\n",
    "            nested=nested,\n",
    "            parent_run_id=parent_run_id,\n",
    "            tags=tags,\n",
    "            description=description,\n",
    "            log_system_metrics=log_system_metrics,\n",
    "        )\n",
    "\n",
    "    def end_run(self) -> None:\n",
    "        mlflow.end_run()\n",
    "\n",
    "    def log_params(self, params: dict[str, Any]) -> None:\n",
    "        mlflow.log_params(params)\n",
    "\n",
    "    def log_metrics(self, metrics: Metrics) -> None:\n",
    "        mlflow.log_metrics({value.name: value.data for value in metrics.results})\n",
    "\n",
    "    # TODO: client.log_figure()により実装\n",
    "    # TODO: log_artifacts()により実装\n",
    "    def log_artifacts(self, artifacts: Artifacts) -> None:\n",
    "        with TemporaryDirectory() as tmpdir:\n",
    "            for artifact in artifacts.results:\n",
    "                name, path = artifact.save(Path(tmpdir))\n",
    "                mlflow.log_artifact(local_path=str(path), artifact_path=name)"
   ]
  },
  {
   "cell_type": "code",
   "execution_count": 7,
   "metadata": {},
   "outputs": [],
   "source": [
    "tmpdir = TemporaryDirectory(dir=Path.cwd())\n",
    "tracking_uri = f\"file://{tmpdir.name}\""
   ]
  },
  {
   "cell_type": "code",
   "execution_count": 12,
   "metadata": {},
   "outputs": [],
   "source": [
    "client = MlflowClient(\"test\", tracking_uri)"
   ]
  },
  {
   "cell_type": "code",
   "execution_count": 14,
   "metadata": {},
   "outputs": [
    {
     "data": {
      "text/plain": [
       "'731889821900020848'"
      ]
     },
     "execution_count": 14,
     "metadata": {},
     "output_type": "execute_result"
    }
   ],
   "source": [
    "client.initialize(\"test\", tracking_uri)"
   ]
  },
  {
   "cell_type": "code",
   "execution_count": null,
   "metadata": {},
   "outputs": [],
   "source": []
  },
  {
   "cell_type": "code",
   "execution_count": 15,
   "metadata": {},
   "outputs": [],
   "source": [
    "tmpdir.cleanup()"
   ]
  },
  {
   "cell_type": "code",
   "execution_count": null,
   "metadata": {},
   "outputs": [],
   "source": []
  },
  {
   "cell_type": "code",
   "execution_count": null,
   "metadata": {},
   "outputs": [],
   "source": []
  },
  {
   "cell_type": "code",
   "execution_count": null,
   "metadata": {},
   "outputs": [],
   "source": []
  }
 ],
 "metadata": {
  "kernelspec": {
   "display_name": ".venv",
   "language": "python",
   "name": "python3"
  },
  "language_info": {
   "codemirror_mode": {
    "name": "ipython",
    "version": 3
   },
   "file_extension": ".py",
   "mimetype": "text/x-python",
   "name": "python",
   "nbconvert_exporter": "python",
   "pygments_lexer": "ipython3",
   "version": "3.11.10"
  }
 },
 "nbformat": 4,
 "nbformat_minor": 2
}
