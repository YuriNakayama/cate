{
 "cells": [
  {
   "cell_type": "code",
   "execution_count": 48,
   "metadata": {},
   "outputs": [],
   "source": [
    "import polars as pl\n",
    "\n",
    "import cate.dataset as cds"
   ]
  },
  {
   "cell_type": "code",
   "execution_count": 49,
   "metadata": {},
   "outputs": [],
   "source": [
    "def get_biased_ds(\n",
    "    ds: cds.Dataset,\n",
    "    rank_flg: pl.Series,\n",
    ") -> cds.Dataset:\n",
    "    tg_flg = pl.Series(\"group\", ds.w) == 1\n",
    "    tg_ds = cds.filter(ds, [tg_flg, rank_flg])\n",
    "    cg_ds = cds.filter(ds, [~tg_flg, ~rank_flg])\n",
    "    biased_ds = cds.concat([tg_ds, cg_ds])\n",
    "    return cds.sample(biased_ds, frac=1)\n"
   ]
  },
  {
   "cell_type": "code",
   "execution_count": 50,
   "metadata": {},
   "outputs": [],
   "source": [
    "def tg_cg_split(\n",
    "    ds: cds.Dataset,\n",
    "    rank_flg: pl.Series,\n",
    "    random_ratio: float,\n",
    "    random_state: int,\n",
    ") -> cds.Dataset:\n",
    "    if random_ratio == 0:\n",
    "        return get_biased_ds(ds, rank_flg)\n",
    "\n",
    "    sample_bias_ds = get_biased_ds(ds, rank_flg)\n",
    "    biased_ds_ratio = len(sample_bias_ds) / len(ds)\n",
    "    random_ds_ratio = random_ratio * biased_ds_ratio\n",
    "    if random_ratio == 1:\n",
    "        return cds.sample(ds, frac=random_ds_ratio, random_state=random_state)\n",
    "\n",
    "    ds = cds.Dataset(\n",
    "        ds.to_frame().with_row_index(), ds.x_columns, ds.y_columns, ds.w_columns\n",
    "    )\n",
    "    _ds, random_ds = cds.split(ds, test_frac=random_ds_ratio, random_state=random_state)\n",
    "    rank_flg = (\n",
    "        rank_flg.to_frame()\n",
    "        .with_row_index()\n",
    "        .filter(pl.col(\"index\").is_in(_ds.to_frame()[\"index\"]))\n",
    "        .drop(\"index\")\n",
    "        .to_series()\n",
    "    ).cast(pl.Boolean)\n",
    "    biased_ds = get_biased_ds(_ds, rank_flg)\n",
    "    return cds.sample(\n",
    "        cds.concat([biased_ds, random_ds]), frac=1, random_state=random_state\n",
    "    )\n"
   ]
  },
  {
   "cell_type": "code",
   "execution_count": 51,
   "metadata": {},
   "outputs": [],
   "source": [
    "ds = cds.Dataset(\n",
    "    pl.DataFrame({\"a\": [1, 2, 3, 4, 5], \"b\": [1, 1, 0, 0, 0], \"c\": [0, 0, 0, 1, 1]}),\n",
    "    [\"a\"],\n",
    "    [\"b\"],\n",
    "    [\"c\"],\n",
    ")"
   ]
  },
  {
   "cell_type": "code",
   "execution_count": 57,
   "metadata": {},
   "outputs": [],
   "source": [
    "_ds = get_biased_ds(ds, pl.Series(\"c\", [0, 0, 1, 1, 1]).cast(pl.Boolean))"
   ]
  },
  {
   "cell_type": "code",
   "execution_count": 58,
   "metadata": {},
   "outputs": [
    {
     "data": {
      "text/html": [
       "<div><style>\n",
       ".dataframe > thead > tr,\n",
       ".dataframe > tbody > tr {\n",
       "  text-align: right;\n",
       "  white-space: pre-wrap;\n",
       "}\n",
       "</style>\n",
       "<small>shape: (4, 3)</small><table border=\"1\" class=\"dataframe\"><thead><tr><th>a</th><th>b</th><th>c</th></tr><tr><td>i64</td><td>i64</td><td>i64</td></tr></thead><tbody><tr><td>4</td><td>0</td><td>1</td></tr><tr><td>5</td><td>0</td><td>1</td></tr><tr><td>1</td><td>1</td><td>0</td></tr><tr><td>2</td><td>1</td><td>0</td></tr></tbody></table></div>"
      ],
      "text/plain": [
       "shape: (4, 3)\n",
       "┌─────┬─────┬─────┐\n",
       "│ a   ┆ b   ┆ c   │\n",
       "│ --- ┆ --- ┆ --- │\n",
       "│ i64 ┆ i64 ┆ i64 │\n",
       "╞═════╪═════╪═════╡\n",
       "│ 4   ┆ 0   ┆ 1   │\n",
       "│ 5   ┆ 0   ┆ 1   │\n",
       "│ 1   ┆ 1   ┆ 0   │\n",
       "│ 2   ┆ 1   ┆ 0   │\n",
       "└─────┴─────┴─────┘"
      ]
     },
     "execution_count": 58,
     "metadata": {},
     "output_type": "execute_result"
    }
   ],
   "source": [
    "_ds.to_frame()"
   ]
  },
  {
   "cell_type": "code",
   "execution_count": 59,
   "metadata": {},
   "outputs": [
    {
     "data": {
      "text/html": [
       "<div><style>\n",
       ".dataframe > thead > tr,\n",
       ".dataframe > tbody > tr {\n",
       "  text-align: right;\n",
       "  white-space: pre-wrap;\n",
       "}\n",
       "</style>\n",
       "<small>shape: (5, 3)</small><table border=\"1\" class=\"dataframe\"><thead><tr><th>a</th><th>b</th><th>c</th></tr><tr><td>i64</td><td>i64</td><td>i64</td></tr></thead><tbody><tr><td>1</td><td>1</td><td>0</td></tr><tr><td>2</td><td>1</td><td>0</td></tr><tr><td>3</td><td>0</td><td>0</td></tr><tr><td>4</td><td>0</td><td>1</td></tr><tr><td>5</td><td>0</td><td>1</td></tr></tbody></table></div>"
      ],
      "text/plain": [
       "shape: (5, 3)\n",
       "┌─────┬─────┬─────┐\n",
       "│ a   ┆ b   ┆ c   │\n",
       "│ --- ┆ --- ┆ --- │\n",
       "│ i64 ┆ i64 ┆ i64 │\n",
       "╞═════╪═════╪═════╡\n",
       "│ 1   ┆ 1   ┆ 0   │\n",
       "│ 2   ┆ 1   ┆ 0   │\n",
       "│ 3   ┆ 0   ┆ 0   │\n",
       "│ 4   ┆ 0   ┆ 1   │\n",
       "│ 5   ┆ 0   ┆ 1   │\n",
       "└─────┴─────┴─────┘"
      ]
     },
     "execution_count": 59,
     "metadata": {},
     "output_type": "execute_result"
    }
   ],
   "source": [
    "ds.to_frame()"
   ]
  },
  {
   "cell_type": "code",
   "execution_count": null,
   "metadata": {},
   "outputs": [],
   "source": []
  }
 ],
 "metadata": {
  "kernelspec": {
   "display_name": "cate",
   "language": "python",
   "name": "cate"
  },
  "language_info": {
   "codemirror_mode": {
    "name": "ipython",
    "version": 3
   },
   "file_extension": ".py",
   "mimetype": "text/x-python",
   "name": "python",
   "nbconvert_exporter": "python",
   "pygments_lexer": "ipython3",
   "version": "3.11.10"
  }
 },
 "nbformat": 4,
 "nbformat_minor": 2
}
