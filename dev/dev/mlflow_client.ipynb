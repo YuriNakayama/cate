{
 "cells": [
  {
   "cell_type": "code",
   "execution_count": 1,
   "metadata": {},
   "outputs": [],
   "source": [
    "from typing import Any\n",
    "\n",
    "import mlflow\n",
    "import mlflow.system_metrics\n",
    "\n",
    "from cate.base.metrics import Artifacts, Metrics\n",
    "\n",
    "\n",
    "def initialize(experiment_name: str) -> str:\n",
    "    mlflow.set_tracking_uri(\"http://ec2-44-217-145-52.compute-1.amazonaws.com:5000\")\n",
    "    mlflow.system_metrics.enable_system_metrics_logging()  # type: ignore\n",
    "\n",
    "    experiment = mlflow.get_experiment_by_name(experiment_name)\n",
    "    if experiment is None:\n",
    "        experiment_id = mlflow.create_experiment(experiment_name)\n",
    "        mlflow.set_experiment(experiment_id=experiment_id)\n",
    "        return experiment_id\n",
    "    else:\n",
    "        mlflow.set_experiment(experiment.experiment_id)\n",
    "        return experiment.experiment_id\n",
    "\n",
    "\n",
    "class MlflowClient:\n",
    "    def __init__(self, experiment_name) -> None:\n",
    "        self.experiment_id = initialize(experiment_name)\n",
    "\n",
    "    def start_run(\n",
    "        self,\n",
    "        run_id: str | None = None,\n",
    "        run_name: str | None = None,\n",
    "        nested: bool = False,\n",
    "        parent_run_id: str | None = None,\n",
    "        tags: dict[str, Any] | None = None,\n",
    "        description: str | None = None,\n",
    "        log_system_metrics: bool | None = None,\n",
    "    ) -> None:\n",
    "        mlflow.start_run(\n",
    "            run_id=run_id,\n",
    "            experiment_id=self.experiment_id,\n",
    "            run_name=run_name,\n",
    "            nested=nested,\n",
    "            parent_run_id=parent_run_id,\n",
    "            tags=tags,\n",
    "            description=description,\n",
    "            log_system_metrics=log_system_metrics,\n",
    "        )\n",
    "    def end_run(self) -> None:\n",
    "        mlflow.end_run()\n",
    "\n",
    "    def log_params(self, params: dict[str, Any]) -> None:\n",
    "        mlflow.log_params(params)\n",
    "\n",
    "    def log_metrics(self, metrics: Metrics) -> None:\n",
    "        mlflow.log_metrics(metrics.to_dict())\n",
    "\n",
    "    def log_artifacts(self, artifact_path: Artifacts) -> None:\n",
    "        for name, local_path in artifact_path.to_dict().items():\n",
    "            mlflow.log_artifact(local_path, name)"
   ]
  },
  {
   "cell_type": "code",
   "execution_count": 2,
   "metadata": {},
   "outputs": [],
   "source": [
    "mlflow_client = MlflowClient(\"test\")"
   ]
  },
  {
   "cell_type": "code",
   "execution_count": null,
   "metadata": {},
   "outputs": [],
   "source": []
  }
 ],
 "metadata": {
  "kernelspec": {
   "display_name": ".venv",
   "language": "python",
   "name": "python3"
  },
  "language_info": {
   "codemirror_mode": {
    "name": "ipython",
    "version": 3
   },
   "file_extension": ".py",
   "mimetype": "text/x-python",
   "name": "python",
   "nbconvert_exporter": "python",
   "pygments_lexer": "ipython3",
   "version": "3.11.10"
  }
 },
 "nbformat": 4,
 "nbformat_minor": 2
}
