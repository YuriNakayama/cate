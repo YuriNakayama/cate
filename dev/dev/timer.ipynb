{
 "cells": [
  {
   "cell_type": "code",
   "execution_count": 16,
   "metadata": {},
   "outputs": [],
   "source": [
    "import csv\n",
    "from dataclasses import asdict, dataclass\n",
    "from datetime import datetime\n",
    "from pathlib import Path\n",
    "from typing import Literal"
   ]
  },
  {
   "cell_type": "code",
   "execution_count": 22,
   "metadata": {},
   "outputs": [],
   "source": [
    "from _collections_abc import dict_keys\n",
    "\n",
    "\n",
    "@dataclass\n",
    "class Event:\n",
    "    time: datetime\n",
    "    name: str\n",
    "    category: Literal[\"start\", \"stop\"]\n",
    "\n",
    "    @classmethod\n",
    "    def keys(cls) -> dict_keys:\n",
    "        return cls.__dataclass_fields__.keys()\n",
    "\n",
    "\n",
    "class Timer:\n",
    "    def __init__(self) -> None:\n",
    "        self.events: list[Event] = []\n",
    "\n",
    "    def start(self, name: str) -> None:\n",
    "        event = Event(datetime.now(), name, \"start\")\n",
    "        self.events.append(event)\n",
    "\n",
    "    def stop(self, name: str) -> None:\n",
    "        event = Event(datetime.now(), name, \"stop\")\n",
    "        self.events.append(event)\n",
    "\n",
    "    def to_csv(self, path: Path) -> None:\n",
    "        with path.open(mode=\"w\", encoding=\"utf-8\", newline=\"\") as f:\n",
    "            writer = csv.DictWriter(f, fieldnames=list(Event.keys()))\n",
    "            writer.writerows([asdict(event) for event in self.events])"
   ]
  },
  {
   "cell_type": "code",
   "execution_count": 23,
   "metadata": {},
   "outputs": [],
   "source": [
    "timer = Timer()"
   ]
  },
  {
   "cell_type": "code",
   "execution_count": 24,
   "metadata": {},
   "outputs": [],
   "source": [
    "timer.start(\"test\")\n",
    "timer.stop(\"test\")"
   ]
  },
  {
   "cell_type": "code",
   "execution_count": 25,
   "metadata": {},
   "outputs": [
    {
     "data": {
      "text/plain": [
       "[Event(time=datetime.datetime(2024, 10, 22, 4, 56, 36, 489488), name='test', category='start'),\n",
       " Event(time=datetime.datetime(2024, 10, 22, 4, 56, 36, 489596), name='test', category='stop')]"
      ]
     },
     "execution_count": 25,
     "metadata": {},
     "output_type": "execute_result"
    }
   ],
   "source": [
    "timer.events"
   ]
  },
  {
   "cell_type": "code",
   "execution_count": 26,
   "metadata": {},
   "outputs": [],
   "source": [
    "timer.to_csv(Path(\"./timer.csv\"))"
   ]
  },
  {
   "cell_type": "code",
   "execution_count": 27,
   "metadata": {},
   "outputs": [
    {
     "data": {
      "text/plain": [
       "dict_keys(['time', 'name', 'category'])"
      ]
     },
     "execution_count": 27,
     "metadata": {},
     "output_type": "execute_result"
    }
   ],
   "source": [
    "Event.keys()"
   ]
  },
  {
   "cell_type": "code",
   "execution_count": null,
   "metadata": {},
   "outputs": [],
   "source": []
  }
 ],
 "metadata": {
  "kernelspec": {
   "display_name": ".venv",
   "language": "python",
   "name": "python3"
  },
  "language_info": {
   "codemirror_mode": {
    "name": "ipython",
    "version": 3
   },
   "file_extension": ".py",
   "mimetype": "text/x-python",
   "name": "python",
   "nbconvert_exporter": "python",
   "pygments_lexer": "ipython3",
   "version": "3.11.10"
  }
 },
 "nbformat": 4,
 "nbformat_minor": 2
}
