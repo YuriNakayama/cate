{
 "cells": [
  {
   "cell_type": "markdown",
   "metadata": {},
   "source": [
    "# Import"
   ]
  },
  {
   "cell_type": "code",
   "execution_count": 14,
   "metadata": {},
   "outputs": [],
   "source": [
    "import mlflow\n",
    "import pandas as pd\n",
    "import lightgbm as lgb\n",
    "import numpy as np\n",
    "\n",
    "from sklearn.model_selection import StratifiedKFold\n",
    "from tqdm import tqdm\n",
    "from causalml.inference.meta import BaseTClassifier\n",
    "from cate.dataset import Dataset, to_rank\n",
    "from cate.utils import PathLinker, Timer, get_logger\n",
    "from cate.mlflow import initialize"
   ]
  },
  {
   "cell_type": "code",
   "execution_count": 15,
   "metadata": {},
   "outputs": [],
   "source": [
    "pathlinker = PathLinker().data.test\n",
    "timer = Timer()\n",
    "logger = get_logger(\"causalml\")\n",
    "experiment = initialize(\"test\")"
   ]
  },
  {
   "cell_type": "code",
   "execution_count": 9,
   "metadata": {},
   "outputs": [
    {
     "name": "stderr",
     "output_type": "stream",
     "text": [
      "2024/10/26 09:28:57 INFO mlflow.system_metrics.system_metrics_monitor: Started monitoring system metrics.\n"
     ]
    }
   ],
   "source": [
    "run = mlflow.start_run(experiment_id=experiment.experiment_id)"
   ]
  },
  {
   "cell_type": "markdown",
   "metadata": {},
   "source": [
    "# Functions"
   ]
  },
  {
   "cell_type": "markdown",
   "metadata": {},
   "source": [
    "# Model"
   ]
  },
  {
   "cell_type": "markdown",
   "metadata": {},
   "source": [
    "# Read Data"
   ]
  },
  {
   "cell_type": "code",
   "execution_count": 16,
   "metadata": {},
   "outputs": [],
   "source": [
    "ds = Dataset.load(pathlinker.base)"
   ]
  },
  {
   "cell_type": "markdown",
   "metadata": {},
   "source": [
    "# Model"
   ]
  },
  {
   "cell_type": "code",
   "execution_count": 17,
   "metadata": {},
   "outputs": [],
   "source": [
    "base_classifier = lgb.LGBMClassifier(\n",
    "    importance_type=\"gain\", random_state=42, force_col_wise=True, n_jobs=-1\n",
    ")\n",
    "base_regressor = lgb.LGBMRegressor(\n",
    "    importance_type=\"gain\", random_state=42, force_col_wise=True, n_jobs=-1\n",
    ")\n",
    "base_models = {\n",
    "    \"tlearner\": BaseTClassifier(base_classifier),\n",
    "}"
   ]
  },
  {
   "cell_type": "code",
   "execution_count": 18,
   "metadata": {},
   "outputs": [],
   "source": [
    "np.int = int  # type: ignore"
   ]
  },
  {
   "cell_type": "code",
   "execution_count": null,
   "metadata": {},
   "outputs": [],
   "source": [
    "skf = StratifiedKFold(5, shuffle=True, random_state=42)\n",
    "for name, model in base_models.items():\n",
    "    logger.info(f\"start {name}\")\n",
    "    models = []\n",
    "    indices = []\n",
    "    propencity_scores = []\n",
    "    for i, (train_idx, valid_idx) in tqdm(\n",
    "        enumerate(skf.split(np.zeros(len(ds)), ds.y))\n",
    "    ):\n",
    "        train_X = ds.X.iloc[train_idx]\n",
    "        train_y = ds.y.iloc[train_idx].to_numpy().reshape(-1)\n",
    "        train_w = ds.w.iloc[train_idx].to_numpy().reshape(-1)\n",
    "        valid_X = ds.X.iloc[valid_idx]\n",
    "        valid_y = ds.y.iloc[valid_idx].to_numpy().reshape(-1)\n",
    "        valid_w = ds.w.iloc[valid_idx].to_numpy().reshape(-1)\n",
    "\n",
    "        timer.start(name, \"train\", i)\n",
    "        model.fit(\n",
    "            train_X,\n",
    "            train_w,\n",
    "            train_y,\n",
    "            p=np.full(train_w.shape, train_w.mean()),\n",
    "        )\n",
    "        timer.stop(name, \"train\", i)\n",
    "        propencity_score = train_w.mean()\n",
    "        models.append(model)\n",
    "        indices.append(valid_idx)\n",
    "        propencity_scores.append(propencity_score)\n",
    "\n",
    "    model_info = mlflow.sklearn.log_model(model, \"model\")\n",
    "    result = mlflow.evaluate(\n",
    "        model_info.model_uri,\n",
    "        ds.to_pandas(),\n",
    "        targets=ds.w_columns + ds.y_columns,\n",
    "        feature_names=ds.x_columns,\n",
    "        extra_metrics = [],\n",
    "        custom_artifacts = []\n",
    "    )"
   ]
  },
  {
   "cell_type": "code",
   "execution_count": 7,
   "metadata": {},
   "outputs": [
    {
     "data": {
      "text/plain": [
       "{0: 0, 1: 1, 2: 4, 3: 9, 4: 16, 5: 25, 6: 36, 7: 49, 8: 64, 9: 81}"
      ]
     },
     "execution_count": 7,
     "metadata": {},
     "output_type": "execute_result"
    }
   ],
   "source": [
    "from typing import Literal\n",
    "\n",
    "\n",
    "def hoge(i) -> tuple[Literal[1], Literal[2]]:\n",
    "    return i, i**2\n",
    "\n",
    "dict(hoge(i) for i in range(10))"
   ]
  },
  {
   "cell_type": "code",
   "execution_count": null,
   "metadata": {},
   "outputs": [],
   "source": []
  }
 ],
 "metadata": {
  "kernelspec": {
   "display_name": ".venv",
   "language": "python",
   "name": "python3"
  },
  "language_info": {
   "codemirror_mode": {
    "name": "ipython",
    "version": 3
   },
   "file_extension": ".py",
   "mimetype": "text/x-python",
   "name": "python",
   "nbconvert_exporter": "python",
   "pygments_lexer": "ipython3",
   "version": "3.11.10"
  }
 },
 "nbformat": 4,
 "nbformat_minor": 2
}
