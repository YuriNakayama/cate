{
 "cells": [
  {
   "cell_type": "code",
   "execution_count": 79,
   "metadata": {},
   "outputs": [],
   "source": [
    "import mlflow\n",
    "from tempfile import TemporaryDirectory\n",
    "from pathlib import Path\n",
    "import mlflow.system_metrics\n",
    "import numpy as np\n",
    "import matplotlib.pyplot as plt\n",
    "from matplotlib.figure import Figure\n",
    "import pandas as pd"
   ]
  },
  {
   "cell_type": "code",
   "execution_count": 32,
   "metadata": {},
   "outputs": [],
   "source": [
    "tmpdir = TemporaryDirectory(dir=Path.cwd())\n",
    "tracking_uri = f\"file://{tmpdir.name}\""
   ]
  },
  {
   "cell_type": "code",
   "execution_count": 64,
   "metadata": {},
   "outputs": [],
   "source": [
    "mlflow.set_tracking_uri(\"http://ec2-44-217-145-52.compute-1.amazonaws.com:5000\")\n",
    "experiment = mlflow.set_experiment(\"test\")\n",
    "mlflow.system_metrics.enable_system_metrics_logging()"
   ]
  },
  {
   "cell_type": "code",
   "execution_count": 65,
   "metadata": {},
   "outputs": [
    {
     "name": "stderr",
     "output_type": "stream",
     "text": [
      "2024/11/05 03:42:31 INFO mlflow.system_metrics.system_metrics_monitor: Started monitoring system metrics.\n"
     ]
    },
    {
     "data": {
      "text/plain": [
       "<ActiveRun: >"
      ]
     },
     "execution_count": 65,
     "metadata": {},
     "output_type": "execute_result"
    }
   ],
   "source": [
    "mlflow.start_run()"
   ]
  },
  {
   "cell_type": "code",
   "execution_count": 66,
   "metadata": {},
   "outputs": [],
   "source": [
    "def plot() -> Figure:\n",
    "    fig = plt.figure()\n",
    "    ax = fig.add_subplot(111)\n",
    "    ax.plot(np.random.rand(10))\n",
    "    plt.close()\n",
    "    return fig"
   ]
  },
  {
   "cell_type": "code",
   "execution_count": 81,
   "metadata": {},
   "outputs": [],
   "source": [
    "for model in range(5):\n",
    "    for epoch in range(5):\n",
    "        mlflow.log_metric(f\"auuc_{model}\", np.random.rand(), step=epoch)\n",
    "    with TemporaryDirectory() as tmpdir:\n",
    "        fig = plot()\n",
    "        fig.savefig(Path(tmpdir) / \"plot.png\")\n",
    "        mlflow.log_artifacts(tmpdir, f\"model_{model}_uplift_curve\")\n",
    "\n",
    "        mlflow.log_figure(fig, f\"uplift_curve_by_log_figure/model_{model}.png\")\n",
    "        mlflow.log_table(pd.DataFrame(np.random.rand(10, 10)), f\"table_{model}.json\")"
   ]
  },
  {
   "cell_type": "code",
   "execution_count": 78,
   "metadata": {},
   "outputs": [
    {
     "name": "stderr",
     "output_type": "stream",
     "text": [
      "2024/11/05 03:57:54 INFO mlflow.tracking._tracking_service.client: 🏃 View run sincere-bird-154 at: http://ec2-44-217-145-52.compute-1.amazonaws.com:5000/#/experiments/2/runs/a6a6851625d84648a8ea33c597896469.\n"
     ]
    },
    {
     "name": "stderr",
     "output_type": "stream",
     "text": [
      "2024/11/05 03:57:54 INFO mlflow.tracking._tracking_service.client: 🧪 View experiment at: http://ec2-44-217-145-52.compute-1.amazonaws.com:5000/#/experiments/2.\n",
      "2024/11/05 03:57:54 INFO mlflow.system_metrics.system_metrics_monitor: Stopping system metrics monitoring...\n",
      "2024/11/05 03:57:54 INFO mlflow.system_metrics.system_metrics_monitor: Successfully terminated system metrics monitoring!\n"
     ]
    }
   ],
   "source": [
    "mlflow.end_run()"
   ]
  },
  {
   "cell_type": "code",
   "execution_count": null,
   "metadata": {},
   "outputs": [],
   "source": []
  }
 ],
 "metadata": {
  "kernelspec": {
   "display_name": ".venv",
   "language": "python",
   "name": "python3"
  },
  "language_info": {
   "codemirror_mode": {
    "name": "ipython",
    "version": 3
   },
   "file_extension": ".py",
   "mimetype": "text/x-python",
   "name": "python",
   "nbconvert_exporter": "python",
   "pygments_lexer": "ipython3",
   "version": "3.11.10"
  }
 },
 "nbformat": 4,
 "nbformat_minor": 2
}
