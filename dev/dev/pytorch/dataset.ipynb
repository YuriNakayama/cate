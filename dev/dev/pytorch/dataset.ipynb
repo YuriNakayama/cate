{
 "cells": [
  {
   "cell_type": "markdown",
   "metadata": {},
   "source": [
    "## Import"
   ]
  },
  {
   "cell_type": "code",
   "execution_count": 18,
   "metadata": {},
   "outputs": [],
   "source": [
    "import random\n",
    "\n",
    "import matplotlib.pyplot as plt\n",
    "import numpy as np\n",
    "import polars as pl\n",
    "import torch\n",
    "import torch.nn as nn\n",
    "import torch.optim as optim\n",
    "from sklearn.model_selection import StratifiedKFold\n",
    "from torch import Tensor\n",
    "from torch.utils.data import DataLoader, Dataset, Subset\n",
    "from tqdm.notebook import tqdm\n"
   ]
  },
  {
   "cell_type": "markdown",
   "metadata": {},
   "source": [
    "## Functions"
   ]
  },
  {
   "cell_type": "code",
   "execution_count": 19,
   "metadata": {},
   "outputs": [],
   "source": [
    "# 乱数シード固定（再現性の担保）\n",
    "def fix_seed(seed) -> None:\n",
    "    # random\n",
    "    random.seed(seed)\n",
    "    # numpy\n",
    "    np.random.seed(seed)\n",
    "    # pytorch\n",
    "    torch.manual_seed(seed)\n",
    "    torch.cuda.manual_seed_all(seed)\n",
    "    torch.backends.cudnn.deterministic = True\n",
    "    torch.backends.cudnn.benchmark = False"
   ]
  },
  {
   "cell_type": "code",
   "execution_count": 20,
   "metadata": {},
   "outputs": [],
   "source": [
    "# データローダーのサブプロセスの乱数seedが固定\n",
    "def worker_init_fn(worker_id) -> None:\n",
    "    np.random.seed(np.random.get_state()[1][0] + worker_id)"
   ]
  },
  {
   "cell_type": "code",
   "execution_count": 21,
   "metadata": {},
   "outputs": [],
   "source": [
    "class Mydataset(Dataset):\n",
    "    def __init__(self, df, x_columns, y_columns) -> None:\n",
    "        self._df = df\n",
    "        self.x_columns = x_columns\n",
    "        self.y_columns = y_columns\n",
    "\n",
    "    def __len__(self) -> int:\n",
    "        return self._df.select(pl.len()).to_numpy()[0][0]\n",
    "\n",
    "    def __getitem__(self, idx) -> tuple[Tensor, Tensor]:\n",
    "        features = np.array(self._df.select(self.x_columns).row(idx))\n",
    "        target = np.array(self._df.select(self.y_columns).row(idx))\n",
    "        return torch.tensor(features, dtype=torch.float32), torch.tensor(\n",
    "            target, dtype=torch.float32\n",
    "        )\n",
    "    @property\n",
    "    def y(self) -> Tensor:\n",
    "        return self._df.select(self.y_columns).to_torch()"
   ]
  },
  {
   "cell_type": "code",
   "execution_count": 26,
   "metadata": {},
   "outputs": [],
   "source": [
    "# モデルの定義\n",
    "class Mymodel(nn.Module):\n",
    "    def __init__(self, input_dim, output_dim) -> None:\n",
    "        super().__init__()\n",
    "        dim1 = int(input_dim / 2)\n",
    "        self.fc1 = nn.Sequential(\n",
    "            nn.Linear(input_dim, dim1),\n",
    "            nn.ReLU(),\n",
    "            nn.Dropout(0.1),\n",
    "        )\n",
    "        dim2 = int(dim1 / 2)\n",
    "        self.fc2 = nn.Sequential(\n",
    "            nn.Linear(dim1, dim2),\n",
    "            nn.ReLU(),\n",
    "            nn.Dropout(0.1),\n",
    "        )\n",
    "        dim3 = int(dim2 / 2)\n",
    "        self.fc3 = nn.Sequential(\n",
    "            nn.Linear(dim2, dim3),\n",
    "            nn.ReLU(),\n",
    "            nn.Dropout(0.1),\n",
    "        )\n",
    "        self.output = nn.Sequential(\n",
    "            nn.Linear(dim3, output_dim),\n",
    "            nn.Sigmoid(),\n",
    "        )\n",
    "\n",
    "    def forward(self, x) -> Tensor:\n",
    "        x = self.fc1(x)\n",
    "        x = self.fc2(x)\n",
    "        x = self.fc3(x)\n",
    "        return self.output(x)\n"
   ]
  },
  {
   "cell_type": "markdown",
   "metadata": {},
   "source": [
    "## Settings"
   ]
  },
  {
   "cell_type": "code",
   "execution_count": 27,
   "metadata": {},
   "outputs": [],
   "source": [
    "# リソースの指定（CPU/GPU）\n",
    "device = torch.device(\"cuda:0\" if torch.cuda.is_available() else \"cpu\")\n",
    "seed = 42\n",
    "fix_seed(seed)"
   ]
  },
  {
   "cell_type": "markdown",
   "metadata": {},
   "source": [
    "## Process"
   ]
  },
  {
   "cell_type": "markdown",
   "metadata": {},
   "source": [
    "### Read Data"
   ]
  },
  {
   "cell_type": "code",
   "execution_count": 28,
   "metadata": {},
   "outputs": [],
   "source": [
    "df = pl.read_csv(\"/workspace/data/origin/criteo.csv\").head(100_000)\n",
    "y_columns = [\"visit\"]\n",
    "other_columns = [\"treatment\", \"exposure\", \"conversion\"]\n",
    "X_columns = [col for col in df.columns if col not in y_columns + other_columns]\n",
    "dataset = Mydataset(df, X_columns, y_columns)"
   ]
  },
  {
   "cell_type": "code",
   "execution_count": 29,
   "metadata": {},
   "outputs": [],
   "source": [
    "# モデル・損失関数・最適化アルゴリスムの設定\n",
    "model = Mymodel(len(X_columns), 1).to(device)\n",
    "criterion = nn.CrossEntropyLoss()\n",
    "optimizer = optim.SGD(model.parameters(), lr=0.01)\n",
    "\n",
    "\n",
    "# モデル訓練関数\n",
    "def train_model(model, train_loader, test_loader):\n",
    "    # Train loop ----------------------------\n",
    "    model.train()  # 学習モードをオン\n",
    "    train_batch_loss = []\n",
    "    for data, label in train_loader:\n",
    "        # GPUへの転送\n",
    "        data, label = data.to(device), label.to(device)\n",
    "        # 1. 勾配リセット\n",
    "        optimizer.zero_grad()\n",
    "        # 2. 推論\n",
    "        output = model(data)\n",
    "        # 3. 誤差計算\n",
    "        loss = criterion(output, label)\n",
    "        # 4. 誤差逆伝播\n",
    "        loss.backward()\n",
    "        # 5. パラメータ更新\n",
    "        optimizer.step()\n",
    "        # train_lossの取得\n",
    "        train_batch_loss.append(loss.item())\n",
    "\n",
    "    # Test(val) loop ----------------------------\n",
    "    model.eval()  # 学習モードをオフ\n",
    "    test_batch_loss = []\n",
    "    with torch.no_grad():  # 勾配を計算なし\n",
    "        for data, label in test_loader:\n",
    "            data, label = data.to(device), label.to(device)\n",
    "            output = model(data)\n",
    "            loss = criterion(output, label)\n",
    "            test_batch_loss.append(loss.item())\n",
    "\n",
    "    return model, np.mean(train_batch_loss), np.mean(test_batch_loss)"
   ]
  },
  {
   "cell_type": "code",
   "execution_count": 30,
   "metadata": {},
   "outputs": [
    {
     "data": {
      "application/vnd.jupyter.widget-view+json": {
       "model_id": "4a6b08b4139d484081463e1179adf693",
       "version_major": 2,
       "version_minor": 0
      },
      "text/plain": [
       "  0%|          | 0/3 [00:00<?, ?it/s]"
      ]
     },
     "metadata": {},
     "output_type": "display_data"
    },
    {
     "name": "stdout",
     "output_type": "stream",
     "text": [
      "Train loss: 0.000, Test loss: 0.000\n",
      "Train loss: 0.000, Test loss: 0.000\n",
      "Train loss: 0.000, Test loss: 0.000\n",
      "Train loss: 0.000, Test loss: 0.000\n",
      "Train loss: 0.000, Test loss: 0.000\n"
     ]
    }
   ],
   "source": [
    "# 訓練の実行\n",
    "epoch = 3\n",
    "train_loss = []\n",
    "test_loss = []\n",
    "\n",
    "for epoch in tqdm(range(epoch)):\n",
    "    skf = StratifiedKFold(n_splits=5, shuffle=True, random_state=seed)\n",
    "    for train_index, valid_index in skf.split(range(len(dataset)), dataset.y):\n",
    "        train_dataset = Subset(dataset, train_index)\n",
    "        valid_dataset = Subset(dataset, valid_index)\n",
    "\n",
    "        # データローダーの作成\n",
    "        train_loader = DataLoader(\n",
    "            train_dataset,\n",
    "            batch_size=32,\n",
    "            shuffle=True,\n",
    "            num_workers=2,\n",
    "            pin_memory=True,\n",
    "            worker_init_fn=worker_init_fn,\n",
    "        )\n",
    "        valid_loader = DataLoader(\n",
    "            valid_dataset,\n",
    "            batch_size=16,\n",
    "            shuffle=False,\n",
    "            num_workers=2,\n",
    "            pin_memory=True,\n",
    "            worker_init_fn=worker_init_fn,\n",
    "        )\n",
    "\n",
    "        model, train_l, test_l = train_model(model, train_loader, valid_loader)\n",
    "        train_loss.append(train_l)\n",
    "        test_loss.append(test_l)\n",
    "        # 10エポックごとにロスを表示\n",
    "        if epoch % 10 == 0:\n",
    "            print(\n",
    "                \"Train loss: {a:.3f}, Test loss: {b:.3f}\".format(\n",
    "                    a=train_loss[-1], b=test_loss[-1]\n",
    "                )\n",
    "            )\n"
   ]
  },
  {
   "cell_type": "code",
   "execution_count": 31,
   "metadata": {},
   "outputs": [
    {
     "data": {
      "text/plain": [
       "<matplotlib.legend.Legend at 0x71ff177ae890>"
      ]
     },
     "execution_count": 31,
     "metadata": {},
     "output_type": "execute_result"
    },
    {
     "data": {
      "image/png": "[encoded data removed]",
      "text/plain": [
       "<Figure size 640x480 with 1 Axes>"
      ]
     },
     "metadata": {},
     "output_type": "display_data"
    }
   ],
   "source": [
    "# 学習状況（ロス）の確認\n",
    "plt.plot(train_loss, label=\"train_loss\")\n",
    "plt.plot(test_loss, label=\"test_loss\")\n",
    "plt.legend()\n"
   ]
  },
  {
   "cell_type": "code",
   "execution_count": 32,
   "metadata": {},
   "outputs": [
    {
     "data": {
      "text/plain": [
       "Mymodel(\n",
       "  (fc1): Sequential(\n",
       "    (0): Linear(in_features=12, out_features=6, bias=True)\n",
       "    (1): ReLU()\n",
       "    (2): Dropout(p=0.1, inplace=False)\n",
       "  )\n",
       "  (fc2): Sequential(\n",
       "    (0): Linear(in_features=6, out_features=3, bias=True)\n",
       "    (1): ReLU()\n",
       "    (2): Dropout(p=0.1, inplace=False)\n",
       "  )\n",
       "  (fc3): Sequential(\n",
       "    (0): Linear(in_features=3, out_features=1, bias=True)\n",
       "    (1): ReLU()\n",
       "    (2): Dropout(p=0.1, inplace=False)\n",
       "  )\n",
       "  (output): Sequential(\n",
       "    (0): Linear(in_features=1, out_features=1, bias=True)\n",
       "    (1): Sigmoid()\n",
       "  )\n",
       ")"
      ]
     },
     "execution_count": 32,
     "metadata": {},
     "output_type": "execute_result"
    }
   ],
   "source": [
    "model"
   ]
  },
  {
   "cell_type": "code",
   "execution_count": null,
   "metadata": {},
   "outputs": [],
   "source": []
  }
 ],
 "metadata": {
  "kernelspec": {
   "display_name": "cate",
   "language": "python",
   "name": "cate"
  },
  "language_info": {
   "codemirror_mode": {
    "name": "ipython",
    "version": 3
   },
   "file_extension": ".py",
   "mimetype": "text/x-python",
   "name": "python",
   "nbconvert_exporter": "python",
   "pygments_lexer": "ipython3",
   "version": "3.11.10"
  }
 },
 "nbformat": 4,
 "nbformat_minor": 2
}
